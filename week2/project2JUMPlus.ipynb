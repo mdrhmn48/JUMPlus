{
  "cells": [
    {
      "cell_type": "markdown",
      "metadata": {
        "id": "1b-TtEFkoDAX"
      },
      "source": [
        "#Importing Libraries"
      ]
    },
    {
      "cell_type": "code",
      "execution_count": 57,
      "metadata": {},
      "outputs": [
        {
          "name": "stdout",
          "output_type": "stream",
          "text": [
            "Collecting chardetNote: you may need to restart the kernel to use updated packages.\n",
            "\n",
            "  Downloading chardet-5.1.0-py3-none-any.whl (199 kB)\n",
            "     -------------------------------------- 199.1/199.1 kB 6.1 MB/s eta 0:00:00\n",
            "Installing collected packages: chardet\n",
            "Successfully installed chardet-5.1.0\n"
          ]
        }
      ],
      "source": [
        "pip install chardet"
      ]
    },
    {
      "cell_type": "code",
      "execution_count": 58,
      "metadata": {
        "id": "LNBo8vKej6ih"
      },
      "outputs": [
        {
          "ename": "AttributeError",
          "evalue": "partially initialized module 'charset_normalizer' has no attribute 'md__mypyc' (most likely due to a circular import)",
          "output_type": "error",
          "traceback": [
            "\u001b[1;31m---------------------------------------------------------------------------\u001b[0m",
            "\u001b[1;31mAttributeError\u001b[0m                            Traceback (most recent call last)",
            "Cell \u001b[1;32mIn[58], line 6\u001b[0m\n\u001b[0;32m      4\u001b[0m \u001b[39mimport\u001b[39;00m \u001b[39mseaborn\u001b[39;00m \u001b[39mas\u001b[39;00m \u001b[39msns\u001b[39;00m\n\u001b[0;32m      5\u001b[0m \u001b[39mimport\u001b[39;00m \u001b[39mchardet\u001b[39;00m\n\u001b[1;32m----> 6\u001b[0m \u001b[39mimport\u001b[39;00m \u001b[39mstreamlit\u001b[39;00m \u001b[39mas\u001b[39;00m \u001b[39mst\u001b[39;00m\n",
            "File \u001b[1;32mc:\\Users\\MD_Rahman\\anaconda3\\envs\\md_env\\lib\\site-packages\\streamlit\\__init__.py:50\u001b[0m\n\u001b[0;32m     48\u001b[0m \u001b[39mfrom\u001b[39;00m \u001b[39mstreamlit\u001b[39;00m \u001b[39mimport\u001b[39;00m logger \u001b[39mas\u001b[39;00m _logger\n\u001b[0;32m     49\u001b[0m \u001b[39mfrom\u001b[39;00m \u001b[39mstreamlit\u001b[39;00m \u001b[39mimport\u001b[39;00m config \u001b[39mas\u001b[39;00m _config\n\u001b[1;32m---> 50\u001b[0m \u001b[39mfrom\u001b[39;00m \u001b[39mstreamlit\u001b[39;00m\u001b[39m.\u001b[39;00m\u001b[39mversion\u001b[39;00m \u001b[39mimport\u001b[39;00m STREAMLIT_VERSION_STRING \u001b[39mas\u001b[39;00m _STREAMLIT_VERSION_STRING\n\u001b[0;32m     52\u001b[0m \u001b[39m# Give the package a version.\u001b[39;00m\n\u001b[0;32m     53\u001b[0m __version__ \u001b[39m=\u001b[39m _STREAMLIT_VERSION_STRING\n",
            "File \u001b[1;32mc:\\Users\\MD_Rahman\\anaconda3\\envs\\md_env\\lib\\site-packages\\streamlit\\version.py:19\u001b[0m\n\u001b[0;32m     16\u001b[0m \u001b[39mimport\u001b[39;00m \u001b[39mrandom\u001b[39;00m\n\u001b[0;32m     18\u001b[0m \u001b[39mimport\u001b[39;00m \u001b[39mpackaging\u001b[39;00m\u001b[39m.\u001b[39;00m\u001b[39mversion\u001b[39;00m\n\u001b[1;32m---> 19\u001b[0m \u001b[39mimport\u001b[39;00m \u001b[39mrequests\u001b[39;00m\n\u001b[0;32m     20\u001b[0m \u001b[39mfrom\u001b[39;00m \u001b[39mimportlib_metadata\u001b[39;00m \u001b[39mimport\u001b[39;00m version \u001b[39mas\u001b[39;00m _version\n\u001b[0;32m     21\u001b[0m \u001b[39mfrom\u001b[39;00m \u001b[39mtyping_extensions\u001b[39;00m \u001b[39mimport\u001b[39;00m Final\n",
            "File \u001b[1;32mc:\\Users\\MD_Rahman\\anaconda3\\envs\\md_env\\lib\\site-packages\\requests\\__init__.py:48\u001b[0m\n\u001b[0;32m     45\u001b[0m \u001b[39mfrom\u001b[39;00m \u001b[39m.\u001b[39;00m\u001b[39mexceptions\u001b[39;00m \u001b[39mimport\u001b[39;00m RequestsDependencyWarning\n\u001b[0;32m     47\u001b[0m \u001b[39mtry\u001b[39;00m:\n\u001b[1;32m---> 48\u001b[0m     \u001b[39mfrom\u001b[39;00m \u001b[39mcharset_normalizer\u001b[39;00m \u001b[39mimport\u001b[39;00m __version__ \u001b[39mas\u001b[39;00m charset_normalizer_version\n\u001b[0;32m     49\u001b[0m \u001b[39mexcept\u001b[39;00m \u001b[39mImportError\u001b[39;00m:\n\u001b[0;32m     50\u001b[0m     charset_normalizer_version \u001b[39m=\u001b[39m \u001b[39mNone\u001b[39;00m\n",
            "File \u001b[1;32mc:\\Users\\MD_Rahman\\anaconda3\\envs\\md_env\\lib\\site-packages\\charset_normalizer\\__init__.py:23\u001b[0m\n\u001b[0;32m      1\u001b[0m \u001b[39m\"\"\"\u001b[39;00m\n\u001b[0;32m      2\u001b[0m \u001b[39mCharset-Normalizer\u001b[39;00m\n\u001b[0;32m      3\u001b[0m \u001b[39m~~~~~~~~~~~~~~\u001b[39;00m\n\u001b[1;32m   (...)\u001b[0m\n\u001b[0;32m     21\u001b[0m \u001b[39m:license: MIT, see LICENSE for more details.\u001b[39;00m\n\u001b[0;32m     22\u001b[0m \u001b[39m\"\"\"\u001b[39;00m\n\u001b[1;32m---> 23\u001b[0m \u001b[39mfrom\u001b[39;00m \u001b[39mcharset_normalizer\u001b[39;00m\u001b[39m.\u001b[39;00m\u001b[39mapi\u001b[39;00m \u001b[39mimport\u001b[39;00m from_fp, from_path, from_bytes, normalize\n\u001b[0;32m     24\u001b[0m \u001b[39mfrom\u001b[39;00m \u001b[39mcharset_normalizer\u001b[39;00m\u001b[39m.\u001b[39;00m\u001b[39mlegacy\u001b[39;00m \u001b[39mimport\u001b[39;00m detect\n\u001b[0;32m     25\u001b[0m \u001b[39mfrom\u001b[39;00m \u001b[39mcharset_normalizer\u001b[39;00m\u001b[39m.\u001b[39;00m\u001b[39mversion\u001b[39;00m \u001b[39mimport\u001b[39;00m __version__, VERSION\n",
            "File \u001b[1;32mc:\\Users\\MD_Rahman\\anaconda3\\envs\\md_env\\lib\\site-packages\\charset_normalizer\\api.py:10\u001b[0m\n\u001b[0;32m      7\u001b[0m     PathLike \u001b[39m=\u001b[39m Union[\u001b[39mstr\u001b[39m, \u001b[39m'\u001b[39m\u001b[39mos.PathLike[str]\u001b[39m\u001b[39m'\u001b[39m]  \u001b[39m# type: ignore\u001b[39;00m\n\u001b[0;32m      9\u001b[0m \u001b[39mfrom\u001b[39;00m \u001b[39mcharset_normalizer\u001b[39;00m\u001b[39m.\u001b[39;00m\u001b[39mconstant\u001b[39;00m \u001b[39mimport\u001b[39;00m TOO_SMALL_SEQUENCE, TOO_BIG_SEQUENCE, IANA_SUPPORTED\n\u001b[1;32m---> 10\u001b[0m \u001b[39mfrom\u001b[39;00m \u001b[39mcharset_normalizer\u001b[39;00m\u001b[39m.\u001b[39;00m\u001b[39mmd\u001b[39;00m \u001b[39mimport\u001b[39;00m mess_ratio\n\u001b[0;32m     11\u001b[0m \u001b[39mfrom\u001b[39;00m \u001b[39mcharset_normalizer\u001b[39;00m\u001b[39m.\u001b[39;00m\u001b[39mmodels\u001b[39;00m \u001b[39mimport\u001b[39;00m CharsetMatches, CharsetMatch\n\u001b[0;32m     12\u001b[0m \u001b[39mfrom\u001b[39;00m \u001b[39mwarnings\u001b[39;00m \u001b[39mimport\u001b[39;00m warn\n",
            "\u001b[1;31mAttributeError\u001b[0m: partially initialized module 'charset_normalizer' has no attribute 'md__mypyc' (most likely due to a circular import)"
          ]
        }
      ],
      "source": [
        "#importing libraries\n",
        "import pandas as pd\n",
        "import matplotlib.pyplot as plt\n",
        "import seaborn as sns\n",
        "import chardet\n",
        "import streamlit as st"
      ]
    },
    {
      "cell_type": "markdown",
      "metadata": {
        "id": "8iiokNn6oMxv"
      },
      "source": [
        "#Read CSV"
      ]
    },
    {
      "cell_type": "code",
      "execution_count": 8,
      "metadata": {
        "colab": {
          "base_uri": "https://localhost:8080/",
          "height": 81
        },
        "id": "GDHiGLyBkaim",
        "outputId": "d4655537-a00b-4513-8252-04503c6f6971"
      },
      "outputs": [
        {
          "data": {
            "text/html": [
              "<div>\n",
              "<style scoped>\n",
              "    .dataframe tbody tr th:only-of-type {\n",
              "        vertical-align: middle;\n",
              "    }\n",
              "\n",
              "    .dataframe tbody tr th {\n",
              "        vertical-align: top;\n",
              "    }\n",
              "\n",
              "    .dataframe thead th {\n",
              "        text-align: right;\n",
              "    }\n",
              "</style>\n",
              "<table border=\"1\" class=\"dataframe\">\n",
              "  <thead>\n",
              "    <tr style=\"text-align: right;\">\n",
              "      <th></th>\n",
              "      <th>Name</th>\n",
              "      <th>Alignment</th>\n",
              "      <th>Intelligence</th>\n",
              "      <th>Strength</th>\n",
              "      <th>Speed</th>\n",
              "      <th>Durability</th>\n",
              "      <th>Power</th>\n",
              "      <th>Combat</th>\n",
              "      <th>Total</th>\n",
              "    </tr>\n",
              "  </thead>\n",
              "  <tbody>\n",
              "    <tr>\n",
              "      <th>0</th>\n",
              "      <td>3-D Man</td>\n",
              "      <td>good</td>\n",
              "      <td>50</td>\n",
              "      <td>31</td>\n",
              "      <td>43</td>\n",
              "      <td>32</td>\n",
              "      <td>25</td>\n",
              "      <td>52</td>\n",
              "      <td>233</td>\n",
              "    </tr>\n",
              "  </tbody>\n",
              "</table>\n",
              "</div>"
            ],
            "text/plain": [
              "      Name Alignment  Intelligence  Strength  Speed  Durability  Power  \\\n",
              "0  3-D Man      good            50        31     43          32     25   \n",
              "\n",
              "   Combat  Total  \n",
              "0      52    233  "
            ]
          },
          "execution_count": 8,
          "metadata": {},
          "output_type": "execute_result"
        }
      ],
      "source": [
        "#2. Reading csv file\n",
        "df = pd.read_csv(\"charcters_stats.csv\")\n",
        "df = df.dropna()\n",
        "#Show first records from csv\n",
        "df.head(1)"
      ]
    },
    {
      "cell_type": "code",
      "execution_count": 9,
      "metadata": {
        "colab": {
          "base_uri": "https://localhost:8080/"
        },
        "id": "MZbP0qRSmozd",
        "outputId": "29c383e3-9bed-42d8-c6b5-51b1c6c2ed1f"
      },
      "outputs": [
        {
          "name": "stdout",
          "output_type": "stream",
          "text": [
            "['Name', 'Alignment', 'Intelligence', 'Strength', 'Speed', 'Durability', 'Power', 'Combat', 'Total']\n",
            "Number of rows:  608\n",
            "Number of columns:  9\n"
          ]
        }
      ],
      "source": [
        "# showing each column's name.\n",
        "print(df.columns.tolist())\n",
        "#4. Need to show number of rows and columns of this dataset\n",
        "print(\"Number of rows: \", len(df))\n",
        "print(\"Number of columns: \", len(df.columns))\n"
      ]
    },
    {
      "cell_type": "code",
      "execution_count": 10,
      "metadata": {
        "colab": {
          "base_uri": "https://localhost:8080/"
        },
        "id": "Zmv05Ocuo_7h",
        "outputId": "b26fb389-228b-41b4-81ee-dcebe18859e6"
      },
      "outputs": [
        {
          "data": {
            "text/plain": [
              "good       432\n",
              "bad        165\n",
              "neutral     11\n",
              "Name: Alignment, dtype: int64"
            ]
          },
          "execution_count": 10,
          "metadata": {},
          "output_type": "execute_result"
        }
      ],
      "source": [
        "# 5. You need to find the values of alignment,can use value_counts()\n",
        "df[\"Alignment\"].value_counts()"
      ]
    },
    {
      "cell_type": "code",
      "execution_count": 11,
      "metadata": {
        "colab": {
          "base_uri": "https://localhost:8080/",
          "height": 206
        },
        "id": "0vF4Bd6xr7hw",
        "outputId": "5d4c694b-0b44-45af-91d4-f79797eade26"
      },
      "outputs": [
        {
          "data": {
            "text/html": [
              "<div>\n",
              "<style scoped>\n",
              "    .dataframe tbody tr th:only-of-type {\n",
              "        vertical-align: middle;\n",
              "    }\n",
              "\n",
              "    .dataframe tbody tr th {\n",
              "        vertical-align: top;\n",
              "    }\n",
              "\n",
              "    .dataframe thead th {\n",
              "        text-align: right;\n",
              "    }\n",
              "</style>\n",
              "<table border=\"1\" class=\"dataframe\">\n",
              "  <thead>\n",
              "    <tr style=\"text-align: right;\">\n",
              "      <th></th>\n",
              "      <th>Name</th>\n",
              "      <th>Alignment</th>\n",
              "      <th>Intelligence</th>\n",
              "      <th>Strength</th>\n",
              "      <th>Speed</th>\n",
              "      <th>Durability</th>\n",
              "      <th>Power</th>\n",
              "      <th>Combat</th>\n",
              "      <th>Total</th>\n",
              "    </tr>\n",
              "  </thead>\n",
              "  <tbody>\n",
              "    <tr>\n",
              "      <th>0</th>\n",
              "      <td>3-D Man</td>\n",
              "      <td>good</td>\n",
              "      <td>50</td>\n",
              "      <td>31</td>\n",
              "      <td>43</td>\n",
              "      <td>32</td>\n",
              "      <td>25</td>\n",
              "      <td>52</td>\n",
              "      <td>233</td>\n",
              "    </tr>\n",
              "    <tr>\n",
              "      <th>1</th>\n",
              "      <td>A-Bomb</td>\n",
              "      <td>good</td>\n",
              "      <td>38</td>\n",
              "      <td>100</td>\n",
              "      <td>17</td>\n",
              "      <td>80</td>\n",
              "      <td>17</td>\n",
              "      <td>64</td>\n",
              "      <td>316</td>\n",
              "    </tr>\n",
              "    <tr>\n",
              "      <th>2</th>\n",
              "      <td>Abe Sapien</td>\n",
              "      <td>good</td>\n",
              "      <td>88</td>\n",
              "      <td>14</td>\n",
              "      <td>35</td>\n",
              "      <td>42</td>\n",
              "      <td>35</td>\n",
              "      <td>85</td>\n",
              "      <td>299</td>\n",
              "    </tr>\n",
              "    <tr>\n",
              "      <th>3</th>\n",
              "      <td>Abin Sur</td>\n",
              "      <td>good</td>\n",
              "      <td>50</td>\n",
              "      <td>90</td>\n",
              "      <td>53</td>\n",
              "      <td>64</td>\n",
              "      <td>84</td>\n",
              "      <td>65</td>\n",
              "      <td>406</td>\n",
              "    </tr>\n",
              "    <tr>\n",
              "      <th>6</th>\n",
              "      <td>Adam Monroe</td>\n",
              "      <td>good</td>\n",
              "      <td>63</td>\n",
              "      <td>10</td>\n",
              "      <td>12</td>\n",
              "      <td>100</td>\n",
              "      <td>71</td>\n",
              "      <td>64</td>\n",
              "      <td>320</td>\n",
              "    </tr>\n",
              "  </tbody>\n",
              "</table>\n",
              "</div>"
            ],
            "text/plain": [
              "          Name Alignment  Intelligence  Strength  Speed  Durability  Power  \\\n",
              "0      3-D Man      good            50        31     43          32     25   \n",
              "1       A-Bomb      good            38       100     17          80     17   \n",
              "2   Abe Sapien      good            88        14     35          42     35   \n",
              "3     Abin Sur      good            50        90     53          64     84   \n",
              "6  Adam Monroe      good            63        10     12         100     71   \n",
              "\n",
              "   Combat  Total  \n",
              "0      52    233  \n",
              "1      64    316  \n",
              "2      85    299  \n",
              "3      65    406  \n",
              "6      64    320  "
            ]
          },
          "execution_count": 11,
          "metadata": {},
          "output_type": "execute_result"
        }
      ],
      "source": [
        "# 6. Find out only good alignment holders superheroes\n",
        "super_heroes = df[df[\"Alignment\"] == \"good\"]\n",
        "# 7. Show first five records which you found in point 6\n",
        "super_heroes.head()"
      ]
    },
    {
      "cell_type": "code",
      "execution_count": 12,
      "metadata": {
        "colab": {
          "base_uri": "https://localhost:8080/",
          "height": 206
        },
        "id": "kVDkrZb_sx18",
        "outputId": "49b7248d-cd98-479d-f272-cfbec94f5695"
      },
      "outputs": [
        {
          "data": {
            "text/html": [
              "<div>\n",
              "<style scoped>\n",
              "    .dataframe tbody tr th:only-of-type {\n",
              "        vertical-align: middle;\n",
              "    }\n",
              "\n",
              "    .dataframe tbody tr th {\n",
              "        vertical-align: top;\n",
              "    }\n",
              "\n",
              "    .dataframe thead th {\n",
              "        text-align: right;\n",
              "    }\n",
              "</style>\n",
              "<table border=\"1\" class=\"dataframe\">\n",
              "  <thead>\n",
              "    <tr style=\"text-align: right;\">\n",
              "      <th></th>\n",
              "      <th>Name</th>\n",
              "      <th>Alignment</th>\n",
              "      <th>Intelligence</th>\n",
              "      <th>Strength</th>\n",
              "      <th>Speed</th>\n",
              "      <th>Durability</th>\n",
              "      <th>Power</th>\n",
              "      <th>Combat</th>\n",
              "      <th>Total</th>\n",
              "    </tr>\n",
              "  </thead>\n",
              "  <tbody>\n",
              "    <tr>\n",
              "      <th>85</th>\n",
              "      <td>Black Bolt</td>\n",
              "      <td>good</td>\n",
              "      <td>75</td>\n",
              "      <td>67</td>\n",
              "      <td>100</td>\n",
              "      <td>84</td>\n",
              "      <td>100</td>\n",
              "      <td>56</td>\n",
              "      <td>482</td>\n",
              "    </tr>\n",
              "    <tr>\n",
              "      <th>229</th>\n",
              "      <td>Flash I</td>\n",
              "      <td>good</td>\n",
              "      <td>63</td>\n",
              "      <td>10</td>\n",
              "      <td>100</td>\n",
              "      <td>50</td>\n",
              "      <td>57</td>\n",
              "      <td>32</td>\n",
              "      <td>312</td>\n",
              "    </tr>\n",
              "    <tr>\n",
              "      <th>230</th>\n",
              "      <td>Flash II</td>\n",
              "      <td>good</td>\n",
              "      <td>63</td>\n",
              "      <td>10</td>\n",
              "      <td>100</td>\n",
              "      <td>60</td>\n",
              "      <td>66</td>\n",
              "      <td>32</td>\n",
              "      <td>331</td>\n",
              "    </tr>\n",
              "    <tr>\n",
              "      <th>231</th>\n",
              "      <td>Flash III</td>\n",
              "      <td>good</td>\n",
              "      <td>63</td>\n",
              "      <td>10</td>\n",
              "      <td>100</td>\n",
              "      <td>60</td>\n",
              "      <td>83</td>\n",
              "      <td>32</td>\n",
              "      <td>348</td>\n",
              "    </tr>\n",
              "    <tr>\n",
              "      <th>232</th>\n",
              "      <td>Flash IV</td>\n",
              "      <td>good</td>\n",
              "      <td>63</td>\n",
              "      <td>10</td>\n",
              "      <td>100</td>\n",
              "      <td>32</td>\n",
              "      <td>59</td>\n",
              "      <td>48</td>\n",
              "      <td>312</td>\n",
              "    </tr>\n",
              "  </tbody>\n",
              "</table>\n",
              "</div>"
            ],
            "text/plain": [
              "           Name Alignment  Intelligence  Strength  Speed  Durability  Power  \\\n",
              "85   Black Bolt      good            75        67    100          84    100   \n",
              "229     Flash I      good            63        10    100          50     57   \n",
              "230    Flash II      good            63        10    100          60     66   \n",
              "231   Flash III      good            63        10    100          60     83   \n",
              "232    Flash IV      good            63        10    100          32     59   \n",
              "\n",
              "     Combat  Total  \n",
              "85       56    482  \n",
              "229      32    312  \n",
              "230      32    331  \n",
              "231      32    348  \n",
              "232      48    312  "
            ]
          },
          "execution_count": 12,
          "metadata": {},
          "output_type": "execute_result"
        }
      ],
      "source": [
        "# 8. Show top five records having top speed of heroes of good alignment\n",
        "top_speed = super_heroes.nlargest(5,\"Speed\")\n",
        "\n",
        "top_speed"
      ]
    },
    {
      "cell_type": "code",
      "execution_count": 13,
      "metadata": {
        "colab": {
          "base_uri": "https://localhost:8080/",
          "height": 206
        },
        "id": "UNnSGwmVuxxs",
        "outputId": "7412612e-23b0-48cb-a07a-aba021c928e7"
      },
      "outputs": [
        {
          "data": {
            "text/html": [
              "<div>\n",
              "<style scoped>\n",
              "    .dataframe tbody tr th:only-of-type {\n",
              "        vertical-align: middle;\n",
              "    }\n",
              "\n",
              "    .dataframe tbody tr th {\n",
              "        vertical-align: top;\n",
              "    }\n",
              "\n",
              "    .dataframe thead th {\n",
              "        text-align: right;\n",
              "    }\n",
              "</style>\n",
              "<table border=\"1\" class=\"dataframe\">\n",
              "  <thead>\n",
              "    <tr style=\"text-align: right;\">\n",
              "      <th></th>\n",
              "      <th>Name</th>\n",
              "      <th>Alignment</th>\n",
              "      <th>Intelligence</th>\n",
              "      <th>Strength</th>\n",
              "      <th>Speed</th>\n",
              "      <th>Durability</th>\n",
              "      <th>Power</th>\n",
              "      <th>Combat</th>\n",
              "      <th>Total</th>\n",
              "    </tr>\n",
              "  </thead>\n",
              "  <tbody>\n",
              "    <tr>\n",
              "      <th>69</th>\n",
              "      <td>Beta Ray Bill</td>\n",
              "      <td>good</td>\n",
              "      <td>63</td>\n",
              "      <td>80</td>\n",
              "      <td>35</td>\n",
              "      <td>95</td>\n",
              "      <td>100</td>\n",
              "      <td>84</td>\n",
              "      <td>457</td>\n",
              "    </tr>\n",
              "    <tr>\n",
              "      <th>70</th>\n",
              "      <td>Beyonder</td>\n",
              "      <td>good</td>\n",
              "      <td>88</td>\n",
              "      <td>100</td>\n",
              "      <td>23</td>\n",
              "      <td>100</td>\n",
              "      <td>100</td>\n",
              "      <td>56</td>\n",
              "      <td>467</td>\n",
              "    </tr>\n",
              "    <tr>\n",
              "      <th>85</th>\n",
              "      <td>Black Bolt</td>\n",
              "      <td>good</td>\n",
              "      <td>75</td>\n",
              "      <td>67</td>\n",
              "      <td>100</td>\n",
              "      <td>84</td>\n",
              "      <td>100</td>\n",
              "      <td>56</td>\n",
              "      <td>482</td>\n",
              "    </tr>\n",
              "    <tr>\n",
              "      <th>129</th>\n",
              "      <td>Cable</td>\n",
              "      <td>good</td>\n",
              "      <td>88</td>\n",
              "      <td>48</td>\n",
              "      <td>23</td>\n",
              "      <td>56</td>\n",
              "      <td>100</td>\n",
              "      <td>80</td>\n",
              "      <td>395</td>\n",
              "    </tr>\n",
              "    <tr>\n",
              "      <th>185</th>\n",
              "      <td>Deadman</td>\n",
              "      <td>good</td>\n",
              "      <td>50</td>\n",
              "      <td>10</td>\n",
              "      <td>33</td>\n",
              "      <td>100</td>\n",
              "      <td>100</td>\n",
              "      <td>42</td>\n",
              "      <td>335</td>\n",
              "    </tr>\n",
              "  </tbody>\n",
              "</table>\n",
              "</div>"
            ],
            "text/plain": [
              "              Name Alignment  Intelligence  Strength  Speed  Durability  \\\n",
              "69   Beta Ray Bill      good            63        80     35          95   \n",
              "70        Beyonder      good            88       100     23         100   \n",
              "85      Black Bolt      good            75        67    100          84   \n",
              "129          Cable      good            88        48     23          56   \n",
              "185        Deadman      good            50        10     33         100   \n",
              "\n",
              "     Power  Combat  Total  \n",
              "69     100      84    457  \n",
              "70     100      56    467  \n",
              "85     100      56    482  \n",
              "129    100      80    395  \n",
              "185    100      42    335  "
            ]
          },
          "execution_count": 13,
          "metadata": {},
          "output_type": "execute_result"
        }
      ],
      "source": [
        "# 9. Show 5 records of super heroes who have maximum power of good alignment\n",
        "max_power = super_heroes.nlargest(5,\"Power\")\n",
        "\n",
        "max_power"
      ]
    },
    {
      "cell_type": "code",
      "execution_count": 14,
      "metadata": {
        "colab": {
          "base_uri": "https://localhost:8080/",
          "height": 1000
        },
        "id": "9fUztOwavSNq",
        "outputId": "8cd789be-2e25-45f1-af21-fac40ee44618"
      },
      "outputs": [
        {
          "data": {
            "text/html": [
              "<div>\n",
              "<style scoped>\n",
              "    .dataframe tbody tr th:only-of-type {\n",
              "        vertical-align: middle;\n",
              "    }\n",
              "\n",
              "    .dataframe tbody tr th {\n",
              "        vertical-align: top;\n",
              "    }\n",
              "\n",
              "    .dataframe thead th {\n",
              "        text-align: right;\n",
              "    }\n",
              "</style>\n",
              "<table border=\"1\" class=\"dataframe\">\n",
              "  <thead>\n",
              "    <tr style=\"text-align: right;\">\n",
              "      <th></th>\n",
              "      <th>Name</th>\n",
              "      <th>Alignment</th>\n",
              "      <th>Intelligence</th>\n",
              "      <th>Strength</th>\n",
              "      <th>Speed</th>\n",
              "      <th>Durability</th>\n",
              "      <th>Power</th>\n",
              "      <th>Combat</th>\n",
              "      <th>Total</th>\n",
              "    </tr>\n",
              "  </thead>\n",
              "  <tbody>\n",
              "    <tr>\n",
              "      <th>69</th>\n",
              "      <td>Beta Ray Bill</td>\n",
              "      <td>good</td>\n",
              "      <td>63</td>\n",
              "      <td>80</td>\n",
              "      <td>35</td>\n",
              "      <td>95</td>\n",
              "      <td>100</td>\n",
              "      <td>84</td>\n",
              "      <td>457</td>\n",
              "    </tr>\n",
              "    <tr>\n",
              "      <th>70</th>\n",
              "      <td>Beyonder</td>\n",
              "      <td>good</td>\n",
              "      <td>88</td>\n",
              "      <td>100</td>\n",
              "      <td>23</td>\n",
              "      <td>100</td>\n",
              "      <td>100</td>\n",
              "      <td>56</td>\n",
              "      <td>467</td>\n",
              "    </tr>\n",
              "    <tr>\n",
              "      <th>85</th>\n",
              "      <td>Black Bolt</td>\n",
              "      <td>good</td>\n",
              "      <td>75</td>\n",
              "      <td>67</td>\n",
              "      <td>100</td>\n",
              "      <td>84</td>\n",
              "      <td>100</td>\n",
              "      <td>56</td>\n",
              "      <td>482</td>\n",
              "    </tr>\n",
              "    <tr>\n",
              "      <th>129</th>\n",
              "      <td>Cable</td>\n",
              "      <td>good</td>\n",
              "      <td>88</td>\n",
              "      <td>48</td>\n",
              "      <td>23</td>\n",
              "      <td>56</td>\n",
              "      <td>100</td>\n",
              "      <td>80</td>\n",
              "      <td>395</td>\n",
              "    </tr>\n",
              "    <tr>\n",
              "      <th>185</th>\n",
              "      <td>Deadman</td>\n",
              "      <td>good</td>\n",
              "      <td>50</td>\n",
              "      <td>10</td>\n",
              "      <td>33</td>\n",
              "      <td>100</td>\n",
              "      <td>100</td>\n",
              "      <td>42</td>\n",
              "      <td>335</td>\n",
              "    </tr>\n",
              "    <tr>\n",
              "      <th>196</th>\n",
              "      <td>Doctor Fate</td>\n",
              "      <td>good</td>\n",
              "      <td>81</td>\n",
              "      <td>16</td>\n",
              "      <td>25</td>\n",
              "      <td>80</td>\n",
              "      <td>100</td>\n",
              "      <td>50</td>\n",
              "      <td>352</td>\n",
              "    </tr>\n",
              "    <tr>\n",
              "      <th>198</th>\n",
              "      <td>Doctor Strange</td>\n",
              "      <td>good</td>\n",
              "      <td>100</td>\n",
              "      <td>10</td>\n",
              "      <td>12</td>\n",
              "      <td>84</td>\n",
              "      <td>100</td>\n",
              "      <td>60</td>\n",
              "      <td>366</td>\n",
              "    </tr>\n",
              "    <tr>\n",
              "      <th>204</th>\n",
              "      <td>Dr Manhattan</td>\n",
              "      <td>good</td>\n",
              "      <td>88</td>\n",
              "      <td>32</td>\n",
              "      <td>42</td>\n",
              "      <td>95</td>\n",
              "      <td>100</td>\n",
              "      <td>42</td>\n",
              "      <td>399</td>\n",
              "    </tr>\n",
              "    <tr>\n",
              "      <th>226</th>\n",
              "      <td>Firestorm</td>\n",
              "      <td>good</td>\n",
              "      <td>50</td>\n",
              "      <td>53</td>\n",
              "      <td>58</td>\n",
              "      <td>56</td>\n",
              "      <td>100</td>\n",
              "      <td>42</td>\n",
              "      <td>359</td>\n",
              "    </tr>\n",
              "    <tr>\n",
              "      <th>251</th>\n",
              "      <td>Goku</td>\n",
              "      <td>good</td>\n",
              "      <td>56</td>\n",
              "      <td>100</td>\n",
              "      <td>75</td>\n",
              "      <td>90</td>\n",
              "      <td>100</td>\n",
              "      <td>100</td>\n",
              "      <td>521</td>\n",
              "    </tr>\n",
              "    <tr>\n",
              "      <th>266</th>\n",
              "      <td>Hal Jordan</td>\n",
              "      <td>good</td>\n",
              "      <td>63</td>\n",
              "      <td>90</td>\n",
              "      <td>53</td>\n",
              "      <td>64</td>\n",
              "      <td>100</td>\n",
              "      <td>56</td>\n",
              "      <td>426</td>\n",
              "    </tr>\n",
              "    <tr>\n",
              "      <th>294</th>\n",
              "      <td>Iceman</td>\n",
              "      <td>good</td>\n",
              "      <td>63</td>\n",
              "      <td>32</td>\n",
              "      <td>53</td>\n",
              "      <td>100</td>\n",
              "      <td>100</td>\n",
              "      <td>64</td>\n",
              "      <td>412</td>\n",
              "    </tr>\n",
              "    <tr>\n",
              "      <th>299</th>\n",
              "      <td>Iron Man</td>\n",
              "      <td>good</td>\n",
              "      <td>100</td>\n",
              "      <td>85</td>\n",
              "      <td>58</td>\n",
              "      <td>85</td>\n",
              "      <td>100</td>\n",
              "      <td>64</td>\n",
              "      <td>492</td>\n",
              "    </tr>\n",
              "    <tr>\n",
              "      <th>306</th>\n",
              "      <td>Jean Grey</td>\n",
              "      <td>good</td>\n",
              "      <td>100</td>\n",
              "      <td>80</td>\n",
              "      <td>67</td>\n",
              "      <td>100</td>\n",
              "      <td>100</td>\n",
              "      <td>70</td>\n",
              "      <td>517</td>\n",
              "    </tr>\n",
              "    <tr>\n",
              "      <th>327</th>\n",
              "      <td>Kilowog</td>\n",
              "      <td>good</td>\n",
              "      <td>81</td>\n",
              "      <td>90</td>\n",
              "      <td>53</td>\n",
              "      <td>42</td>\n",
              "      <td>100</td>\n",
              "      <td>80</td>\n",
              "      <td>446</td>\n",
              "    </tr>\n",
              "    <tr>\n",
              "      <th>361</th>\n",
              "      <td>Martian Manhunter</td>\n",
              "      <td>good</td>\n",
              "      <td>100</td>\n",
              "      <td>100</td>\n",
              "      <td>96</td>\n",
              "      <td>100</td>\n",
              "      <td>100</td>\n",
              "      <td>85</td>\n",
              "      <td>581</td>\n",
              "    </tr>\n",
              "    <tr>\n",
              "      <th>362</th>\n",
              "      <td>Marvel Girl</td>\n",
              "      <td>good</td>\n",
              "      <td>63</td>\n",
              "      <td>85</td>\n",
              "      <td>47</td>\n",
              "      <td>42</td>\n",
              "      <td>100</td>\n",
              "      <td>80</td>\n",
              "      <td>417</td>\n",
              "    </tr>\n",
              "    <tr>\n",
              "      <th>383</th>\n",
              "      <td>Miss Martian</td>\n",
              "      <td>good</td>\n",
              "      <td>63</td>\n",
              "      <td>85</td>\n",
              "      <td>58</td>\n",
              "      <td>100</td>\n",
              "      <td>100</td>\n",
              "      <td>45</td>\n",
              "      <td>451</td>\n",
              "    </tr>\n",
              "    <tr>\n",
              "      <th>408</th>\n",
              "      <td>Naruto Uzumaki</td>\n",
              "      <td>good</td>\n",
              "      <td>50</td>\n",
              "      <td>80</td>\n",
              "      <td>32</td>\n",
              "      <td>80</td>\n",
              "      <td>100</td>\n",
              "      <td>100</td>\n",
              "      <td>442</td>\n",
              "    </tr>\n",
              "    <tr>\n",
              "      <th>417</th>\n",
              "      <td>Nova</td>\n",
              "      <td>good</td>\n",
              "      <td>100</td>\n",
              "      <td>85</td>\n",
              "      <td>67</td>\n",
              "      <td>101</td>\n",
              "      <td>100</td>\n",
              "      <td>85</td>\n",
              "      <td>538</td>\n",
              "    </tr>\n",
              "    <tr>\n",
              "      <th>418</th>\n",
              "      <td>Nova</td>\n",
              "      <td>good</td>\n",
              "      <td>38</td>\n",
              "      <td>60</td>\n",
              "      <td>100</td>\n",
              "      <td>100</td>\n",
              "      <td>100</td>\n",
              "      <td>25</td>\n",
              "      <td>423</td>\n",
              "    </tr>\n",
              "    <tr>\n",
              "      <th>419</th>\n",
              "      <td>Offspring</td>\n",
              "      <td>good</td>\n",
              "      <td>50</td>\n",
              "      <td>10</td>\n",
              "      <td>35</td>\n",
              "      <td>99</td>\n",
              "      <td>100</td>\n",
              "      <td>56</td>\n",
              "      <td>350</td>\n",
              "    </tr>\n",
              "    <tr>\n",
              "      <th>433</th>\n",
              "      <td>Phoenix</td>\n",
              "      <td>good</td>\n",
              "      <td>100</td>\n",
              "      <td>80</td>\n",
              "      <td>67</td>\n",
              "      <td>100</td>\n",
              "      <td>100</td>\n",
              "      <td>70</td>\n",
              "      <td>517</td>\n",
              "    </tr>\n",
              "    <tr>\n",
              "      <th>435</th>\n",
              "      <td>Plastic Man</td>\n",
              "      <td>good</td>\n",
              "      <td>50</td>\n",
              "      <td>63</td>\n",
              "      <td>23</td>\n",
              "      <td>100</td>\n",
              "      <td>100</td>\n",
              "      <td>56</td>\n",
              "      <td>392</td>\n",
              "    </tr>\n",
              "    <tr>\n",
              "      <th>487</th>\n",
              "      <td>Shadow King</td>\n",
              "      <td>good</td>\n",
              "      <td>75</td>\n",
              "      <td>12</td>\n",
              "      <td>27</td>\n",
              "      <td>100</td>\n",
              "      <td>100</td>\n",
              "      <td>75</td>\n",
              "      <td>389</td>\n",
              "    </tr>\n",
              "    <tr>\n",
              "      <th>499</th>\n",
              "      <td>Silver Surfer</td>\n",
              "      <td>good</td>\n",
              "      <td>63</td>\n",
              "      <td>100</td>\n",
              "      <td>84</td>\n",
              "      <td>101</td>\n",
              "      <td>100</td>\n",
              "      <td>32</td>\n",
              "      <td>480</td>\n",
              "    </tr>\n",
              "    <tr>\n",
              "      <th>511</th>\n",
              "      <td>Spawn</td>\n",
              "      <td>good</td>\n",
              "      <td>75</td>\n",
              "      <td>60</td>\n",
              "      <td>50</td>\n",
              "      <td>90</td>\n",
              "      <td>100</td>\n",
              "      <td>95</td>\n",
              "      <td>470</td>\n",
              "    </tr>\n",
              "    <tr>\n",
              "      <th>525</th>\n",
              "      <td>Stardust</td>\n",
              "      <td>good</td>\n",
              "      <td>88</td>\n",
              "      <td>85</td>\n",
              "      <td>100</td>\n",
              "      <td>110</td>\n",
              "      <td>100</td>\n",
              "      <td>85</td>\n",
              "      <td>568</td>\n",
              "    </tr>\n",
              "    <tr>\n",
              "      <th>546</th>\n",
              "      <td>Thor</td>\n",
              "      <td>good</td>\n",
              "      <td>69</td>\n",
              "      <td>100</td>\n",
              "      <td>92</td>\n",
              "      <td>100</td>\n",
              "      <td>100</td>\n",
              "      <td>85</td>\n",
              "      <td>546</td>\n",
              "    </tr>\n",
              "    <tr>\n",
              "      <th>547</th>\n",
              "      <td>Thor Girl</td>\n",
              "      <td>good</td>\n",
              "      <td>75</td>\n",
              "      <td>83</td>\n",
              "      <td>70</td>\n",
              "      <td>84</td>\n",
              "      <td>100</td>\n",
              "      <td>70</td>\n",
              "      <td>482</td>\n",
              "    </tr>\n",
              "    <tr>\n",
              "      <th>583</th>\n",
              "      <td>War Machine</td>\n",
              "      <td>good</td>\n",
              "      <td>63</td>\n",
              "      <td>80</td>\n",
              "      <td>63</td>\n",
              "      <td>100</td>\n",
              "      <td>100</td>\n",
              "      <td>85</td>\n",
              "      <td>491</td>\n",
              "    </tr>\n",
              "    <tr>\n",
              "      <th>589</th>\n",
              "      <td>Watcher</td>\n",
              "      <td>good</td>\n",
              "      <td>100</td>\n",
              "      <td>80</td>\n",
              "      <td>67</td>\n",
              "      <td>89</td>\n",
              "      <td>100</td>\n",
              "      <td>56</td>\n",
              "      <td>492</td>\n",
              "    </tr>\n",
              "    <tr>\n",
              "      <th>609</th>\n",
              "      <td>Zatanna</td>\n",
              "      <td>good</td>\n",
              "      <td>75</td>\n",
              "      <td>10</td>\n",
              "      <td>23</td>\n",
              "      <td>28</td>\n",
              "      <td>100</td>\n",
              "      <td>56</td>\n",
              "      <td>292</td>\n",
              "    </tr>\n",
              "  </tbody>\n",
              "</table>\n",
              "</div>"
            ],
            "text/plain": [
              "                  Name Alignment  Intelligence  Strength  Speed  Durability  \\\n",
              "69       Beta Ray Bill      good            63        80     35          95   \n",
              "70            Beyonder      good            88       100     23         100   \n",
              "85          Black Bolt      good            75        67    100          84   \n",
              "129              Cable      good            88        48     23          56   \n",
              "185            Deadman      good            50        10     33         100   \n",
              "196        Doctor Fate      good            81        16     25          80   \n",
              "198     Doctor Strange      good           100        10     12          84   \n",
              "204       Dr Manhattan      good            88        32     42          95   \n",
              "226          Firestorm      good            50        53     58          56   \n",
              "251               Goku      good            56       100     75          90   \n",
              "266         Hal Jordan      good            63        90     53          64   \n",
              "294             Iceman      good            63        32     53         100   \n",
              "299           Iron Man      good           100        85     58          85   \n",
              "306          Jean Grey      good           100        80     67         100   \n",
              "327            Kilowog      good            81        90     53          42   \n",
              "361  Martian Manhunter      good           100       100     96         100   \n",
              "362        Marvel Girl      good            63        85     47          42   \n",
              "383       Miss Martian      good            63        85     58         100   \n",
              "408     Naruto Uzumaki      good            50        80     32          80   \n",
              "417               Nova      good           100        85     67         101   \n",
              "418               Nova      good            38        60    100         100   \n",
              "419          Offspring      good            50        10     35          99   \n",
              "433            Phoenix      good           100        80     67         100   \n",
              "435        Plastic Man      good            50        63     23         100   \n",
              "487        Shadow King      good            75        12     27         100   \n",
              "499      Silver Surfer      good            63       100     84         101   \n",
              "511              Spawn      good            75        60     50          90   \n",
              "525           Stardust      good            88        85    100         110   \n",
              "546               Thor      good            69       100     92         100   \n",
              "547          Thor Girl      good            75        83     70          84   \n",
              "583        War Machine      good            63        80     63         100   \n",
              "589            Watcher      good           100        80     67          89   \n",
              "609            Zatanna      good            75        10     23          28   \n",
              "\n",
              "     Power  Combat  Total  \n",
              "69     100      84    457  \n",
              "70     100      56    467  \n",
              "85     100      56    482  \n",
              "129    100      80    395  \n",
              "185    100      42    335  \n",
              "196    100      50    352  \n",
              "198    100      60    366  \n",
              "204    100      42    399  \n",
              "226    100      42    359  \n",
              "251    100     100    521  \n",
              "266    100      56    426  \n",
              "294    100      64    412  \n",
              "299    100      64    492  \n",
              "306    100      70    517  \n",
              "327    100      80    446  \n",
              "361    100      85    581  \n",
              "362    100      80    417  \n",
              "383    100      45    451  \n",
              "408    100     100    442  \n",
              "417    100      85    538  \n",
              "418    100      25    423  \n",
              "419    100      56    350  \n",
              "433    100      70    517  \n",
              "435    100      56    392  \n",
              "487    100      75    389  \n",
              "499    100      32    480  \n",
              "511    100      95    470  \n",
              "525    100      85    568  \n",
              "546    100      85    546  \n",
              "547    100      70    482  \n",
              "583    100      85    491  \n",
              "589    100      56    492  \n",
              "609    100      56    292  "
            ]
          },
          "execution_count": 14,
          "metadata": {},
          "output_type": "execute_result"
        }
      ],
      "source": [
        "# 10. Find out how many super heroes are there with power 100 of good alignment\n",
        "heroes100 = super_heroes[super_heroes[\"Power\"] == 100]\n",
        "heroes100"
      ]
    },
    {
      "cell_type": "code",
      "execution_count": 15,
      "metadata": {
        "colab": {
          "base_uri": "https://localhost:8080/"
        },
        "id": "DIagODn8xEzS",
        "outputId": "da493f35-eb7c-4f0d-8a16-8f6a2ab4ada7"
      },
      "outputs": [
        {
          "data": {
            "text/plain": [
              "(33, 9)"
            ]
          },
          "execution_count": 15,
          "metadata": {},
          "output_type": "execute_result"
        }
      ],
      "source": [
        "# 11. Shape them what you got in point 10\n",
        "heroes100.shape"
      ]
    },
    {
      "cell_type": "code",
      "execution_count": 16,
      "metadata": {
        "colab": {
          "base_uri": "https://localhost:8080/",
          "height": 1000
        },
        "id": "YOBKmuyu2IBO",
        "outputId": "ec7e1c10-dafe-431c-d8bd-f6fad666e680"
      },
      "outputs": [
        {
          "data": {
            "text/html": [
              "<div>\n",
              "<style scoped>\n",
              "    .dataframe tbody tr th:only-of-type {\n",
              "        vertical-align: middle;\n",
              "    }\n",
              "\n",
              "    .dataframe tbody tr th {\n",
              "        vertical-align: top;\n",
              "    }\n",
              "\n",
              "    .dataframe thead th {\n",
              "        text-align: right;\n",
              "    }\n",
              "</style>\n",
              "<table border=\"1\" class=\"dataframe\">\n",
              "  <thead>\n",
              "    <tr style=\"text-align: right;\">\n",
              "      <th></th>\n",
              "      <th>Name</th>\n",
              "      <th>Alignment</th>\n",
              "      <th>Intelligence</th>\n",
              "      <th>Strength</th>\n",
              "      <th>Speed</th>\n",
              "      <th>Durability</th>\n",
              "      <th>Power</th>\n",
              "      <th>Combat</th>\n",
              "      <th>Total</th>\n",
              "    </tr>\n",
              "  </thead>\n",
              "  <tbody>\n",
              "    <tr>\n",
              "      <th>69</th>\n",
              "      <td>Beta Ray Bill</td>\n",
              "      <td>good</td>\n",
              "      <td>63</td>\n",
              "      <td>80</td>\n",
              "      <td>35</td>\n",
              "      <td>95</td>\n",
              "      <td>100</td>\n",
              "      <td>84</td>\n",
              "      <td>457</td>\n",
              "    </tr>\n",
              "    <tr>\n",
              "      <th>70</th>\n",
              "      <td>Beyonder</td>\n",
              "      <td>good</td>\n",
              "      <td>88</td>\n",
              "      <td>100</td>\n",
              "      <td>23</td>\n",
              "      <td>100</td>\n",
              "      <td>100</td>\n",
              "      <td>56</td>\n",
              "      <td>467</td>\n",
              "    </tr>\n",
              "    <tr>\n",
              "      <th>85</th>\n",
              "      <td>Black Bolt</td>\n",
              "      <td>good</td>\n",
              "      <td>75</td>\n",
              "      <td>67</td>\n",
              "      <td>100</td>\n",
              "      <td>84</td>\n",
              "      <td>100</td>\n",
              "      <td>56</td>\n",
              "      <td>482</td>\n",
              "    </tr>\n",
              "    <tr>\n",
              "      <th>129</th>\n",
              "      <td>Cable</td>\n",
              "      <td>good</td>\n",
              "      <td>88</td>\n",
              "      <td>48</td>\n",
              "      <td>23</td>\n",
              "      <td>56</td>\n",
              "      <td>100</td>\n",
              "      <td>80</td>\n",
              "      <td>395</td>\n",
              "    </tr>\n",
              "    <tr>\n",
              "      <th>185</th>\n",
              "      <td>Deadman</td>\n",
              "      <td>good</td>\n",
              "      <td>50</td>\n",
              "      <td>10</td>\n",
              "      <td>33</td>\n",
              "      <td>100</td>\n",
              "      <td>100</td>\n",
              "      <td>42</td>\n",
              "      <td>335</td>\n",
              "    </tr>\n",
              "    <tr>\n",
              "      <th>196</th>\n",
              "      <td>Doctor Fate</td>\n",
              "      <td>good</td>\n",
              "      <td>81</td>\n",
              "      <td>16</td>\n",
              "      <td>25</td>\n",
              "      <td>80</td>\n",
              "      <td>100</td>\n",
              "      <td>50</td>\n",
              "      <td>352</td>\n",
              "    </tr>\n",
              "    <tr>\n",
              "      <th>198</th>\n",
              "      <td>Doctor Strange</td>\n",
              "      <td>good</td>\n",
              "      <td>100</td>\n",
              "      <td>10</td>\n",
              "      <td>12</td>\n",
              "      <td>84</td>\n",
              "      <td>100</td>\n",
              "      <td>60</td>\n",
              "      <td>366</td>\n",
              "    </tr>\n",
              "    <tr>\n",
              "      <th>204</th>\n",
              "      <td>Dr Manhattan</td>\n",
              "      <td>good</td>\n",
              "      <td>88</td>\n",
              "      <td>32</td>\n",
              "      <td>42</td>\n",
              "      <td>95</td>\n",
              "      <td>100</td>\n",
              "      <td>42</td>\n",
              "      <td>399</td>\n",
              "    </tr>\n",
              "    <tr>\n",
              "      <th>226</th>\n",
              "      <td>Firestorm</td>\n",
              "      <td>good</td>\n",
              "      <td>50</td>\n",
              "      <td>53</td>\n",
              "      <td>58</td>\n",
              "      <td>56</td>\n",
              "      <td>100</td>\n",
              "      <td>42</td>\n",
              "      <td>359</td>\n",
              "    </tr>\n",
              "    <tr>\n",
              "      <th>251</th>\n",
              "      <td>Goku</td>\n",
              "      <td>good</td>\n",
              "      <td>56</td>\n",
              "      <td>100</td>\n",
              "      <td>75</td>\n",
              "      <td>90</td>\n",
              "      <td>100</td>\n",
              "      <td>100</td>\n",
              "      <td>521</td>\n",
              "    </tr>\n",
              "    <tr>\n",
              "      <th>266</th>\n",
              "      <td>Hal Jordan</td>\n",
              "      <td>good</td>\n",
              "      <td>63</td>\n",
              "      <td>90</td>\n",
              "      <td>53</td>\n",
              "      <td>64</td>\n",
              "      <td>100</td>\n",
              "      <td>56</td>\n",
              "      <td>426</td>\n",
              "    </tr>\n",
              "    <tr>\n",
              "      <th>294</th>\n",
              "      <td>Iceman</td>\n",
              "      <td>good</td>\n",
              "      <td>63</td>\n",
              "      <td>32</td>\n",
              "      <td>53</td>\n",
              "      <td>100</td>\n",
              "      <td>100</td>\n",
              "      <td>64</td>\n",
              "      <td>412</td>\n",
              "    </tr>\n",
              "    <tr>\n",
              "      <th>299</th>\n",
              "      <td>Iron Man</td>\n",
              "      <td>good</td>\n",
              "      <td>100</td>\n",
              "      <td>85</td>\n",
              "      <td>58</td>\n",
              "      <td>85</td>\n",
              "      <td>100</td>\n",
              "      <td>64</td>\n",
              "      <td>492</td>\n",
              "    </tr>\n",
              "    <tr>\n",
              "      <th>306</th>\n",
              "      <td>Jean Grey</td>\n",
              "      <td>good</td>\n",
              "      <td>100</td>\n",
              "      <td>80</td>\n",
              "      <td>67</td>\n",
              "      <td>100</td>\n",
              "      <td>100</td>\n",
              "      <td>70</td>\n",
              "      <td>517</td>\n",
              "    </tr>\n",
              "    <tr>\n",
              "      <th>327</th>\n",
              "      <td>Kilowog</td>\n",
              "      <td>good</td>\n",
              "      <td>81</td>\n",
              "      <td>90</td>\n",
              "      <td>53</td>\n",
              "      <td>42</td>\n",
              "      <td>100</td>\n",
              "      <td>80</td>\n",
              "      <td>446</td>\n",
              "    </tr>\n",
              "    <tr>\n",
              "      <th>361</th>\n",
              "      <td>Martian Manhunter</td>\n",
              "      <td>good</td>\n",
              "      <td>100</td>\n",
              "      <td>100</td>\n",
              "      <td>96</td>\n",
              "      <td>100</td>\n",
              "      <td>100</td>\n",
              "      <td>85</td>\n",
              "      <td>581</td>\n",
              "    </tr>\n",
              "    <tr>\n",
              "      <th>362</th>\n",
              "      <td>Marvel Girl</td>\n",
              "      <td>good</td>\n",
              "      <td>63</td>\n",
              "      <td>85</td>\n",
              "      <td>47</td>\n",
              "      <td>42</td>\n",
              "      <td>100</td>\n",
              "      <td>80</td>\n",
              "      <td>417</td>\n",
              "    </tr>\n",
              "    <tr>\n",
              "      <th>383</th>\n",
              "      <td>Miss Martian</td>\n",
              "      <td>good</td>\n",
              "      <td>63</td>\n",
              "      <td>85</td>\n",
              "      <td>58</td>\n",
              "      <td>100</td>\n",
              "      <td>100</td>\n",
              "      <td>45</td>\n",
              "      <td>451</td>\n",
              "    </tr>\n",
              "    <tr>\n",
              "      <th>408</th>\n",
              "      <td>Naruto Uzumaki</td>\n",
              "      <td>good</td>\n",
              "      <td>50</td>\n",
              "      <td>80</td>\n",
              "      <td>32</td>\n",
              "      <td>80</td>\n",
              "      <td>100</td>\n",
              "      <td>100</td>\n",
              "      <td>442</td>\n",
              "    </tr>\n",
              "    <tr>\n",
              "      <th>417</th>\n",
              "      <td>Nova</td>\n",
              "      <td>good</td>\n",
              "      <td>100</td>\n",
              "      <td>85</td>\n",
              "      <td>67</td>\n",
              "      <td>101</td>\n",
              "      <td>100</td>\n",
              "      <td>85</td>\n",
              "      <td>538</td>\n",
              "    </tr>\n",
              "    <tr>\n",
              "      <th>418</th>\n",
              "      <td>Nova</td>\n",
              "      <td>good</td>\n",
              "      <td>38</td>\n",
              "      <td>60</td>\n",
              "      <td>100</td>\n",
              "      <td>100</td>\n",
              "      <td>100</td>\n",
              "      <td>25</td>\n",
              "      <td>423</td>\n",
              "    </tr>\n",
              "    <tr>\n",
              "      <th>419</th>\n",
              "      <td>Offspring</td>\n",
              "      <td>good</td>\n",
              "      <td>50</td>\n",
              "      <td>10</td>\n",
              "      <td>35</td>\n",
              "      <td>99</td>\n",
              "      <td>100</td>\n",
              "      <td>56</td>\n",
              "      <td>350</td>\n",
              "    </tr>\n",
              "    <tr>\n",
              "      <th>433</th>\n",
              "      <td>Phoenix</td>\n",
              "      <td>good</td>\n",
              "      <td>100</td>\n",
              "      <td>80</td>\n",
              "      <td>67</td>\n",
              "      <td>100</td>\n",
              "      <td>100</td>\n",
              "      <td>70</td>\n",
              "      <td>517</td>\n",
              "    </tr>\n",
              "    <tr>\n",
              "      <th>435</th>\n",
              "      <td>Plastic Man</td>\n",
              "      <td>good</td>\n",
              "      <td>50</td>\n",
              "      <td>63</td>\n",
              "      <td>23</td>\n",
              "      <td>100</td>\n",
              "      <td>100</td>\n",
              "      <td>56</td>\n",
              "      <td>392</td>\n",
              "    </tr>\n",
              "    <tr>\n",
              "      <th>487</th>\n",
              "      <td>Shadow King</td>\n",
              "      <td>good</td>\n",
              "      <td>75</td>\n",
              "      <td>12</td>\n",
              "      <td>27</td>\n",
              "      <td>100</td>\n",
              "      <td>100</td>\n",
              "      <td>75</td>\n",
              "      <td>389</td>\n",
              "    </tr>\n",
              "    <tr>\n",
              "      <th>499</th>\n",
              "      <td>Silver Surfer</td>\n",
              "      <td>good</td>\n",
              "      <td>63</td>\n",
              "      <td>100</td>\n",
              "      <td>84</td>\n",
              "      <td>101</td>\n",
              "      <td>100</td>\n",
              "      <td>32</td>\n",
              "      <td>480</td>\n",
              "    </tr>\n",
              "    <tr>\n",
              "      <th>511</th>\n",
              "      <td>Spawn</td>\n",
              "      <td>good</td>\n",
              "      <td>75</td>\n",
              "      <td>60</td>\n",
              "      <td>50</td>\n",
              "      <td>90</td>\n",
              "      <td>100</td>\n",
              "      <td>95</td>\n",
              "      <td>470</td>\n",
              "    </tr>\n",
              "    <tr>\n",
              "      <th>525</th>\n",
              "      <td>Stardust</td>\n",
              "      <td>good</td>\n",
              "      <td>88</td>\n",
              "      <td>85</td>\n",
              "      <td>100</td>\n",
              "      <td>110</td>\n",
              "      <td>100</td>\n",
              "      <td>85</td>\n",
              "      <td>568</td>\n",
              "    </tr>\n",
              "    <tr>\n",
              "      <th>546</th>\n",
              "      <td>Thor</td>\n",
              "      <td>good</td>\n",
              "      <td>69</td>\n",
              "      <td>100</td>\n",
              "      <td>92</td>\n",
              "      <td>100</td>\n",
              "      <td>100</td>\n",
              "      <td>85</td>\n",
              "      <td>546</td>\n",
              "    </tr>\n",
              "    <tr>\n",
              "      <th>547</th>\n",
              "      <td>Thor Girl</td>\n",
              "      <td>good</td>\n",
              "      <td>75</td>\n",
              "      <td>83</td>\n",
              "      <td>70</td>\n",
              "      <td>84</td>\n",
              "      <td>100</td>\n",
              "      <td>70</td>\n",
              "      <td>482</td>\n",
              "    </tr>\n",
              "    <tr>\n",
              "      <th>583</th>\n",
              "      <td>War Machine</td>\n",
              "      <td>good</td>\n",
              "      <td>63</td>\n",
              "      <td>80</td>\n",
              "      <td>63</td>\n",
              "      <td>100</td>\n",
              "      <td>100</td>\n",
              "      <td>85</td>\n",
              "      <td>491</td>\n",
              "    </tr>\n",
              "    <tr>\n",
              "      <th>589</th>\n",
              "      <td>Watcher</td>\n",
              "      <td>good</td>\n",
              "      <td>100</td>\n",
              "      <td>80</td>\n",
              "      <td>67</td>\n",
              "      <td>89</td>\n",
              "      <td>100</td>\n",
              "      <td>56</td>\n",
              "      <td>492</td>\n",
              "    </tr>\n",
              "    <tr>\n",
              "      <th>609</th>\n",
              "      <td>Zatanna</td>\n",
              "      <td>good</td>\n",
              "      <td>75</td>\n",
              "      <td>10</td>\n",
              "      <td>23</td>\n",
              "      <td>28</td>\n",
              "      <td>100</td>\n",
              "      <td>56</td>\n",
              "      <td>292</td>\n",
              "    </tr>\n",
              "  </tbody>\n",
              "</table>\n",
              "</div>"
            ],
            "text/plain": [
              "                  Name Alignment  Intelligence  Strength  Speed  Durability  \\\n",
              "69       Beta Ray Bill      good            63        80     35          95   \n",
              "70            Beyonder      good            88       100     23         100   \n",
              "85          Black Bolt      good            75        67    100          84   \n",
              "129              Cable      good            88        48     23          56   \n",
              "185            Deadman      good            50        10     33         100   \n",
              "196        Doctor Fate      good            81        16     25          80   \n",
              "198     Doctor Strange      good           100        10     12          84   \n",
              "204       Dr Manhattan      good            88        32     42          95   \n",
              "226          Firestorm      good            50        53     58          56   \n",
              "251               Goku      good            56       100     75          90   \n",
              "266         Hal Jordan      good            63        90     53          64   \n",
              "294             Iceman      good            63        32     53         100   \n",
              "299           Iron Man      good           100        85     58          85   \n",
              "306          Jean Grey      good           100        80     67         100   \n",
              "327            Kilowog      good            81        90     53          42   \n",
              "361  Martian Manhunter      good           100       100     96         100   \n",
              "362        Marvel Girl      good            63        85     47          42   \n",
              "383       Miss Martian      good            63        85     58         100   \n",
              "408     Naruto Uzumaki      good            50        80     32          80   \n",
              "417               Nova      good           100        85     67         101   \n",
              "418               Nova      good            38        60    100         100   \n",
              "419          Offspring      good            50        10     35          99   \n",
              "433            Phoenix      good           100        80     67         100   \n",
              "435        Plastic Man      good            50        63     23         100   \n",
              "487        Shadow King      good            75        12     27         100   \n",
              "499      Silver Surfer      good            63       100     84         101   \n",
              "511              Spawn      good            75        60     50          90   \n",
              "525           Stardust      good            88        85    100         110   \n",
              "546               Thor      good            69       100     92         100   \n",
              "547          Thor Girl      good            75        83     70          84   \n",
              "583        War Machine      good            63        80     63         100   \n",
              "589            Watcher      good           100        80     67          89   \n",
              "609            Zatanna      good            75        10     23          28   \n",
              "\n",
              "     Power  Combat  Total  \n",
              "69     100      84    457  \n",
              "70     100      56    467  \n",
              "85     100      56    482  \n",
              "129    100      80    395  \n",
              "185    100      42    335  \n",
              "196    100      50    352  \n",
              "198    100      60    366  \n",
              "204    100      42    399  \n",
              "226    100      42    359  \n",
              "251    100     100    521  \n",
              "266    100      56    426  \n",
              "294    100      64    412  \n",
              "299    100      64    492  \n",
              "306    100      70    517  \n",
              "327    100      80    446  \n",
              "361    100      85    581  \n",
              "362    100      80    417  \n",
              "383    100      45    451  \n",
              "408    100     100    442  \n",
              "417    100      85    538  \n",
              "418    100      25    423  \n",
              "419    100      56    350  \n",
              "433    100      70    517  \n",
              "435    100      56    392  \n",
              "487    100      75    389  \n",
              "499    100      32    480  \n",
              "511    100      95    470  \n",
              "525    100      85    568  \n",
              "546    100      85    546  \n",
              "547    100      70    482  \n",
              "583    100      85    491  \n",
              "589    100      56    492  \n",
              "609    100      56    292  "
            ]
          },
          "execution_count": 16,
          "metadata": {},
          "output_type": "execute_result"
        }
      ],
      "source": [
        "# 12. Show all records from point 10\n",
        "heroes100"
      ]
    },
    {
      "cell_type": "code",
      "execution_count": 17,
      "metadata": {
        "colab": {
          "base_uri": "https://localhost:8080/"
        },
        "id": "Urahw4XK2osr",
        "outputId": "11f9cee7-ee39-4f58-8e98-4d217b1d676c"
      },
      "outputs": [
        {
          "name": "stdout",
          "output_type": "stream",
          "text": [
            "Total of First five Records with Max power of Good Alignment Super Heroes: 2136\n"
          ]
        }
      ],
      "source": [
        "# 13. Retrieve total of first five records of max power of good alignment super heroes\n",
        "heroes5 = heroes100.head(5)\n",
        "Total = heroes5['Total'].sum()\n",
        "print(f\"Total of First five Records with Max power of Good Alignment Super Heroes: {Total}\")\n"
      ]
    },
    {
      "cell_type": "code",
      "execution_count": 18,
      "metadata": {
        "colab": {
          "base_uri": "https://localhost:8080/",
          "height": 354
        },
        "id": "g08lmjV52shH",
        "outputId": "68412a08-0685-48ca-cac4-0c4ce508e5ca"
      },
      "outputs": [
        {
          "data": {
            "text/plain": [
              "Text(0, 0.5, 'Total')"
            ]
          },
          "execution_count": 18,
          "metadata": {},
          "output_type": "execute_result"
        },
        {
          "data": {
            "image/png": "[encoded data removed]",
            "text/plain": [
              "<Figure size 640x480 with 1 Axes>"
            ]
          },
          "metadata": {},
          "output_type": "display_data"
        }
      ],
      "source": [
        "# 14. Draw a bar plot of all super heroes who are having good alignment and max power of \n",
        "# top five only , take same object of point 13 , show name and total in plot with green bars\n",
        "\n",
        "top5 = heroes5.sort_values(by=\"Total\", ascending=0)[:5]\n",
        "top5.plot.bar(x='Name', y='Total', color=\"green\")\n",
        "\n",
        "plt.title(\"Super Heroes with Total Power\")\n",
        "plt.xlabel(\"Super Heroes\")\n",
        "plt.xticks(rotation=45)\n",
        "plt.ylabel(\"Total\")\n"
      ]
    },
    {
      "cell_type": "code",
      "execution_count": 19,
      "metadata": {
        "colab": {
          "base_uri": "https://localhost:8080/",
          "height": 424
        },
        "id": "l1LTchD_2set",
        "outputId": "f5d9b1ba-7587-43c2-8e70-7712f697ae81"
      },
      "outputs": [
        {
          "data": {
            "text/html": [
              "<div>\n",
              "<style scoped>\n",
              "    .dataframe tbody tr th:only-of-type {\n",
              "        vertical-align: middle;\n",
              "    }\n",
              "\n",
              "    .dataframe tbody tr th {\n",
              "        vertical-align: top;\n",
              "    }\n",
              "\n",
              "    .dataframe thead th {\n",
              "        text-align: right;\n",
              "    }\n",
              "</style>\n",
              "<table border=\"1\" class=\"dataframe\">\n",
              "  <thead>\n",
              "    <tr style=\"text-align: right;\">\n",
              "      <th></th>\n",
              "      <th>Name</th>\n",
              "      <th>Alignment</th>\n",
              "      <th>Intelligence</th>\n",
              "      <th>Strength</th>\n",
              "      <th>Speed</th>\n",
              "      <th>Durability</th>\n",
              "      <th>Power</th>\n",
              "      <th>Combat</th>\n",
              "      <th>Total</th>\n",
              "    </tr>\n",
              "  </thead>\n",
              "  <tbody>\n",
              "    <tr>\n",
              "      <th>4</th>\n",
              "      <td>Abomination</td>\n",
              "      <td>bad</td>\n",
              "      <td>63</td>\n",
              "      <td>80</td>\n",
              "      <td>53</td>\n",
              "      <td>90</td>\n",
              "      <td>55</td>\n",
              "      <td>95</td>\n",
              "      <td>436</td>\n",
              "    </tr>\n",
              "    <tr>\n",
              "      <th>5</th>\n",
              "      <td>Abraxas</td>\n",
              "      <td>bad</td>\n",
              "      <td>88</td>\n",
              "      <td>100</td>\n",
              "      <td>83</td>\n",
              "      <td>99</td>\n",
              "      <td>100</td>\n",
              "      <td>56</td>\n",
              "      <td>526</td>\n",
              "    </tr>\n",
              "    <tr>\n",
              "      <th>11</th>\n",
              "      <td>Air-Walker</td>\n",
              "      <td>bad</td>\n",
              "      <td>50</td>\n",
              "      <td>85</td>\n",
              "      <td>100</td>\n",
              "      <td>85</td>\n",
              "      <td>100</td>\n",
              "      <td>40</td>\n",
              "      <td>460</td>\n",
              "    </tr>\n",
              "    <tr>\n",
              "      <th>16</th>\n",
              "      <td>Amazo</td>\n",
              "      <td>bad</td>\n",
              "      <td>75</td>\n",
              "      <td>100</td>\n",
              "      <td>100</td>\n",
              "      <td>100</td>\n",
              "      <td>100</td>\n",
              "      <td>100</td>\n",
              "      <td>575</td>\n",
              "    </tr>\n",
              "    <tr>\n",
              "      <th>17</th>\n",
              "      <td>Ammo</td>\n",
              "      <td>bad</td>\n",
              "      <td>1</td>\n",
              "      <td>1</td>\n",
              "      <td>1</td>\n",
              "      <td>1</td>\n",
              "      <td>0</td>\n",
              "      <td>1</td>\n",
              "      <td>5</td>\n",
              "    </tr>\n",
              "    <tr>\n",
              "      <th>...</th>\n",
              "      <td>...</td>\n",
              "      <td>...</td>\n",
              "      <td>...</td>\n",
              "      <td>...</td>\n",
              "      <td>...</td>\n",
              "      <td>...</td>\n",
              "      <td>...</td>\n",
              "      <td>...</td>\n",
              "      <td>...</td>\n",
              "    </tr>\n",
              "    <tr>\n",
              "      <th>586</th>\n",
              "      <td>Warp</td>\n",
              "      <td>bad</td>\n",
              "      <td>38</td>\n",
              "      <td>10</td>\n",
              "      <td>23</td>\n",
              "      <td>28</td>\n",
              "      <td>63</td>\n",
              "      <td>50</td>\n",
              "      <td>212</td>\n",
              "    </tr>\n",
              "    <tr>\n",
              "      <th>590</th>\n",
              "      <td>Weapon XI</td>\n",
              "      <td>bad</td>\n",
              "      <td>1</td>\n",
              "      <td>1</td>\n",
              "      <td>1</td>\n",
              "      <td>1</td>\n",
              "      <td>0</td>\n",
              "      <td>1</td>\n",
              "      <td>5</td>\n",
              "    </tr>\n",
              "    <tr>\n",
              "      <th>593</th>\n",
              "      <td>Willis Stryker</td>\n",
              "      <td>bad</td>\n",
              "      <td>38</td>\n",
              "      <td>16</td>\n",
              "      <td>23</td>\n",
              "      <td>28</td>\n",
              "      <td>41</td>\n",
              "      <td>60</td>\n",
              "      <td>206</td>\n",
              "    </tr>\n",
              "    <tr>\n",
              "      <th>605</th>\n",
              "      <td>Yellow Claw</td>\n",
              "      <td>bad</td>\n",
              "      <td>1</td>\n",
              "      <td>1</td>\n",
              "      <td>1</td>\n",
              "      <td>1</td>\n",
              "      <td>0</td>\n",
              "      <td>1</td>\n",
              "      <td>5</td>\n",
              "    </tr>\n",
              "    <tr>\n",
              "      <th>610</th>\n",
              "      <td>Zoom</td>\n",
              "      <td>bad</td>\n",
              "      <td>50</td>\n",
              "      <td>10</td>\n",
              "      <td>100</td>\n",
              "      <td>28</td>\n",
              "      <td>72</td>\n",
              "      <td>28</td>\n",
              "      <td>288</td>\n",
              "    </tr>\n",
              "  </tbody>\n",
              "</table>\n",
              "<p>165 rows × 9 columns</p>\n",
              "</div>"
            ],
            "text/plain": [
              "               Name Alignment  Intelligence  Strength  Speed  Durability  \\\n",
              "4       Abomination       bad            63        80     53          90   \n",
              "5           Abraxas       bad            88       100     83          99   \n",
              "11       Air-Walker       bad            50        85    100          85   \n",
              "16            Amazo       bad            75       100    100         100   \n",
              "17             Ammo       bad             1         1      1           1   \n",
              "..              ...       ...           ...       ...    ...         ...   \n",
              "586            Warp       bad            38        10     23          28   \n",
              "590       Weapon XI       bad             1         1      1           1   \n",
              "593  Willis Stryker       bad            38        16     23          28   \n",
              "605     Yellow Claw       bad             1         1      1           1   \n",
              "610            Zoom       bad            50        10    100          28   \n",
              "\n",
              "     Power  Combat  Total  \n",
              "4       55      95    436  \n",
              "5      100      56    526  \n",
              "11     100      40    460  \n",
              "16     100     100    575  \n",
              "17       0       1      5  \n",
              "..     ...     ...    ...  \n",
              "586     63      50    212  \n",
              "590      0       1      5  \n",
              "593     41      60    206  \n",
              "605      0       1      5  \n",
              "610     72      28    288  \n",
              "\n",
              "[165 rows x 9 columns]"
            ]
          },
          "execution_count": 19,
          "metadata": {},
          "output_type": "execute_result"
        }
      ],
      "source": [
        "# 15. Extract villains having bad alignment\n",
        "villains = df[df[\"Alignment\"] == \"bad\"]\n",
        "villains"
      ]
    },
    {
      "cell_type": "code",
      "execution_count": 20,
      "metadata": {
        "colab": {
          "base_uri": "https://localhost:8080/",
          "height": 206
        },
        "id": "dU_oXI1i2sb3",
        "outputId": "2fccdfb0-cafa-4903-ef0f-196624d01ad1"
      },
      "outputs": [
        {
          "data": {
            "text/html": [
              "<div>\n",
              "<style scoped>\n",
              "    .dataframe tbody tr th:only-of-type {\n",
              "        vertical-align: middle;\n",
              "    }\n",
              "\n",
              "    .dataframe tbody tr th {\n",
              "        vertical-align: top;\n",
              "    }\n",
              "\n",
              "    .dataframe thead th {\n",
              "        text-align: right;\n",
              "    }\n",
              "</style>\n",
              "<table border=\"1\" class=\"dataframe\">\n",
              "  <thead>\n",
              "    <tr style=\"text-align: right;\">\n",
              "      <th></th>\n",
              "      <th>Name</th>\n",
              "      <th>Alignment</th>\n",
              "      <th>Intelligence</th>\n",
              "      <th>Strength</th>\n",
              "      <th>Speed</th>\n",
              "      <th>Durability</th>\n",
              "      <th>Power</th>\n",
              "      <th>Combat</th>\n",
              "      <th>Total</th>\n",
              "    </tr>\n",
              "  </thead>\n",
              "  <tbody>\n",
              "    <tr>\n",
              "      <th>4</th>\n",
              "      <td>Abomination</td>\n",
              "      <td>bad</td>\n",
              "      <td>63</td>\n",
              "      <td>80</td>\n",
              "      <td>53</td>\n",
              "      <td>90</td>\n",
              "      <td>55</td>\n",
              "      <td>95</td>\n",
              "      <td>436</td>\n",
              "    </tr>\n",
              "    <tr>\n",
              "      <th>5</th>\n",
              "      <td>Abraxas</td>\n",
              "      <td>bad</td>\n",
              "      <td>88</td>\n",
              "      <td>100</td>\n",
              "      <td>83</td>\n",
              "      <td>99</td>\n",
              "      <td>100</td>\n",
              "      <td>56</td>\n",
              "      <td>526</td>\n",
              "    </tr>\n",
              "    <tr>\n",
              "      <th>11</th>\n",
              "      <td>Air-Walker</td>\n",
              "      <td>bad</td>\n",
              "      <td>50</td>\n",
              "      <td>85</td>\n",
              "      <td>100</td>\n",
              "      <td>85</td>\n",
              "      <td>100</td>\n",
              "      <td>40</td>\n",
              "      <td>460</td>\n",
              "    </tr>\n",
              "    <tr>\n",
              "      <th>16</th>\n",
              "      <td>Amazo</td>\n",
              "      <td>bad</td>\n",
              "      <td>75</td>\n",
              "      <td>100</td>\n",
              "      <td>100</td>\n",
              "      <td>100</td>\n",
              "      <td>100</td>\n",
              "      <td>100</td>\n",
              "      <td>575</td>\n",
              "    </tr>\n",
              "    <tr>\n",
              "      <th>17</th>\n",
              "      <td>Ammo</td>\n",
              "      <td>bad</td>\n",
              "      <td>1</td>\n",
              "      <td>1</td>\n",
              "      <td>1</td>\n",
              "      <td>1</td>\n",
              "      <td>0</td>\n",
              "      <td>1</td>\n",
              "      <td>5</td>\n",
              "    </tr>\n",
              "  </tbody>\n",
              "</table>\n",
              "</div>"
            ],
            "text/plain": [
              "           Name Alignment  Intelligence  Strength  Speed  Durability  Power  \\\n",
              "4   Abomination       bad            63        80     53          90     55   \n",
              "5       Abraxas       bad            88       100     83          99    100   \n",
              "11   Air-Walker       bad            50        85    100          85    100   \n",
              "16        Amazo       bad            75       100    100         100    100   \n",
              "17         Ammo       bad             1         1      1           1      0   \n",
              "\n",
              "    Combat  Total  \n",
              "4       95    436  \n",
              "5       56    526  \n",
              "11      40    460  \n",
              "16     100    575  \n",
              "17       1      5  "
            ]
          },
          "execution_count": 20,
          "metadata": {},
          "output_type": "execute_result"
        }
      ],
      "source": [
        "# 16. Show first five records of point 15\n",
        "villains.head()"
      ]
    },
    {
      "cell_type": "code",
      "execution_count": 21,
      "metadata": {
        "colab": {
          "base_uri": "https://localhost:8080/",
          "height": 206
        },
        "id": "gchtJgGB2sZN",
        "outputId": "0fb82f82-9428-494d-b922-02c0073bf238"
      },
      "outputs": [
        {
          "data": {
            "text/html": [
              "<div>\n",
              "<style scoped>\n",
              "    .dataframe tbody tr th:only-of-type {\n",
              "        vertical-align: middle;\n",
              "    }\n",
              "\n",
              "    .dataframe tbody tr th {\n",
              "        vertical-align: top;\n",
              "    }\n",
              "\n",
              "    .dataframe thead th {\n",
              "        text-align: right;\n",
              "    }\n",
              "</style>\n",
              "<table border=\"1\" class=\"dataframe\">\n",
              "  <thead>\n",
              "    <tr style=\"text-align: right;\">\n",
              "      <th></th>\n",
              "      <th>Name</th>\n",
              "      <th>Alignment</th>\n",
              "      <th>Intelligence</th>\n",
              "      <th>Strength</th>\n",
              "      <th>Speed</th>\n",
              "      <th>Durability</th>\n",
              "      <th>Power</th>\n",
              "      <th>Combat</th>\n",
              "      <th>Total</th>\n",
              "    </tr>\n",
              "  </thead>\n",
              "  <tbody>\n",
              "    <tr>\n",
              "      <th>11</th>\n",
              "      <td>Air-Walker</td>\n",
              "      <td>bad</td>\n",
              "      <td>50</td>\n",
              "      <td>85</td>\n",
              "      <td>100</td>\n",
              "      <td>85</td>\n",
              "      <td>100</td>\n",
              "      <td>40</td>\n",
              "      <td>460</td>\n",
              "    </tr>\n",
              "    <tr>\n",
              "      <th>16</th>\n",
              "      <td>Amazo</td>\n",
              "      <td>bad</td>\n",
              "      <td>75</td>\n",
              "      <td>100</td>\n",
              "      <td>100</td>\n",
              "      <td>100</td>\n",
              "      <td>100</td>\n",
              "      <td>100</td>\n",
              "      <td>575</td>\n",
              "    </tr>\n",
              "    <tr>\n",
              "      <th>535</th>\n",
              "      <td>Superboy-Prime</td>\n",
              "      <td>bad</td>\n",
              "      <td>94</td>\n",
              "      <td>100</td>\n",
              "      <td>100</td>\n",
              "      <td>100</td>\n",
              "      <td>100</td>\n",
              "      <td>85</td>\n",
              "      <td>579</td>\n",
              "    </tr>\n",
              "    <tr>\n",
              "      <th>610</th>\n",
              "      <td>Zoom</td>\n",
              "      <td>bad</td>\n",
              "      <td>50</td>\n",
              "      <td>10</td>\n",
              "      <td>100</td>\n",
              "      <td>28</td>\n",
              "      <td>72</td>\n",
              "      <td>28</td>\n",
              "      <td>288</td>\n",
              "    </tr>\n",
              "    <tr>\n",
              "      <th>242</th>\n",
              "      <td>General Zod</td>\n",
              "      <td>bad</td>\n",
              "      <td>94</td>\n",
              "      <td>100</td>\n",
              "      <td>96</td>\n",
              "      <td>100</td>\n",
              "      <td>94</td>\n",
              "      <td>95</td>\n",
              "      <td>579</td>\n",
              "    </tr>\n",
              "  </tbody>\n",
              "</table>\n",
              "</div>"
            ],
            "text/plain": [
              "               Name Alignment  Intelligence  Strength  Speed  Durability  \\\n",
              "11       Air-Walker       bad            50        85    100          85   \n",
              "16            Amazo       bad            75       100    100         100   \n",
              "535  Superboy-Prime       bad            94       100    100         100   \n",
              "610            Zoom       bad            50        10    100          28   \n",
              "242     General Zod       bad            94       100     96         100   \n",
              "\n",
              "     Power  Combat  Total  \n",
              "11     100      40    460  \n",
              "16     100     100    575  \n",
              "535    100      85    579  \n",
              "610     72      28    288  \n",
              "242     94      95    579  "
            ]
          },
          "execution_count": 21,
          "metadata": {},
          "output_type": "execute_result"
        }
      ],
      "source": [
        "# 17. Show top five fastest super villains in terms of super speed\n",
        "fastest_villains = villains.nlargest(5,\"Speed\")\n",
        "\n",
        "fastest_villains"
      ]
    },
    {
      "cell_type": "code",
      "execution_count": 22,
      "metadata": {
        "colab": {
          "base_uri": "https://localhost:8080/",
          "height": 206
        },
        "id": "TVM_oP_T2sWV",
        "outputId": "dcf574a7-bdf4-4a3d-95f0-a76d7efdc20e"
      },
      "outputs": [
        {
          "data": {
            "text/html": [
              "<div>\n",
              "<style scoped>\n",
              "    .dataframe tbody tr th:only-of-type {\n",
              "        vertical-align: middle;\n",
              "    }\n",
              "\n",
              "    .dataframe tbody tr th {\n",
              "        vertical-align: top;\n",
              "    }\n",
              "\n",
              "    .dataframe thead th {\n",
              "        text-align: right;\n",
              "    }\n",
              "</style>\n",
              "<table border=\"1\" class=\"dataframe\">\n",
              "  <thead>\n",
              "    <tr style=\"text-align: right;\">\n",
              "      <th></th>\n",
              "      <th>Name</th>\n",
              "      <th>Alignment</th>\n",
              "      <th>Intelligence</th>\n",
              "      <th>Strength</th>\n",
              "      <th>Speed</th>\n",
              "      <th>Durability</th>\n",
              "      <th>Power</th>\n",
              "      <th>Combat</th>\n",
              "      <th>Total</th>\n",
              "    </tr>\n",
              "  </thead>\n",
              "  <tbody>\n",
              "    <tr>\n",
              "      <th>386</th>\n",
              "      <td>Mister Mxyzptlk</td>\n",
              "      <td>bad</td>\n",
              "      <td>113</td>\n",
              "      <td>10</td>\n",
              "      <td>12</td>\n",
              "      <td>14</td>\n",
              "      <td>100</td>\n",
              "      <td>28</td>\n",
              "      <td>277</td>\n",
              "    </tr>\n",
              "    <tr>\n",
              "      <th>29</th>\n",
              "      <td>Apocalypse</td>\n",
              "      <td>bad</td>\n",
              "      <td>100</td>\n",
              "      <td>100</td>\n",
              "      <td>33</td>\n",
              "      <td>100</td>\n",
              "      <td>100</td>\n",
              "      <td>60</td>\n",
              "      <td>493</td>\n",
              "    </tr>\n",
              "    <tr>\n",
              "      <th>122</th>\n",
              "      <td>Brainiac</td>\n",
              "      <td>bad</td>\n",
              "      <td>100</td>\n",
              "      <td>28</td>\n",
              "      <td>63</td>\n",
              "      <td>90</td>\n",
              "      <td>60</td>\n",
              "      <td>75</td>\n",
              "      <td>416</td>\n",
              "    </tr>\n",
              "    <tr>\n",
              "      <th>194</th>\n",
              "      <td>Doctor Doom</td>\n",
              "      <td>bad</td>\n",
              "      <td>100</td>\n",
              "      <td>32</td>\n",
              "      <td>20</td>\n",
              "      <td>100</td>\n",
              "      <td>93</td>\n",
              "      <td>84</td>\n",
              "      <td>429</td>\n",
              "    </tr>\n",
              "    <tr>\n",
              "      <th>315</th>\n",
              "      <td>Joker</td>\n",
              "      <td>bad</td>\n",
              "      <td>100</td>\n",
              "      <td>10</td>\n",
              "      <td>12</td>\n",
              "      <td>56</td>\n",
              "      <td>22</td>\n",
              "      <td>90</td>\n",
              "      <td>290</td>\n",
              "    </tr>\n",
              "  </tbody>\n",
              "</table>\n",
              "</div>"
            ],
            "text/plain": [
              "                Name Alignment  Intelligence  Strength  Speed  Durability  \\\n",
              "386  Mister Mxyzptlk       bad           113        10     12          14   \n",
              "29        Apocalypse       bad           100       100     33         100   \n",
              "122         Brainiac       bad           100        28     63          90   \n",
              "194      Doctor Doom       bad           100        32     20         100   \n",
              "315            Joker       bad           100        10     12          56   \n",
              "\n",
              "     Power  Combat  Total  \n",
              "386    100      28    277  \n",
              "29     100      60    493  \n",
              "122     60      75    416  \n",
              "194     93      84    429  \n",
              "315     22      90    290  "
            ]
          },
          "execution_count": 22,
          "metadata": {},
          "output_type": "execute_result"
        }
      ],
      "source": [
        "# 18. Top five super villains in terms of intelligence\n",
        "intellegent_villains = villains.nlargest(5,\"Intelligence\")\n",
        "\n",
        "intellegent_villains"
      ]
    },
    {
      "cell_type": "code",
      "execution_count": 23,
      "metadata": {
        "colab": {
          "base_uri": "https://localhost:8080/",
          "height": 206
        },
        "id": "FbLj7dVL2sTL",
        "outputId": "5f54f728-ed34-4eed-da80-794313f6fbda"
      },
      "outputs": [
        {
          "data": {
            "text/html": [
              "<div>\n",
              "<style scoped>\n",
              "    .dataframe tbody tr th:only-of-type {\n",
              "        vertical-align: middle;\n",
              "    }\n",
              "\n",
              "    .dataframe tbody tr th {\n",
              "        vertical-align: top;\n",
              "    }\n",
              "\n",
              "    .dataframe thead th {\n",
              "        text-align: right;\n",
              "    }\n",
              "</style>\n",
              "<table border=\"1\" class=\"dataframe\">\n",
              "  <thead>\n",
              "    <tr style=\"text-align: right;\">\n",
              "      <th></th>\n",
              "      <th>Name</th>\n",
              "      <th>Alignment</th>\n",
              "      <th>Intelligence</th>\n",
              "      <th>Strength</th>\n",
              "      <th>Speed</th>\n",
              "      <th>Durability</th>\n",
              "      <th>Power</th>\n",
              "      <th>Combat</th>\n",
              "      <th>Total</th>\n",
              "    </tr>\n",
              "  </thead>\n",
              "  <tbody>\n",
              "    <tr>\n",
              "      <th>535</th>\n",
              "      <td>Superboy-Prime</td>\n",
              "      <td>bad</td>\n",
              "      <td>94</td>\n",
              "      <td>100</td>\n",
              "      <td>100</td>\n",
              "      <td>100</td>\n",
              "      <td>100</td>\n",
              "      <td>85</td>\n",
              "      <td>579</td>\n",
              "    </tr>\n",
              "    <tr>\n",
              "      <th>242</th>\n",
              "      <td>General Zod</td>\n",
              "      <td>bad</td>\n",
              "      <td>94</td>\n",
              "      <td>100</td>\n",
              "      <td>96</td>\n",
              "      <td>100</td>\n",
              "      <td>94</td>\n",
              "      <td>95</td>\n",
              "      <td>579</td>\n",
              "    </tr>\n",
              "    <tr>\n",
              "      <th>16</th>\n",
              "      <td>Amazo</td>\n",
              "      <td>bad</td>\n",
              "      <td>75</td>\n",
              "      <td>100</td>\n",
              "      <td>100</td>\n",
              "      <td>100</td>\n",
              "      <td>100</td>\n",
              "      <td>100</td>\n",
              "      <td>575</td>\n",
              "    </tr>\n",
              "    <tr>\n",
              "      <th>203</th>\n",
              "      <td>Dormammu</td>\n",
              "      <td>bad</td>\n",
              "      <td>88</td>\n",
              "      <td>95</td>\n",
              "      <td>83</td>\n",
              "      <td>100</td>\n",
              "      <td>100</td>\n",
              "      <td>80</td>\n",
              "      <td>546</td>\n",
              "    </tr>\n",
              "    <tr>\n",
              "      <th>201</th>\n",
              "      <td>Doomsday</td>\n",
              "      <td>bad</td>\n",
              "      <td>88</td>\n",
              "      <td>80</td>\n",
              "      <td>67</td>\n",
              "      <td>120</td>\n",
              "      <td>100</td>\n",
              "      <td>90</td>\n",
              "      <td>545</td>\n",
              "    </tr>\n",
              "  </tbody>\n",
              "</table>\n",
              "</div>"
            ],
            "text/plain": [
              "               Name Alignment  Intelligence  Strength  Speed  Durability  \\\n",
              "535  Superboy-Prime       bad            94       100    100         100   \n",
              "242     General Zod       bad            94       100     96         100   \n",
              "16            Amazo       bad            75       100    100         100   \n",
              "203        Dormammu       bad            88        95     83         100   \n",
              "201        Doomsday       bad            88        80     67         120   \n",
              "\n",
              "     Power  Combat  Total  \n",
              "535    100      85    579  \n",
              "242     94      95    579  \n",
              "16     100     100    575  \n",
              "203    100      80    546  \n",
              "201    100      90    545  "
            ]
          },
          "execution_count": 23,
          "metadata": {},
          "output_type": "execute_result"
        }
      ],
      "source": [
        "# 19. Show who is most dangerous super villain after calculating their total (top 5 only)\n",
        "dangerous_villains = villains.sort_values(by=\"Total\", ascending=False).head()\n",
        "dangerous_villains\n",
        "# Total = dangerous_villains['Total'].sum()\n",
        "# print(f\"Total of First five Records with most dangerous super villain after calculating their total: {Total}\")"
      ]
    },
    {
      "cell_type": "code",
      "execution_count": 24,
      "metadata": {
        "colab": {
          "base_uri": "https://localhost:8080/",
          "height": 424
        },
        "id": "GdxCm17wCaJa",
        "outputId": "7e6883be-58bc-4fab-ee10-e69f6ddee09b"
      },
      "outputs": [
        {
          "data": {
            "text/html": [
              "<div>\n",
              "<style scoped>\n",
              "    .dataframe tbody tr th:only-of-type {\n",
              "        vertical-align: middle;\n",
              "    }\n",
              "\n",
              "    .dataframe tbody tr th {\n",
              "        vertical-align: top;\n",
              "    }\n",
              "\n",
              "    .dataframe thead th {\n",
              "        text-align: right;\n",
              "    }\n",
              "</style>\n",
              "<table border=\"1\" class=\"dataframe\">\n",
              "  <thead>\n",
              "    <tr style=\"text-align: right;\">\n",
              "      <th></th>\n",
              "      <th>Name</th>\n",
              "      <th>Alignment</th>\n",
              "      <th>Intelligence</th>\n",
              "      <th>Strength</th>\n",
              "      <th>Speed</th>\n",
              "      <th>Durability</th>\n",
              "      <th>Power</th>\n",
              "      <th>Combat</th>\n",
              "      <th>Total</th>\n",
              "    </tr>\n",
              "  </thead>\n",
              "  <tbody>\n",
              "    <tr>\n",
              "      <th>0</th>\n",
              "      <td>3-D Man</td>\n",
              "      <td>good</td>\n",
              "      <td>50</td>\n",
              "      <td>31</td>\n",
              "      <td>43</td>\n",
              "      <td>32</td>\n",
              "      <td>25</td>\n",
              "      <td>52</td>\n",
              "      <td>233</td>\n",
              "    </tr>\n",
              "    <tr>\n",
              "      <th>1</th>\n",
              "      <td>A-Bomb</td>\n",
              "      <td>good</td>\n",
              "      <td>38</td>\n",
              "      <td>100</td>\n",
              "      <td>17</td>\n",
              "      <td>80</td>\n",
              "      <td>17</td>\n",
              "      <td>64</td>\n",
              "      <td>316</td>\n",
              "    </tr>\n",
              "    <tr>\n",
              "      <th>2</th>\n",
              "      <td>Abe Sapien</td>\n",
              "      <td>good</td>\n",
              "      <td>88</td>\n",
              "      <td>14</td>\n",
              "      <td>35</td>\n",
              "      <td>42</td>\n",
              "      <td>35</td>\n",
              "      <td>85</td>\n",
              "      <td>299</td>\n",
              "    </tr>\n",
              "    <tr>\n",
              "      <th>3</th>\n",
              "      <td>Abin Sur</td>\n",
              "      <td>good</td>\n",
              "      <td>50</td>\n",
              "      <td>90</td>\n",
              "      <td>53</td>\n",
              "      <td>64</td>\n",
              "      <td>84</td>\n",
              "      <td>65</td>\n",
              "      <td>406</td>\n",
              "    </tr>\n",
              "    <tr>\n",
              "      <th>6</th>\n",
              "      <td>Adam Monroe</td>\n",
              "      <td>good</td>\n",
              "      <td>63</td>\n",
              "      <td>10</td>\n",
              "      <td>12</td>\n",
              "      <td>100</td>\n",
              "      <td>71</td>\n",
              "      <td>64</td>\n",
              "      <td>320</td>\n",
              "    </tr>\n",
              "    <tr>\n",
              "      <th>...</th>\n",
              "      <td>...</td>\n",
              "      <td>...</td>\n",
              "      <td>...</td>\n",
              "      <td>...</td>\n",
              "      <td>...</td>\n",
              "      <td>...</td>\n",
              "      <td>...</td>\n",
              "      <td>...</td>\n",
              "      <td>...</td>\n",
              "    </tr>\n",
              "    <tr>\n",
              "      <th>604</th>\n",
              "      <td>X-Man</td>\n",
              "      <td>good</td>\n",
              "      <td>88</td>\n",
              "      <td>53</td>\n",
              "      <td>53</td>\n",
              "      <td>95</td>\n",
              "      <td>92</td>\n",
              "      <td>84</td>\n",
              "      <td>465</td>\n",
              "    </tr>\n",
              "    <tr>\n",
              "      <th>606</th>\n",
              "      <td>Yellowjacket</td>\n",
              "      <td>good</td>\n",
              "      <td>88</td>\n",
              "      <td>10</td>\n",
              "      <td>12</td>\n",
              "      <td>28</td>\n",
              "      <td>12</td>\n",
              "      <td>14</td>\n",
              "      <td>164</td>\n",
              "    </tr>\n",
              "    <tr>\n",
              "      <th>607</th>\n",
              "      <td>Yellowjacket II</td>\n",
              "      <td>good</td>\n",
              "      <td>50</td>\n",
              "      <td>10</td>\n",
              "      <td>35</td>\n",
              "      <td>28</td>\n",
              "      <td>31</td>\n",
              "      <td>28</td>\n",
              "      <td>182</td>\n",
              "    </tr>\n",
              "    <tr>\n",
              "      <th>608</th>\n",
              "      <td>Ymir</td>\n",
              "      <td>good</td>\n",
              "      <td>50</td>\n",
              "      <td>100</td>\n",
              "      <td>27</td>\n",
              "      <td>100</td>\n",
              "      <td>83</td>\n",
              "      <td>28</td>\n",
              "      <td>388</td>\n",
              "    </tr>\n",
              "    <tr>\n",
              "      <th>609</th>\n",
              "      <td>Zatanna</td>\n",
              "      <td>good</td>\n",
              "      <td>75</td>\n",
              "      <td>10</td>\n",
              "      <td>23</td>\n",
              "      <td>28</td>\n",
              "      <td>100</td>\n",
              "      <td>56</td>\n",
              "      <td>292</td>\n",
              "    </tr>\n",
              "  </tbody>\n",
              "</table>\n",
              "<p>432 rows × 9 columns</p>\n",
              "</div>"
            ],
            "text/plain": [
              "                Name Alignment  Intelligence  Strength  Speed  Durability  \\\n",
              "0            3-D Man      good            50        31     43          32   \n",
              "1             A-Bomb      good            38       100     17          80   \n",
              "2         Abe Sapien      good            88        14     35          42   \n",
              "3           Abin Sur      good            50        90     53          64   \n",
              "6        Adam Monroe      good            63        10     12         100   \n",
              "..               ...       ...           ...       ...    ...         ...   \n",
              "604            X-Man      good            88        53     53          95   \n",
              "606     Yellowjacket      good            88        10     12          28   \n",
              "607  Yellowjacket II      good            50        10     35          28   \n",
              "608             Ymir      good            50       100     27         100   \n",
              "609          Zatanna      good            75        10     23          28   \n",
              "\n",
              "     Power  Combat  Total  \n",
              "0       25      52    233  \n",
              "1       17      64    316  \n",
              "2       35      85    299  \n",
              "3       84      65    406  \n",
              "6       71      64    320  \n",
              "..     ...     ...    ...  \n",
              "604     92      84    465  \n",
              "606     12      14    164  \n",
              "607     31      28    182  \n",
              "608     83      28    388  \n",
              "609    100      56    292  \n",
              "\n",
              "[432 rows x 9 columns]"
            ]
          },
          "execution_count": 24,
          "metadata": {},
          "output_type": "execute_result"
        }
      ],
      "source": [
        "df[df[\"Alignment\"] == \"good\"]"
      ]
    },
    {
      "cell_type": "code",
      "execution_count": 25,
      "metadata": {
        "colab": {
          "base_uri": "https://localhost:8080/",
          "height": 352
        },
        "id": "pqN9FRdyEOE5",
        "outputId": "fd282281-e535-4a42-c29e-23d9584792da"
      },
      "outputs": [
        {
          "data": {
            "image/png": "[encoded data removed]",
            "text/plain": [
              "<Figure size 1000x500 with 1 Axes>"
            ]
          },
          "metadata": {},
          "output_type": "display_data"
        }
      ],
      "source": [
        "# 20. Draw a histogram for speed of super heroes having fig size 10,5 , provide speed in\n",
        "# histogram for only good alignment super heroes ,title should be \"distribution of\n",
        "# speed\" , xlabel should be \"speed\"\n",
        "\n",
        "plt.figure(figsize= (10,5))\n",
        "super_heroes = df[df[\"Alignment\"] == \"good\"]\n",
        "sns.histplot(data=super_heroes, x=\"Speed\")\n",
        "plt.title(\"Distribution of Speed\", fontsize = 15, weight = \"bold\");"
      ]
    },
    {
      "cell_type": "code",
      "execution_count": 26,
      "metadata": {
        "colab": {
          "base_uri": "https://localhost:8080/",
          "height": 352
        },
        "id": "OqDkLNN93CXI",
        "outputId": "49e38d3a-d20b-4dfe-fdea-10b789852542"
      },
      "outputs": [
        {
          "data": {
            "image/png": "[encoded data removed]",
            "text/plain": [
              "<Figure size 1000x500 with 1 Axes>"
            ]
          },
          "metadata": {},
          "output_type": "display_data"
        }
      ],
      "source": [
        "# 21. Draw a histogram for combat of super villains having fig size 10,5 , provide combat in\n",
        "# histogram for only bad alignment super heroes ,title should be \"distribution of\n",
        "# combat\" , xlabel should be \"combat\"\n",
        "\n",
        "plt.figure(figsize= (10,5))\n",
        "villains = df[df[\"Alignment\"] == \"bad\"]\n",
        "sns.histplot(data=villains, x=\"Combat\")\n",
        "plt.title(\"Distribution of Combat\", fontsize = 15, weight = \"bold\");"
      ]
    },
    {
      "cell_type": "markdown",
      "metadata": {
        "id": "dfDrJUUyxW22"
      },
      "source": [
        "\n",
        "#Extensions(22-26)"
      ]
    },
    {
      "cell_type": "code",
      "execution_count": 27,
      "metadata": {
        "colab": {
          "base_uri": "https://localhost:8080/",
          "height": 279
        },
        "id": "tt4d-QG85Fuh",
        "outputId": "ecfb9481-2728-4472-a02b-0f38b89e4cf9",
        "scrolled": true
      },
      "outputs": [
        {
          "data": {
            "image/png": "[encoded data removed]",
            "text/plain": [
              "<Figure size 640x480 with 1 Axes>"
            ]
          },
          "metadata": {},
          "output_type": "display_data"
        }
      ],
      "source": [
        "sns.boxplot(data=df, x='Alignment', y='Intelligence');"
      ]
    },
    {
      "cell_type": "markdown",
      "metadata": {
        "id": "NqvSUTmhttnH"
      },
      "source": [
        "- The average intelligence score for individuals with a good alignment falls within the range of 60-65.\n",
        "\n",
        "- Individuals with a bad alignment have an average intelligence score ranging between 65-70.\n",
        "\n",
        "- Those with a neutral alignment have an average intelligence score also ranging between 65-70.\n",
        "\n",
        "- The skewness in the box plot can be attributed to the larger number of records with intelligence scores below 20. Shown below "
      ]
    },
    {
      "cell_type": "code",
      "execution_count": 28,
      "metadata": {
        "colab": {
          "base_uri": "https://localhost:8080/",
          "height": 299
        },
        "id": "o9dOaXDuvSXa",
        "outputId": "2625ea02-6ecb-4e34-bca2-80fd1365da8e"
      },
      "outputs": [
        {
          "data": {
            "text/plain": [
              "<Axes: xlabel='Intelligence', ylabel='Density'>"
            ]
          },
          "execution_count": 28,
          "metadata": {},
          "output_type": "execute_result"
        },
        {
          "data": {
            "image/png": "[encoded data removed]",
            "text/plain": [
              "<Figure size 640x480 with 1 Axes>"
            ]
          },
          "metadata": {},
          "output_type": "display_data"
        }
      ],
      "source": [
        "sns.kdeplot(data=df, x=\"Intelligence\")"
      ]
    },
    {
      "cell_type": "markdown",
      "metadata": {
        "id": "Jaay8L3ittnI"
      },
      "source": [
        "#23 function for barplot(superpowers)"
      ]
    },
    {
      "cell_type": "code",
      "execution_count": 29,
      "metadata": {
        "id": "1ddeTSKMAvVq"
      },
      "outputs": [],
      "source": [
        "def  create_bar(col):\n",
        "    plt.figure(figsize = (10,6))\n",
        "    temp_df = df.groupby(\"Alignment\")[col].mean().round(decimals=2).reset_index()\n",
        "    ax = sns.barplot(\n",
        "        data = temp_df,\n",
        "        x = \"Alignment\",\n",
        "        y = col,\n",
        "        palette = [\"#941A00\", \"#439429\", \"#1E38AD\"]\n",
        "    )\n",
        "    plt.title(f\"{col} with respect to Alignment\", fontsize =  15, weight = \"bold\");\n",
        "    for i in ax.containers:\n",
        "        ax.bar_label(i,)\n",
        "    plt.show()"
      ]
    },
    {
      "cell_type": "code",
      "execution_count": 30,
      "metadata": {
        "colab": {
          "base_uri": "https://localhost:8080/",
          "height": 1000
        },
        "id": "NEfsU8GgttnK",
        "outputId": "a4657e0e-7702-4ef7-d5aa-760354f6a55b",
        "scrolled": false
      },
      "outputs": [
        {
          "data": {
            "image/png": "[encoded data removed]",
            "text/plain": [
              "<Figure size 1000x600 with 1 Axes>"
            ]
          },
          "metadata": {},
          "output_type": "display_data"
        },
        {
          "data": {
            "image/png": "[encoded data removed]",
            "text/plain": [
              "<Figure size 1000x600 with 1 Axes>"
            ]
          },
          "metadata": {},
          "output_type": "display_data"
        },
        {
          "data": {
            "image/png": "[encoded data removed]",
            "text/plain": [
              "<Figure size 1000x600 with 1 Axes>"
            ]
          },
          "metadata": {},
          "output_type": "display_data"
        },
        {
          "data": {
            "image/png": "[encoded data removed]",
            "text/plain": [
              "<Figure size 1000x600 with 1 Axes>"
            ]
          },
          "metadata": {},
          "output_type": "display_data"
        },
        {
          "data": {
            "image/png": "[encoded data removed]",
            "text/plain": [
              "<Figure size 1000x600 with 1 Axes>"
            ]
          },
          "metadata": {},
          "output_type": "display_data"
        },
        {
          "data": {
            "image/png": "[encoded data removed]",
            "text/plain": [
              "<Figure size 1000x600 with 1 Axes>"
            ]
          },
          "metadata": {},
          "output_type": "display_data"
        }
      ],
      "source": [
        "cols = ['Intelligence', 'Strength', 'Speed', 'Durability', 'Power', 'Combat']\n",
        "for col in cols:\n",
        "    create_bar(col)"
      ]
    },
    {
      "cell_type": "code",
      "execution_count": 31,
      "metadata": {
        "id": "_ej74Qq1CFEP"
      },
      "outputs": [],
      "source": [
        "# df.groupby(\"Alignment\")[\"Intelligence\"].mean().reset_index()"
      ]
    },
    {
      "cell_type": "code",
      "execution_count": 32,
      "metadata": {
        "id": "87Z7EFK6ttnP"
      },
      "outputs": [],
      "source": [
        "good = df[df[\"Alignment\"]==\"good\"].reset_index(drop = True)\n",
        "bad = df[df[\"Alignment\"]==\"bad\"].reset_index(drop = True)\n",
        "# df[df[\"Alignment\"]==\"bad\"]"
      ]
    },
    {
      "cell_type": "code",
      "execution_count": 33,
      "metadata": {
        "id": "fM2ZU3RbttnR"
      },
      "outputs": [],
      "source": [
        "# good.iloc[good[\"Total\"].sort_values(ascending = False)[:10].index]"
      ]
    },
    {
      "cell_type": "code",
      "execution_count": 34,
      "metadata": {
        "colab": {
          "base_uri": "https://localhost:8080/",
          "height": 408
        },
        "id": "G7Z60cq6ttnT",
        "outputId": "fb1c98a6-6fd8-44e5-b258-654ad1fda74a"
      },
      "outputs": [
        {
          "name": "stderr",
          "output_type": "stream",
          "text": [
            "C:\\Users\\MD_Rahman\\AppData\\Local\\Temp\\ipykernel_24356\\3001745647.py:2: FutureWarning: The default value of numeric_only in DataFrame.mean is deprecated. In a future version, it will default to False. In addition, specifying 'numeric_only=None' is deprecated. Select only valid columns or specify the value of numeric_only to silence this warning.\n",
            "  bad_mean = bad.iloc[bad[\"Total\"].sort_values(ascending = False)[:100].index].mean()\n",
            "C:\\Users\\MD_Rahman\\AppData\\Local\\Temp\\ipykernel_24356\\3001745647.py:17: FutureWarning: The default value of numeric_only in DataFrame.mean is deprecated. In a future version, it will default to False. In addition, specifying 'numeric_only=None' is deprecated. Select only valid columns or specify the value of numeric_only to silence this warning.\n",
            "  good_mean = good.iloc[good[\"Total\"].sort_values(ascending = False)[:100].index].mean()\n"
          ]
        },
        {
          "data": {
            "image/png": "[encoded data removed]",
            "text/plain": [
              "<Figure size 1200x500 with 2 Axes>"
            ]
          },
          "metadata": {},
          "output_type": "display_data"
        }
      ],
      "source": [
        "fig, ax  = plt.subplots(1,2, figsize = (12, 5))\n",
        "bad_mean = bad.iloc[bad[\"Total\"].sort_values(ascending = False)[:100].index].mean()\n",
        "bad_mean.drop(\"Total\", inplace = True)\n",
        "\n",
        "#define Seaborn color palette to use\n",
        "colors = sns.color_palette('RdPu')[0:6]\n",
        "\n",
        "ax[0].pie(\n",
        "    x = bad_mean.values,\n",
        "    labels = bad_mean.index,\n",
        "     autopct='%.0f%%',\n",
        "    colors = colors\n",
        ");\n",
        "ax[0].title.set_text(\"Bad Allignment\")\n",
        "\n",
        "\n",
        "good_mean = good.iloc[good[\"Total\"].sort_values(ascending = False)[:100].index].mean()\n",
        "good_mean.drop(\"Total\", inplace = True)\n",
        "\n",
        "#define Seaborn color palette to use\n",
        "colors = sns.color_palette('RdPu')[0:6]\n",
        "\n",
        "ax[1].pie(\n",
        "    x = good_mean.values,\n",
        "    labels = good_mean.index,\n",
        "     autopct='%.0f%%',\n",
        "    colors = colors\n",
        ");\n",
        "ax[1].title.set_text(\"Good Allignment\")"
      ]
    },
    {
      "cell_type": "code",
      "execution_count": 35,
      "metadata": {
        "colab": {
          "base_uri": "https://localhost:8080/",
          "height": 388
        },
        "id": "WvuXO2RcttnX",
        "outputId": "62f87a03-7b70-434a-b727-fc2637764c80"
      },
      "outputs": [
        {
          "name": "stderr",
          "output_type": "stream",
          "text": [
            "C:\\Users\\MD_Rahman\\AppData\\Local\\Temp\\ipykernel_24356\\3417813931.py:2: FutureWarning: The default value of numeric_only in DataFrame.corr is deprecated. In a future version, it will default to False. Select only valid columns or specify the value of numeric_only to silence this warning.\n",
            "  corr = df.drop(\"Total\",axis = 1).corr()\n"
          ]
        },
        {
          "data": {
            "image/png": "[encoded data removed]",
            "text/plain": [
              "<Figure size 800x500 with 2 Axes>"
            ]
          },
          "metadata": {},
          "output_type": "display_data"
        }
      ],
      "source": [
        "ax = plt.axes()\n",
        "corr = df.drop(\"Total\",axis = 1).corr()\n",
        "sns.heatmap(corr,annot=True,cmap='RdYlGn',linewidths=0.1, ax = ax)#data.corr()-->correlation matrix\n",
        "ax.set_title(\"Realationship Between Super Powers\", fontsize = 18)\n",
        "fig=plt.gcf()\n",
        "fig.set_size_inches(8,5)"
      ]
    },
    {
      "cell_type": "markdown",
      "metadata": {
        "id": "QFRjfI4Attna"
      },
      "source": [
        "- Upon examining the Heatmap, I noticed correlations among the superpowers as follows:\n",
        "\n",
        "    - There is a minor negative correlation between \"Strength\" and both \"Combat\" and \"Strength\".\n",
        "    - \"Speed\" shows a slight negative correlation with \"Combat\".\n",
        "    - \"Combat\" exhibits a strong correlation with \"Intelligence\".\n",
        "    - \"Durability\" displays a high correlation with \"Strength\"."
      ]
    },
    {
      "cell_type": "markdown",
      "metadata": {
        "id": "JjSMfqLLYLRN"
      },
      "source": [
        "#Machine Learning"
      ]
    },
    {
      "cell_type": "code",
      "execution_count": 44,
      "metadata": {
        "id": "ORhhbm_FD82E"
      },
      "outputs": [],
      "source": [
        "from sklearn.linear_model  import LogisticRegression\n",
        "from sklearn.model_selection import train_test_split\n",
        "from sklearn.metrics import accuracy_score, classification_report,ConfusionMatrixDisplay, confusion_matrix"
      ]
    },
    {
      "cell_type": "code",
      "execution_count": 45,
      "metadata": {
        "colab": {
          "base_uri": "https://localhost:8080/"
        },
        "id": "tiHY4y9Attnd",
        "outputId": "b0d5f0d1-be80-41b3-99a9-1c0c4f5f867f"
      },
      "outputs": [
        {
          "data": {
            "text/plain": [
              "good       432\n",
              "bad        165\n",
              "neutral     11\n",
              "Name: Alignment, dtype: int64"
            ]
          },
          "execution_count": 45,
          "metadata": {},
          "output_type": "execute_result"
        }
      ],
      "source": [
        "df[\"Alignment\"].value_counts()"
      ]
    },
    {
      "cell_type": "markdown",
      "metadata": {
        "id": "rf89PyZjttnf"
      },
      "source": [
        "- It appears that my Alignment classes are imbalanced, which can introduce bias to my Classification model.\n",
        "- In order to achieve balance, I removed the neutral class and added only 165 rows for each of the \"bad\" and \"good\" classes."
      ]
    },
    {
      "cell_type": "code",
      "execution_count": 46,
      "metadata": {
        "colab": {
          "base_uri": "https://localhost:8080/"
        },
        "id": "iHFIPU0jLcJc",
        "outputId": "e2a757aa-b075-4701-f553-375cc1177337"
      },
      "outputs": [
        {
          "data": {
            "text/plain": [
              "good    165\n",
              "bad     165\n",
              "Name: Alignment, dtype: int64"
            ]
          },
          "execution_count": 46,
          "metadata": {},
          "output_type": "execute_result"
        }
      ],
      "source": [
        "good =df[(df[\"Alignment\"]==\"good\")][:165]\n",
        "bad = df[(df[\"Alignment\"]==\"bad\")]\n",
        "\n",
        "temp_df = pd.concat([good,bad], axis = 0)\n",
        "temp_df[\"Alignment\"].value_counts()"
      ]
    },
    {
      "cell_type": "code",
      "execution_count": 47,
      "metadata": {
        "id": "WwvDJIUIJIoA"
      },
      "outputs": [],
      "source": [
        "X = temp_df.drop([\"Name\",\"Alignment\"], axis = 1)\n",
        "Y = temp_df[\"Alignment\"].replace({\n",
        "    \"good\":1,\n",
        "    \"bad\" :-1\n",
        "})"
      ]
    },
    {
      "cell_type": "code",
      "execution_count": 48,
      "metadata": {
        "id": "htyyjknyJJ1d"
      },
      "outputs": [],
      "source": [
        "X_train, X_test, y_train, y_test = train_test_split(X, Y, test_size=0.20, random_state=10)"
      ]
    },
    {
      "cell_type": "code",
      "execution_count": 49,
      "metadata": {
        "colab": {
          "base_uri": "https://localhost:8080/",
          "height": 74
        },
        "id": "4rN_ivS5LInL",
        "outputId": "3278fb1c-a9aa-4cc8-fed8-eac480c5a917"
      },
      "outputs": [
        {
          "data": {
            "text/html": [
              "<style>#sk-container-id-1 {color: black;background-color: white;}#sk-container-id-1 pre{padding: 0;}#sk-container-id-1 div.sk-toggleable {background-color: white;}#sk-container-id-1 label.sk-toggleable__label {cursor: pointer;display: block;width: 100%;margin-bottom: 0;padding: 0.3em;box-sizing: border-box;text-align: center;}#sk-container-id-1 label.sk-toggleable__label-arrow:before {content: \"▸\";float: left;margin-right: 0.25em;color: #696969;}#sk-container-id-1 label.sk-toggleable__label-arrow:hover:before {color: black;}#sk-container-id-1 div.sk-estimator:hover label.sk-toggleable__label-arrow:before {color: black;}#sk-container-id-1 div.sk-toggleable__content {max-height: 0;max-width: 0;overflow: hidden;text-align: left;background-color: #f0f8ff;}#sk-container-id-1 div.sk-toggleable__content pre {margin: 0.2em;color: black;border-radius: 0.25em;background-color: #f0f8ff;}#sk-container-id-1 input.sk-toggleable__control:checked~div.sk-toggleable__content {max-height: 200px;max-width: 100%;overflow: auto;}#sk-container-id-1 input.sk-toggleable__control:checked~label.sk-toggleable__label-arrow:before {content: \"▾\";}#sk-container-id-1 div.sk-estimator input.sk-toggleable__control:checked~label.sk-toggleable__label {background-color: #d4ebff;}#sk-container-id-1 div.sk-label input.sk-toggleable__control:checked~label.sk-toggleable__label {background-color: #d4ebff;}#sk-container-id-1 input.sk-hidden--visually {border: 0;clip: rect(1px 1px 1px 1px);clip: rect(1px, 1px, 1px, 1px);height: 1px;margin: -1px;overflow: hidden;padding: 0;position: absolute;width: 1px;}#sk-container-id-1 div.sk-estimator {font-family: monospace;background-color: #f0f8ff;border: 1px dotted black;border-radius: 0.25em;box-sizing: border-box;margin-bottom: 0.5em;}#sk-container-id-1 div.sk-estimator:hover {background-color: #d4ebff;}#sk-container-id-1 div.sk-parallel-item::after {content: \"\";width: 100%;border-bottom: 1px solid gray;flex-grow: 1;}#sk-container-id-1 div.sk-label:hover label.sk-toggleable__label {background-color: #d4ebff;}#sk-container-id-1 div.sk-serial::before {content: \"\";position: absolute;border-left: 1px solid gray;box-sizing: border-box;top: 0;bottom: 0;left: 50%;z-index: 0;}#sk-container-id-1 div.sk-serial {display: flex;flex-direction: column;align-items: center;background-color: white;padding-right: 0.2em;padding-left: 0.2em;position: relative;}#sk-container-id-1 div.sk-item {position: relative;z-index: 1;}#sk-container-id-1 div.sk-parallel {display: flex;align-items: stretch;justify-content: center;background-color: white;position: relative;}#sk-container-id-1 div.sk-item::before, #sk-container-id-1 div.sk-parallel-item::before {content: \"\";position: absolute;border-left: 1px solid gray;box-sizing: border-box;top: 0;bottom: 0;left: 50%;z-index: -1;}#sk-container-id-1 div.sk-parallel-item {display: flex;flex-direction: column;z-index: 1;position: relative;background-color: white;}#sk-container-id-1 div.sk-parallel-item:first-child::after {align-self: flex-end;width: 50%;}#sk-container-id-1 div.sk-parallel-item:last-child::after {align-self: flex-start;width: 50%;}#sk-container-id-1 div.sk-parallel-item:only-child::after {width: 0;}#sk-container-id-1 div.sk-dashed-wrapped {border: 1px dashed gray;margin: 0 0.4em 0.5em 0.4em;box-sizing: border-box;padding-bottom: 0.4em;background-color: white;}#sk-container-id-1 div.sk-label label {font-family: monospace;font-weight: bold;display: inline-block;line-height: 1.2em;}#sk-container-id-1 div.sk-label-container {text-align: center;}#sk-container-id-1 div.sk-container {/* jupyter's `normalize.less` sets `[hidden] { display: none; }` but bootstrap.min.css set `[hidden] { display: none !important; }` so we also need the `!important` here to be able to override the default hidden behavior on the sphinx rendered scikit-learn.org. See: https://github.com/scikit-learn/scikit-learn/issues/21755 */display: inline-block !important;position: relative;}#sk-container-id-1 div.sk-text-repr-fallback {display: none;}</style><div id=\"sk-container-id-1\" class=\"sk-top-container\"><div class=\"sk-text-repr-fallback\"><pre>LogisticRegression()</pre><b>In a Jupyter environment, please rerun this cell to show the HTML representation or trust the notebook. <br />On GitHub, the HTML representation is unable to render, please try loading this page with nbviewer.org.</b></div><div class=\"sk-container\" hidden><div class=\"sk-item\"><div class=\"sk-estimator sk-toggleable\"><input class=\"sk-toggleable__control sk-hidden--visually\" id=\"sk-estimator-id-1\" type=\"checkbox\" checked><label for=\"sk-estimator-id-1\" class=\"sk-toggleable__label sk-toggleable__label-arrow\">LogisticRegression</label><div class=\"sk-toggleable__content\"><pre>LogisticRegression()</pre></div></div></div></div></div>"
            ],
            "text/plain": [
              "LogisticRegression()"
            ]
          },
          "execution_count": 49,
          "metadata": {},
          "output_type": "execute_result"
        }
      ],
      "source": [
        "model = LogisticRegression()\n",
        "model.fit(X_train, y_train)"
      ]
    },
    {
      "cell_type": "code",
      "execution_count": 50,
      "metadata": {
        "colab": {
          "base_uri": "https://localhost:8080/"
        },
        "id": "BxO2fwtmM2QF",
        "outputId": "d889fc58-679b-42e9-c90f-414372ec7d11"
      },
      "outputs": [
        {
          "data": {
            "text/plain": [
              "array([-1,  1, -1,  1,  1, -1,  1, -1,  1, -1,  1, -1, -1,  1, -1, -1,  1,\n",
              "       -1,  1,  1,  1, -1,  1,  1,  1, -1,  1, -1,  1, -1,  1, -1, -1,  1,\n",
              "       -1,  1,  1,  1, -1,  1, -1,  1, -1,  1, -1, -1, -1,  1, -1, -1,  1,\n",
              "        1, -1,  1,  1, -1,  1,  1,  1, -1, -1,  1,  1,  1, -1,  1],\n",
              "      dtype=int64)"
            ]
          },
          "execution_count": 50,
          "metadata": {},
          "output_type": "execute_result"
        }
      ],
      "source": [
        "y_pred = model.predict(X_test)\n",
        "y_pred"
      ]
    },
    {
      "cell_type": "code",
      "execution_count": 51,
      "metadata": {
        "colab": {
          "base_uri": "https://localhost:8080/"
        },
        "id": "Pg4lJ5WXNAcm",
        "outputId": "46c01498-50b6-43bb-959b-6eb15a8f38d1"
      },
      "outputs": [
        {
          "data": {
            "text/plain": [
              "array([ 1,  1,  1, -1,  1,  1, -1, -1,  1, -1,  1, -1, -1,  1, -1,  1,  1,\n",
              "       -1,  1,  1, -1,  1,  1, -1,  1, -1,  1, -1, -1,  1,  1,  1,  1,  1,\n",
              "       -1,  1, -1, -1, -1,  1,  1,  1, -1,  1, -1, -1, -1,  1, -1, -1,  1,\n",
              "        1, -1,  1, -1, -1, -1,  1, -1, -1, -1, -1,  1, -1, -1,  1],\n",
              "      dtype=int64)"
            ]
          },
          "execution_count": 51,
          "metadata": {},
          "output_type": "execute_result"
        }
      ],
      "source": [
        "y_test.values"
      ]
    },
    {
      "cell_type": "code",
      "execution_count": 52,
      "metadata": {
        "colab": {
          "base_uri": "https://localhost:8080/"
        },
        "id": "AtfNHHv6NYrC",
        "outputId": "41c4f566-127a-4698-a261-c0123446f70b"
      },
      "outputs": [
        {
          "data": {
            "text/plain": [
              "0.6818181818181818"
            ]
          },
          "execution_count": 52,
          "metadata": {},
          "output_type": "execute_result"
        }
      ],
      "source": [
        "accuracy_score(y_test, y_pred)"
      ]
    },
    {
      "cell_type": "code",
      "execution_count": 53,
      "metadata": {
        "colab": {
          "base_uri": "https://localhost:8080/"
        },
        "id": "Hs7MQrkeN_uA",
        "outputId": "c4bbb090-f552-47ee-a81f-8e370586451f"
      },
      "outputs": [
        {
          "name": "stdout",
          "output_type": "stream",
          "text": [
            "              precision    recall  f1-score   support\n",
            "\n",
            "          -1       0.70      0.64      0.67        33\n",
            "           1       0.67      0.73      0.70        33\n",
            "\n",
            "    accuracy                           0.68        66\n",
            "   macro avg       0.68      0.68      0.68        66\n",
            "weighted avg       0.68      0.68      0.68        66\n",
            "\n"
          ]
        }
      ],
      "source": [
        "print(classification_report(y_test, y_pred))"
      ]
    },
    {
      "cell_type": "code",
      "execution_count": 54,
      "metadata": {
        "colab": {
          "base_uri": "https://localhost:8080/",
          "height": 283
        },
        "id": "ztJ01cKKOHrT",
        "outputId": "c4019045-5e9c-43be-9b35-de4fbf56dc97"
      },
      "outputs": [
        {
          "data": {
            "image/png": "[encoded data removed]",
            "text/plain": [
              "<Figure size 640x480 with 2 Axes>"
            ]
          },
          "metadata": {},
          "output_type": "display_data"
        }
      ],
      "source": [
        "disp = ConfusionMatrixDisplay(confusion_matrix(y_test, y_pred), display_labels=[-1,1])\n",
        "disp.plot();"
      ]
    },
    {
      "cell_type": "markdown",
      "metadata": {
        "id": "A4vuZCm5ttnv"
      },
      "source": [
        "- Confusion Matrix looks good and generalized as I got approxiamately equal  precision on each classes, We can further increase the accuracy of the model by  adding more rows in my training data set. "
      ]
    },
    {
      "cell_type": "code",
      "execution_count": null,
      "metadata": {
        "id": "5iX8T7ASPm2a"
      },
      "outputs": [],
      "source": []
    }
  ],
  "metadata": {
    "colab": {
      "provenance": []
    },
    "kernelspec": {
      "display_name": "Python 3 (ipykernel)",
      "language": "python",
      "name": "python3"
    },
    "language_info": {
      "codemirror_mode": {
        "name": "ipython",
        "version": 3
      },
      "file_extension": ".py",
      "mimetype": "text/x-python",
      "name": "python",
      "nbconvert_exporter": "python",
      "pygments_lexer": "ipython3",
      "version": "3.9.16"
    }
  },
  "nbformat": 4,
  "nbformat_minor": 0
}
