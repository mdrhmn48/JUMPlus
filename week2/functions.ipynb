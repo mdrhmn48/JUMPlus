{
 "cells": [
  {
   "cell_type": "code",
   "execution_count": 4,
   "metadata": {},
   "outputs": [
    {
     "name": "stdout",
     "output_type": "stream",
     "text": [
      "MD\n",
      "Adibah\n"
     ]
    }
   ],
   "source": [
    "my_list =[\"MD\", \"Adibah\", \"Love\"]\n",
    "iter_list = iter(my_list)\n",
    "print(iter_list.__next__())\n",
    "print(next(iter_list))"
   ]
  },
  {
   "cell_type": "code",
   "execution_count": 5,
   "metadata": {},
   "outputs": [
    {
     "name": "stdout",
     "output_type": "stream",
     "text": [
      "MD\n",
      "Adibah\n",
      "Love\n"
     ]
    }
   ],
   "source": [
    "for i in my_list:\n",
    "    print(i)"
   ]
  },
  {
   "cell_type": "code",
   "execution_count": 6,
   "metadata": {},
   "outputs": [
    {
     "name": "stdout",
     "output_type": "stream",
     "text": [
      "first\n"
     ]
    }
   ],
   "source": [
    "my_tuple = (\"first\", \"second\", \"third\")\n",
    "tuple_iter = iter(my_tuple)\n",
    "\n",
    "print(next(tuple_iter))"
   ]
  },
  {
   "cell_type": "code",
   "execution_count": 7,
   "metadata": {},
   "outputs": [
    {
     "name": "stdout",
     "output_type": "stream",
     "text": [
      "1\n"
     ]
    }
   ],
   "source": [
    "my_set = {1,3,4,5,6}\n",
    "set_iter = iter(my_set)\n",
    "print(next(set_iter))"
   ]
  },
  {
   "cell_type": "code",
   "execution_count": 10,
   "metadata": {},
   "outputs": [
    {
     "name": "stdout",
     "output_type": "stream",
     "text": [
      "(1, 'Red')\n"
     ]
    }
   ],
   "source": [
    "colors = {1: \"Red\", 2: \"Blue\", 3:\"Green\"}\n",
    "\n",
    "color_iter = iter(colors.items())\n",
    "print(color_iter.__next__())"
   ]
  },
  {
   "cell_type": "code",
   "execution_count": null,
   "metadata": {},
   "outputs": [],
   "source": [
    "class NumberBank:\n",
    "    def __init__(self, num1, num2, num3) -> None:\n",
    "        self.num1 = num1\n",
    "        self.num2 = num2\n",
    "        self.num3 = num3\n",
    "    def __iter__(self):\n",
    "        yield self.num1\n",
    "        yield self.num2\n",
    "        yield self.num3\n",
    "\n",
    "\n",
    "\n",
    "\n",
    "bank = NumberBank(1,2,3)\n",
    "\n",
    "x= iter(bank)\n",
    "x.__next__()\n"
   ]
  },
  {
   "cell_type": "code",
   "execution_count": null,
   "metadata": {},
   "outputs": [],
   "source": [
    "food = [\"coffee\", \"cheicken\", \"pizza\"]\n",
    "\n",
    "food_iter = iter(food)\n",
    "\n",
    "print(\"pizza\" in food_iter)\n",
    "\n",
    "food"
   ]
  },
  {
   "cell_type": "code",
   "execution_count": 13,
   "metadata": {},
   "outputs": [
    {
     "data": {
      "text/plain": [
       "['I am making a smothie from apple',\n",
       " 'I am making a smothie from mango',\n",
       " 'I am making a smothie from guava']"
      ]
     },
     "execution_count": 13,
     "metadata": {},
     "output_type": "execute_result"
    }
   ],
   "source": [
    "fruits = [\"apple\", \"mango\", \"guava\", \"cherry\"]\n",
    "\n",
    "smothie = [f\"I am making a smothie from {fruit.lower()}\" for fruit in fruits if len(fruit)<6]\n",
    "smothie"
   ]
  },
  {
   "cell_type": "code",
   "execution_count": 14,
   "metadata": {},
   "outputs": [
    {
     "data": {
      "text/plain": [
       "{'a', 'c', 'g', 'm'}"
      ]
     },
     "execution_count": 14,
     "metadata": {},
     "output_type": "execute_result"
    }
   ],
   "source": [
    "starting_letter = {fruit[0] for fruit in fruits}\n",
    "starting_letter"
   ]
  },
  {
   "cell_type": "code",
   "execution_count": 15,
   "metadata": {},
   "outputs": [
    {
     "data": {
      "text/plain": [
       "{'apple': 5, 'mango': 5, 'guava': 5, 'cherry': 6}"
      ]
     },
     "execution_count": 15,
     "metadata": {},
     "output_type": "execute_result"
    }
   ],
   "source": [
    "fruit_lenght = {fruit : len(fruit) for fruit in fruits}\n",
    "fruit_lenght"
   ]
  },
  {
   "cell_type": "code",
   "execution_count": 19,
   "metadata": {},
   "outputs": [
    {
     "name": "stdout",
     "output_type": "stream",
     "text": [
      "<generator object <genexpr> at 0x0000023E5A242C10> <class 'generator'>\n",
      "Next apple\n",
      "Next mango\n",
      "Next guava\n",
      "Next cherry\n"
     ]
    },
    {
     "ename": "StopIteration",
     "evalue": "",
     "output_type": "error",
     "traceback": [
      "\u001b[1;31m---------------------------------------------------------------------------\u001b[0m",
      "\u001b[1;31mStopIteration\u001b[0m                             Traceback (most recent call last)",
      "Cell \u001b[1;32mIn[19], line 9\u001b[0m\n\u001b[0;32m      7\u001b[0m \u001b[39mprint\u001b[39m(\u001b[39m\"\u001b[39m\u001b[39mNext\u001b[39m\u001b[39m\"\u001b[39m, \u001b[39mnext\u001b[39m(fruit_gen))\n\u001b[0;32m      8\u001b[0m \u001b[39mprint\u001b[39m(\u001b[39m\"\u001b[39m\u001b[39mNext\u001b[39m\u001b[39m\"\u001b[39m, \u001b[39mnext\u001b[39m(fruit_gen))\n\u001b[1;32m----> 9\u001b[0m \u001b[39mprint\u001b[39m(\u001b[39m\"\u001b[39m\u001b[39mNext\u001b[39m\u001b[39m\"\u001b[39m, \u001b[39mnext\u001b[39;49m(fruit_gen))\n",
      "\u001b[1;31mStopIteration\u001b[0m: "
     ]
    }
   ],
   "source": [
    "fruit_gen = (fruit.lower() for fruit in fruits)\n",
    "\n",
    "print(fruit_gen, type(fruit_gen))\n",
    "\n",
    "print(\"Next\", next(fruit_gen))\n",
    "print(\"Next\", next(fruit_gen))\n",
    "print(\"Next\", next(fruit_gen))\n",
    "print(\"Next\", next(fruit_gen))\n",
    "print(\"Next\", next(fruit_gen))"
   ]
  },
  {
   "cell_type": "code",
   "execution_count": null,
   "metadata": {},
   "outputs": [],
   "source": [
    "#generator functions: \n",
    "def count_to_three():\n",
    "    yield 1\n",
    "    yield 2\n",
    "    yield 3\n",
    "\n",
    "counter = count_to_three()\n",
    "print(next(counter), \" \", next(counter), \" \", next(counter))"
   ]
  },
  {
   "cell_type": "code",
   "execution_count": null,
   "metadata": {},
   "outputs": [],
   "source": [
    "def endless_nums():\n",
    "    i = 0\n",
    "    while True:\n",
    "        yield i += 1\n",
    "endless = endless_nums()\n",
    "\n",
    "\n"
   ]
  },
  {
   "cell_type": "code",
   "execution_count": null,
   "metadata": {},
   "outputs": [],
   "source": [
    "def endless_nums():\n",
    "    i = 0\n",
    "    while True:\n",
    "        ans = (yield i)\n",
    "        if ans is not None:\n",
    "            i = ans\n",
    "\n",
    "        i += 1\n",
    "\n",
    "endless = endless_nums()\n"
   ]
  }
 ],
 "metadata": {
  "kernelspec": {
   "display_name": "md_env",
   "language": "python",
   "name": "python3"
  },
  "language_info": {
   "codemirror_mode": {
    "name": "ipython",
    "version": 3
   },
   "file_extension": ".py",
   "mimetype": "text/x-python",
   "name": "python",
   "nbconvert_exporter": "python",
   "pygments_lexer": "ipython3",
   "version": "3.9.16"
  },
  "orig_nbformat": 4
 },
 "nbformat": 4,
 "nbformat_minor": 2
}
