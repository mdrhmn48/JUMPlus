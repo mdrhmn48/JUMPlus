{
  "cells": [
    {
      "cell_type": "code",
      "execution_count": 39,
      "metadata": {
        "id": "NTaSDPsAh9Ar"
      },
      "outputs": [],
      "source": [
        "#importing libraries \n",
        "import pandas as pd\n",
        "import matplotlib.pyplot as plt\n",
        "import seaborn as sns"
      ]
    },
    {
      "cell_type": "code",
      "execution_count": 40,
      "metadata": {
        "colab": {
          "base_uri": "https://localhost:8080/"
        },
        "id": "JnfsCOwMsMYY",
        "outputId": "693a80c2-0d12-435a-e86a-9b54cfa6b545"
      },
      "outputs": [],
      "source": [
        "# bucket = \"project1-jumplus\"\n",
        "file1 = \"players_20.csv\"\n",
        "# s3_client.download_file(bucket, file1, file1)"
      ]
    },
    {
      "cell_type": "code",
      "execution_count": 41,
      "metadata": {
        "colab": {
          "base_uri": "https://localhost:8080/",
          "height": 560
        },
        "id": "-NIzeBIOibcj",
        "outputId": "1aa488cf-94ac-46fd-ced6-8fccdb630b94"
      },
      "outputs": [
        {
          "data": {
            "text/html": [
              "<div>\n",
              "<style scoped>\n",
              "    .dataframe tbody tr th:only-of-type {\n",
              "        vertical-align: middle;\n",
              "    }\n",
              "\n",
              "    .dataframe tbody tr th {\n",
              "        vertical-align: top;\n",
              "    }\n",
              "\n",
              "    .dataframe thead th {\n",
              "        text-align: right;\n",
              "    }\n",
              "</style>\n",
              "<table border=\"1\" class=\"dataframe\">\n",
              "  <thead>\n",
              "    <tr style=\"text-align: right;\">\n",
              "      <th></th>\n",
              "      <th>sofifa_id</th>\n",
              "      <th>player_url</th>\n",
              "      <th>short_name</th>\n",
              "      <th>long_name</th>\n",
              "      <th>age</th>\n",
              "      <th>dob</th>\n",
              "      <th>height_cm</th>\n",
              "      <th>weight_kg</th>\n",
              "      <th>nationality</th>\n",
              "      <th>club</th>\n",
              "      <th>...</th>\n",
              "      <th>lwb</th>\n",
              "      <th>ldm</th>\n",
              "      <th>cdm</th>\n",
              "      <th>rdm</th>\n",
              "      <th>rwb</th>\n",
              "      <th>lb</th>\n",
              "      <th>lcb</th>\n",
              "      <th>cb</th>\n",
              "      <th>rcb</th>\n",
              "      <th>rb</th>\n",
              "    </tr>\n",
              "  </thead>\n",
              "  <tbody>\n",
              "    <tr>\n",
              "      <th>0</th>\n",
              "      <td>158023</td>\n",
              "      <td>https://sofifa.com/player/158023/lionel-messi/...</td>\n",
              "      <td>L. Messi</td>\n",
              "      <td>Lionel Andrés Messi Cuccittini</td>\n",
              "      <td>32</td>\n",
              "      <td>1987-06-24</td>\n",
              "      <td>170</td>\n",
              "      <td>72</td>\n",
              "      <td>Argentina</td>\n",
              "      <td>FC Barcelona</td>\n",
              "      <td>...</td>\n",
              "      <td>68+2</td>\n",
              "      <td>66+2</td>\n",
              "      <td>66+2</td>\n",
              "      <td>66+2</td>\n",
              "      <td>68+2</td>\n",
              "      <td>63+2</td>\n",
              "      <td>52+2</td>\n",
              "      <td>52+2</td>\n",
              "      <td>52+2</td>\n",
              "      <td>63+2</td>\n",
              "    </tr>\n",
              "    <tr>\n",
              "      <th>1</th>\n",
              "      <td>20801</td>\n",
              "      <td>https://sofifa.com/player/20801/c-ronaldo-dos-...</td>\n",
              "      <td>Cristiano Ronaldo</td>\n",
              "      <td>Cristiano Ronaldo dos Santos Aveiro</td>\n",
              "      <td>34</td>\n",
              "      <td>1985-02-05</td>\n",
              "      <td>187</td>\n",
              "      <td>83</td>\n",
              "      <td>Portugal</td>\n",
              "      <td>Juventus</td>\n",
              "      <td>...</td>\n",
              "      <td>65+3</td>\n",
              "      <td>61+3</td>\n",
              "      <td>61+3</td>\n",
              "      <td>61+3</td>\n",
              "      <td>65+3</td>\n",
              "      <td>61+3</td>\n",
              "      <td>53+3</td>\n",
              "      <td>53+3</td>\n",
              "      <td>53+3</td>\n",
              "      <td>61+3</td>\n",
              "    </tr>\n",
              "    <tr>\n",
              "      <th>2</th>\n",
              "      <td>190871</td>\n",
              "      <td>https://sofifa.com/player/190871/neymar-da-sil...</td>\n",
              "      <td>Neymar Jr</td>\n",
              "      <td>Neymar da Silva Santos Junior</td>\n",
              "      <td>27</td>\n",
              "      <td>1992-02-05</td>\n",
              "      <td>175</td>\n",
              "      <td>68</td>\n",
              "      <td>Brazil</td>\n",
              "      <td>Paris Saint-Germain</td>\n",
              "      <td>...</td>\n",
              "      <td>66+3</td>\n",
              "      <td>61+3</td>\n",
              "      <td>61+3</td>\n",
              "      <td>61+3</td>\n",
              "      <td>66+3</td>\n",
              "      <td>61+3</td>\n",
              "      <td>46+3</td>\n",
              "      <td>46+3</td>\n",
              "      <td>46+3</td>\n",
              "      <td>61+3</td>\n",
              "    </tr>\n",
              "    <tr>\n",
              "      <th>3</th>\n",
              "      <td>200389</td>\n",
              "      <td>https://sofifa.com/player/200389/jan-oblak/20/...</td>\n",
              "      <td>J. Oblak</td>\n",
              "      <td>Jan Oblak</td>\n",
              "      <td>26</td>\n",
              "      <td>1993-01-07</td>\n",
              "      <td>188</td>\n",
              "      <td>87</td>\n",
              "      <td>Slovenia</td>\n",
              "      <td>Atlético Madrid</td>\n",
              "      <td>...</td>\n",
              "      <td>NaN</td>\n",
              "      <td>NaN</td>\n",
              "      <td>NaN</td>\n",
              "      <td>NaN</td>\n",
              "      <td>NaN</td>\n",
              "      <td>NaN</td>\n",
              "      <td>NaN</td>\n",
              "      <td>NaN</td>\n",
              "      <td>NaN</td>\n",
              "      <td>NaN</td>\n",
              "    </tr>\n",
              "    <tr>\n",
              "      <th>4</th>\n",
              "      <td>183277</td>\n",
              "      <td>https://sofifa.com/player/183277/eden-hazard/2...</td>\n",
              "      <td>E. Hazard</td>\n",
              "      <td>Eden Hazard</td>\n",
              "      <td>28</td>\n",
              "      <td>1991-01-07</td>\n",
              "      <td>175</td>\n",
              "      <td>74</td>\n",
              "      <td>Belgium</td>\n",
              "      <td>Real Madrid</td>\n",
              "      <td>...</td>\n",
              "      <td>66+3</td>\n",
              "      <td>63+3</td>\n",
              "      <td>63+3</td>\n",
              "      <td>63+3</td>\n",
              "      <td>66+3</td>\n",
              "      <td>61+3</td>\n",
              "      <td>49+3</td>\n",
              "      <td>49+3</td>\n",
              "      <td>49+3</td>\n",
              "      <td>61+3</td>\n",
              "    </tr>\n",
              "  </tbody>\n",
              "</table>\n",
              "<p>5 rows × 104 columns</p>\n",
              "</div>"
            ],
            "text/plain": [
              "   sofifa_id                                         player_url  \\\n",
              "0     158023  https://sofifa.com/player/158023/lionel-messi/...   \n",
              "1      20801  https://sofifa.com/player/20801/c-ronaldo-dos-...   \n",
              "2     190871  https://sofifa.com/player/190871/neymar-da-sil...   \n",
              "3     200389  https://sofifa.com/player/200389/jan-oblak/20/...   \n",
              "4     183277  https://sofifa.com/player/183277/eden-hazard/2...   \n",
              "\n",
              "          short_name                            long_name  age         dob  \\\n",
              "0           L. Messi       Lionel Andrés Messi Cuccittini   32  1987-06-24   \n",
              "1  Cristiano Ronaldo  Cristiano Ronaldo dos Santos Aveiro   34  1985-02-05   \n",
              "2          Neymar Jr        Neymar da Silva Santos Junior   27  1992-02-05   \n",
              "3           J. Oblak                            Jan Oblak   26  1993-01-07   \n",
              "4          E. Hazard                          Eden Hazard   28  1991-01-07   \n",
              "\n",
              "   height_cm  weight_kg nationality                 club  ...   lwb   ldm  \\\n",
              "0        170         72   Argentina         FC Barcelona  ...  68+2  66+2   \n",
              "1        187         83    Portugal             Juventus  ...  65+3  61+3   \n",
              "2        175         68      Brazil  Paris Saint-Germain  ...  66+3  61+3   \n",
              "3        188         87    Slovenia      Atlético Madrid  ...   NaN   NaN   \n",
              "4        175         74     Belgium          Real Madrid  ...  66+3  63+3   \n",
              "\n",
              "    cdm   rdm   rwb    lb   lcb    cb   rcb    rb  \n",
              "0  66+2  66+2  68+2  63+2  52+2  52+2  52+2  63+2  \n",
              "1  61+3  61+3  65+3  61+3  53+3  53+3  53+3  61+3  \n",
              "2  61+3  61+3  66+3  61+3  46+3  46+3  46+3  61+3  \n",
              "3   NaN   NaN   NaN   NaN   NaN   NaN   NaN   NaN  \n",
              "4  63+3  63+3  66+3  61+3  49+3  49+3  49+3  61+3  \n",
              "\n",
              "[5 rows x 104 columns]"
            ]
          },
          "execution_count": 41,
          "metadata": {},
          "output_type": "execute_result"
        }
      ],
      "source": [
        "#1.Load the csv file and show top 5 records from it\n",
        "df = pd.read_csv(file1)\n",
        "df.head()"
      ]
    },
    {
      "cell_type": "code",
      "execution_count": 42,
      "metadata": {
        "colab": {
          "base_uri": "https://localhost:8080/"
        },
        "id": "lKcXtBIN2pU0",
        "outputId": "840fbbfd-7dfd-4ac9-86e1-bed04260ec2a"
      },
      "outputs": [
        {
          "name": "stdout",
          "output_type": "stream",
          "text": [
            "['sofifa_id', 'player_url', 'short_name', 'long_name', 'age', 'dob', 'height_cm', 'weight_kg', 'nationality', 'club', 'overall', 'potential', 'value_eur', 'wage_eur', 'player_positions', 'preferred_foot', 'international_reputation', 'weak_foot', 'skill_moves', 'work_rate', 'body_type', 'real_face', 'release_clause_eur', 'player_tags', 'team_position', 'team_jersey_number', 'loaned_from', 'joined', 'contract_valid_until', 'nation_position', 'nation_jersey_number', 'pace', 'shooting', 'passing', 'dribbling', 'defending', 'physic', 'gk_diving', 'gk_handling', 'gk_kicking', 'gk_reflexes', 'gk_speed', 'gk_positioning', 'player_traits', 'attacking_crossing', 'attacking_finishing', 'attacking_heading_accuracy', 'attacking_short_passing', 'attacking_volleys', 'skill_dribbling', 'skill_curve', 'skill_fk_accuracy', 'skill_long_passing', 'skill_ball_control', 'movement_acceleration', 'movement_sprint_speed', 'movement_agility', 'movement_reactions', 'movement_balance', 'power_shot_power', 'power_jumping', 'power_stamina', 'power_strength', 'power_long_shots', 'mentality_aggression', 'mentality_interceptions', 'mentality_positioning', 'mentality_vision', 'mentality_penalties', 'mentality_composure', 'defending_marking', 'defending_standing_tackle', 'defending_sliding_tackle', 'goalkeeping_diving', 'goalkeeping_handling', 'goalkeeping_kicking', 'goalkeeping_positioning', 'goalkeeping_reflexes', 'ls', 'st', 'rs', 'lw', 'lf', 'cf', 'rf', 'rw', 'lam', 'cam', 'ram', 'lm', 'lcm', 'cm', 'rcm', 'rm', 'lwb', 'ldm', 'cdm', 'rdm', 'rwb', 'lb', 'lcb', 'cb', 'rcb', 'rb']\n"
          ]
        }
      ],
      "source": [
        "#2. How you would be able to see each column's name.\n",
        "print(df.columns.tolist())\n",
        "\n",
        "# for col in df.columns:\n",
        "#   print(col)\n",
        "# df[\"body_type\"].unique()"
      ]
    },
    {
      "cell_type": "code",
      "execution_count": 43,
      "metadata": {
        "colab": {
          "base_uri": "https://localhost:8080/"
        },
        "id": "nzBlAc1C2pSE",
        "outputId": "509fa859-4492-4165-c7b3-8a6ea0f460b0"
      },
      "outputs": [
        {
          "name": "stdout",
          "output_type": "stream",
          "text": [
            "number of rows:  18278\n",
            "number of columns:  104\n"
          ]
        },
        {
          "data": {
            "text/plain": [
              "(18278, 104)"
            ]
          },
          "execution_count": 43,
          "metadata": {},
          "output_type": "execute_result"
        }
      ],
      "source": [
        "#3. Need to show number of rows and columns of this dataset\n",
        "print(\"number of rows: \", len(df))\n",
        "print(\"number of columns: \", len(df.columns))\n",
        "df.shape"
      ]
    },
    {
      "cell_type": "code",
      "execution_count": 44,
      "metadata": {
        "colab": {
          "base_uri": "https://localhost:8080/",
          "height": 455
        },
        "id": "HuZQL8BY2pPW",
        "outputId": "492e648e-a8c6-4f9d-d2d0-c56c7996a817"
      },
      "outputs": [
        {
          "data": {
            "text/html": [
              "<div>\n",
              "<style scoped>\n",
              "    .dataframe tbody tr th:only-of-type {\n",
              "        vertical-align: middle;\n",
              "    }\n",
              "\n",
              "    .dataframe tbody tr th {\n",
              "        vertical-align: top;\n",
              "    }\n",
              "\n",
              "    .dataframe thead th {\n",
              "        text-align: right;\n",
              "    }\n",
              "</style>\n",
              "<table border=\"1\" class=\"dataframe\">\n",
              "  <thead>\n",
              "    <tr style=\"text-align: right;\">\n",
              "      <th></th>\n",
              "      <th>numOfPlayers</th>\n",
              "    </tr>\n",
              "    <tr>\n",
              "      <th>nationality</th>\n",
              "      <th></th>\n",
              "    </tr>\n",
              "  </thead>\n",
              "  <tbody>\n",
              "    <tr>\n",
              "      <th>Afghanistan</th>\n",
              "      <td>2</td>\n",
              "    </tr>\n",
              "    <tr>\n",
              "      <th>Albania</th>\n",
              "      <td>43</td>\n",
              "    </tr>\n",
              "    <tr>\n",
              "      <th>Algeria</th>\n",
              "      <td>50</td>\n",
              "    </tr>\n",
              "    <tr>\n",
              "      <th>Angola</th>\n",
              "      <td>16</td>\n",
              "    </tr>\n",
              "    <tr>\n",
              "      <th>Antigua &amp; Barbuda</th>\n",
              "      <td>7</td>\n",
              "    </tr>\n",
              "    <tr>\n",
              "      <th>...</th>\n",
              "      <td>...</td>\n",
              "    </tr>\n",
              "    <tr>\n",
              "      <th>Venezuela</th>\n",
              "      <td>66</td>\n",
              "    </tr>\n",
              "    <tr>\n",
              "      <th>Vietnam</th>\n",
              "      <td>1</td>\n",
              "    </tr>\n",
              "    <tr>\n",
              "      <th>Wales</th>\n",
              "      <td>117</td>\n",
              "    </tr>\n",
              "    <tr>\n",
              "      <th>Zambia</th>\n",
              "      <td>10</td>\n",
              "    </tr>\n",
              "    <tr>\n",
              "      <th>Zimbabwe</th>\n",
              "      <td>12</td>\n",
              "    </tr>\n",
              "  </tbody>\n",
              "</table>\n",
              "<p>162 rows × 1 columns</p>\n",
              "</div>"
            ],
            "text/plain": [
              "                   numOfPlayers\n",
              "nationality                    \n",
              "Afghanistan                   2\n",
              "Albania                      43\n",
              "Algeria                      50\n",
              "Angola                       16\n",
              "Antigua & Barbuda             7\n",
              "...                         ...\n",
              "Venezuela                    66\n",
              "Vietnam                       1\n",
              "Wales                       117\n",
              "Zambia                       10\n",
              "Zimbabwe                     12\n",
              "\n",
              "[162 rows x 1 columns]"
            ]
          },
          "execution_count": 44,
          "metadata": {},
          "output_type": "execute_result"
        }
      ],
      "source": [
        "#4. Show number of players and their countries.\n",
        "# Groupby multiple columns\n",
        "result = df.groupby(['nationality']).agg(numOfPlayers=('short_name', 'count'))\n",
        "result"
      ]
    },
    {
      "cell_type": "code",
      "execution_count": 45,
      "metadata": {
        "colab": {
          "base_uri": "https://localhost:8080/",
          "height": 363
        },
        "id": "T9P_RHvb2pMW",
        "outputId": "6eeceba1-a517-4320-faf9-1f89c8bcdeaf"
      },
      "outputs": [
        {
          "data": {
            "text/html": [
              "<div>\n",
              "<style scoped>\n",
              "    .dataframe tbody tr th:only-of-type {\n",
              "        vertical-align: middle;\n",
              "    }\n",
              "\n",
              "    .dataframe tbody tr th {\n",
              "        vertical-align: top;\n",
              "    }\n",
              "\n",
              "    .dataframe thead th {\n",
              "        text-align: right;\n",
              "    }\n",
              "</style>\n",
              "<table border=\"1\" class=\"dataframe\">\n",
              "  <thead>\n",
              "    <tr style=\"text-align: right;\">\n",
              "      <th></th>\n",
              "      <th>nationality</th>\n",
              "      <th>numOfPlayers</th>\n",
              "    </tr>\n",
              "  </thead>\n",
              "  <tbody>\n",
              "    <tr>\n",
              "      <th>0</th>\n",
              "      <td>England</td>\n",
              "      <td>1667</td>\n",
              "    </tr>\n",
              "    <tr>\n",
              "      <th>1</th>\n",
              "      <td>Germany</td>\n",
              "      <td>1216</td>\n",
              "    </tr>\n",
              "    <tr>\n",
              "      <th>2</th>\n",
              "      <td>Spain</td>\n",
              "      <td>1035</td>\n",
              "    </tr>\n",
              "    <tr>\n",
              "      <th>3</th>\n",
              "      <td>France</td>\n",
              "      <td>984</td>\n",
              "    </tr>\n",
              "    <tr>\n",
              "      <th>4</th>\n",
              "      <td>Argentina</td>\n",
              "      <td>886</td>\n",
              "    </tr>\n",
              "    <tr>\n",
              "      <th>5</th>\n",
              "      <td>Brazil</td>\n",
              "      <td>824</td>\n",
              "    </tr>\n",
              "    <tr>\n",
              "      <th>6</th>\n",
              "      <td>Italy</td>\n",
              "      <td>732</td>\n",
              "    </tr>\n",
              "    <tr>\n",
              "      <th>7</th>\n",
              "      <td>Colombia</td>\n",
              "      <td>591</td>\n",
              "    </tr>\n",
              "    <tr>\n",
              "      <th>8</th>\n",
              "      <td>Japan</td>\n",
              "      <td>453</td>\n",
              "    </tr>\n",
              "    <tr>\n",
              "      <th>9</th>\n",
              "      <td>Netherlands</td>\n",
              "      <td>416</td>\n",
              "    </tr>\n",
              "  </tbody>\n",
              "</table>\n",
              "</div>"
            ],
            "text/plain": [
              "   nationality  numOfPlayers\n",
              "0      England          1667\n",
              "1      Germany          1216\n",
              "2        Spain          1035\n",
              "3       France           984\n",
              "4    Argentina           886\n",
              "5       Brazil           824\n",
              "6        Italy           732\n",
              "7     Colombia           591\n",
              "8        Japan           453\n",
              "9  Netherlands           416"
            ]
          },
          "execution_count": 45,
          "metadata": {},
          "output_type": "execute_result"
        }
      ],
      "source": [
        "# 5. If you find many records in point 4 then show only top 10 countries and their number of players.\n",
        "top10 = result['numOfPlayers'].nlargest(n=10)\n",
        "top10 = top10.to_frame().reset_index()\n",
        "top10"
      ]
    },
    {
      "cell_type": "code",
      "execution_count": 46,
      "metadata": {
        "colab": {
          "base_uri": "https://localhost:8080/",
          "height": 351
        },
        "id": "mDq_jrfE2pJc",
        "outputId": "8e7898f6-2652-44c1-96f6-9aa5ced9a357"
      },
      "outputs": [
        {
          "data": {
            "text/plain": [
              "Text(0, 0.5, 'Number Of Players')"
            ]
          },
          "execution_count": 46,
          "metadata": {},
          "output_type": "execute_result"
        },
        {
          "data": {
            "image/png": "[encoded data removed]",
            "text/plain": [
              "<Figure size 640x480 with 1 Axes>"
            ]
          },
          "metadata": {},
          "output_type": "display_data"
        }
      ],
      "source": [
        "#6. Now you have to create a bar plot of top 5 countries and their number of players, try to fill green color in bars.\n",
        "#create bar plot with custom aesthetics\n",
        "top5 = top10.sort_values(by=\"numOfPlayers\", ascending=0)[:5]\n",
        "top5.plot.bar(x='nationality', y='numOfPlayers', color=\"green\")\n",
        "\n",
        "plt.title(\"Countries with Most Players\")\n",
        "plt.xlabel(\"Countries\")\n",
        "plt.ylabel(\"Number Of Players\")"
      ]
    },
    {
      "cell_type": "code",
      "execution_count": 47,
      "metadata": {
        "colab": {
          "base_uri": "https://localhost:8080/",
          "height": 206
        },
        "id": "G_FP9i3YidYD",
        "outputId": "7da49fcf-ab6b-43c1-bc66-ef896af12478"
      },
      "outputs": [
        {
          "data": {
            "text/html": [
              "<div>\n",
              "<style scoped>\n",
              "    .dataframe tbody tr th:only-of-type {\n",
              "        vertical-align: middle;\n",
              "    }\n",
              "\n",
              "    .dataframe tbody tr th {\n",
              "        vertical-align: top;\n",
              "    }\n",
              "\n",
              "    .dataframe thead th {\n",
              "        text-align: right;\n",
              "    }\n",
              "</style>\n",
              "<table border=\"1\" class=\"dataframe\">\n",
              "  <thead>\n",
              "    <tr style=\"text-align: right;\">\n",
              "      <th></th>\n",
              "      <th>short_name</th>\n",
              "      <th>wage_eur</th>\n",
              "    </tr>\n",
              "  </thead>\n",
              "  <tbody>\n",
              "    <tr>\n",
              "      <th>0</th>\n",
              "      <td>L. Messi</td>\n",
              "      <td>565000</td>\n",
              "    </tr>\n",
              "    <tr>\n",
              "      <th>1</th>\n",
              "      <td>E. Hazard</td>\n",
              "      <td>470000</td>\n",
              "    </tr>\n",
              "    <tr>\n",
              "      <th>2</th>\n",
              "      <td>Cristiano Ronaldo</td>\n",
              "      <td>405000</td>\n",
              "    </tr>\n",
              "    <tr>\n",
              "      <th>3</th>\n",
              "      <td>K. De Bruyne</td>\n",
              "      <td>370000</td>\n",
              "    </tr>\n",
              "    <tr>\n",
              "      <th>4</th>\n",
              "      <td>A. Griezmann</td>\n",
              "      <td>370000</td>\n",
              "    </tr>\n",
              "  </tbody>\n",
              "</table>\n",
              "</div>"
            ],
            "text/plain": [
              "          short_name  wage_eur\n",
              "0           L. Messi    565000\n",
              "1          E. Hazard    470000\n",
              "2  Cristiano Ronaldo    405000\n",
              "3       K. De Bruyne    370000\n",
              "4       A. Griezmann    370000"
            ]
          },
          "execution_count": 47,
          "metadata": {},
          "output_type": "execute_result"
        }
      ],
      "source": [
        "#7. Show top 5 players short name and wages.\n",
        "top5_wages = df.nlargest(5, 'wage_eur')\n",
        "top5_wages = top5_wages[[\"short_name\",\"wage_eur\"]]\n",
        "top5_wages.reset_index(drop=True)"
      ]
    },
    {
      "cell_type": "code",
      "execution_count": 48,
      "metadata": {
        "colab": {
          "base_uri": "https://localhost:8080/",
          "height": 206
        },
        "id": "hmFfAmxpnmPh",
        "outputId": "d9149f64-bbce-40bb-b6e8-a17316b9ec5a"
      },
      "outputs": [
        {
          "data": {
            "text/html": [
              "<div>\n",
              "<style scoped>\n",
              "    .dataframe tbody tr th:only-of-type {\n",
              "        vertical-align: middle;\n",
              "    }\n",
              "\n",
              "    .dataframe tbody tr th {\n",
              "        vertical-align: top;\n",
              "    }\n",
              "\n",
              "    .dataframe thead th {\n",
              "        text-align: right;\n",
              "    }\n",
              "</style>\n",
              "<table border=\"1\" class=\"dataframe\">\n",
              "  <thead>\n",
              "    <tr style=\"text-align: right;\">\n",
              "      <th></th>\n",
              "      <th>short_name</th>\n",
              "      <th>wage_eur</th>\n",
              "      <th>value_eur</th>\n",
              "    </tr>\n",
              "  </thead>\n",
              "  <tbody>\n",
              "    <tr>\n",
              "      <th>0</th>\n",
              "      <td>Neymar Jr</td>\n",
              "      <td>290000</td>\n",
              "      <td>105500000</td>\n",
              "    </tr>\n",
              "    <tr>\n",
              "      <th>1</th>\n",
              "      <td>L. Messi</td>\n",
              "      <td>565000</td>\n",
              "      <td>95500000</td>\n",
              "    </tr>\n",
              "    <tr>\n",
              "      <th>2</th>\n",
              "      <td>K. Mbappé</td>\n",
              "      <td>155000</td>\n",
              "      <td>93500000</td>\n",
              "    </tr>\n",
              "    <tr>\n",
              "      <th>3</th>\n",
              "      <td>E. Hazard</td>\n",
              "      <td>470000</td>\n",
              "      <td>90000000</td>\n",
              "    </tr>\n",
              "    <tr>\n",
              "      <th>4</th>\n",
              "      <td>K. De Bruyne</td>\n",
              "      <td>370000</td>\n",
              "      <td>90000000</td>\n",
              "    </tr>\n",
              "  </tbody>\n",
              "</table>\n",
              "</div>"
            ],
            "text/plain": [
              "     short_name  wage_eur  value_eur\n",
              "0     Neymar Jr    290000  105500000\n",
              "1      L. Messi    565000   95500000\n",
              "2     K. Mbappé    155000   93500000\n",
              "3     E. Hazard    470000   90000000\n",
              "4  K. De Bruyne    370000   90000000"
            ]
          },
          "execution_count": 48,
          "metadata": {},
          "output_type": "execute_result"
        }
      ],
      "source": [
        "#8. Show top 5 players short name and wages that are getting highest salaries.\n",
        "\n",
        "top5_salary = df.nlargest(5, 'value_eur')\n",
        "top5_salary = top5_salary[[\"short_name\",\"wage_eur\", 'value_eur']]\n",
        "top5_salary.reset_index(drop=True, inplace=True)\n",
        "\n",
        "top5_salary"
      ]
    },
    {
      "cell_type": "code",
      "execution_count": 49,
      "metadata": {
        "colab": {
          "base_uri": "https://localhost:8080/",
          "height": 368
        },
        "id": "rfSLPiXtpVql",
        "outputId": "f3b7708f-8c94-4196-fb6e-fbd78535d501"
      },
      "outputs": [
        {
          "data": {
            "text/plain": [
              "Text(0, 0.5, 'Euro Pound')"
            ]
          },
          "execution_count": 49,
          "metadata": {},
          "output_type": "execute_result"
        },
        {
          "data": {
            "image/png": "[encoded data removed]",
            "text/plain": [
              "<Figure size 640x480 with 1 Axes>"
            ]
          },
          "metadata": {},
          "output_type": "display_data"
        }
      ],
      "source": [
        "#9.Create a bar plot of point number 8\n",
        "top5_salary.plot.bar(x='short_name', y='value_eur')\n",
        "plt.title(\"Players with Highest Salary\")\n",
        "plt.xlabel(\"Player's Name\")\n",
        "plt.ylabel(\"Euro Pound\")\n"
      ]
    },
    {
      "cell_type": "markdown",
      "metadata": {
        "id": "EoMlJzEr7H9C"
      },
      "source": [
        "#Germany(10-12)"
      ]
    },
    {
      "cell_type": "code",
      "execution_count": 50,
      "metadata": {
        "id": "Q7SoasXF7g7A"
      },
      "outputs": [],
      "source": [
        "#filtering the country name\n",
        "def germany(col, other_cols):\n",
        "  germany = df[df.nationality == \"Germany\"]\n",
        "  germany_top10 = germany.nlargest(10,[f\"{col}\"])\n",
        "  \n",
        "  germany_top10 = germany_top10.reset_index(drop=True)\n",
        "  other_cols.insert(0,\"short_name\")\n",
        "  return germany_top10[other_cols]"
      ]
    },
    {
      "cell_type": "code",
      "execution_count": 51,
      "metadata": {
        "colab": {
          "base_uri": "https://localhost:8080/",
          "height": 363
        },
        "id": "aBI8-an8-cMv",
        "outputId": "3a3da010-da1d-4d22-e102-ee6127dff8eb"
      },
      "outputs": [
        {
          "data": {
            "text/html": [
              "<div>\n",
              "<style scoped>\n",
              "    .dataframe tbody tr th:only-of-type {\n",
              "        vertical-align: middle;\n",
              "    }\n",
              "\n",
              "    .dataframe tbody tr th {\n",
              "        vertical-align: top;\n",
              "    }\n",
              "\n",
              "    .dataframe thead th {\n",
              "        text-align: right;\n",
              "    }\n",
              "</style>\n",
              "<table border=\"1\" class=\"dataframe\">\n",
              "  <thead>\n",
              "    <tr style=\"text-align: right;\">\n",
              "      <th></th>\n",
              "      <th>short_name</th>\n",
              "      <th>overall</th>\n",
              "      <th>nationality</th>\n",
              "    </tr>\n",
              "  </thead>\n",
              "  <tbody>\n",
              "    <tr>\n",
              "      <th>0</th>\n",
              "      <td>M. ter Stegen</td>\n",
              "      <td>90</td>\n",
              "      <td>Germany</td>\n",
              "    </tr>\n",
              "    <tr>\n",
              "      <th>1</th>\n",
              "      <td>M. Neuer</td>\n",
              "      <td>88</td>\n",
              "      <td>Germany</td>\n",
              "    </tr>\n",
              "    <tr>\n",
              "      <th>2</th>\n",
              "      <td>T. Kroos</td>\n",
              "      <td>88</td>\n",
              "      <td>Germany</td>\n",
              "    </tr>\n",
              "    <tr>\n",
              "      <th>3</th>\n",
              "      <td>M. Reus</td>\n",
              "      <td>88</td>\n",
              "      <td>Germany</td>\n",
              "    </tr>\n",
              "    <tr>\n",
              "      <th>4</th>\n",
              "      <td>M. Hummels</td>\n",
              "      <td>87</td>\n",
              "      <td>Germany</td>\n",
              "    </tr>\n",
              "    <tr>\n",
              "      <th>5</th>\n",
              "      <td>L. Sané</td>\n",
              "      <td>86</td>\n",
              "      <td>Germany</td>\n",
              "    </tr>\n",
              "    <tr>\n",
              "      <th>6</th>\n",
              "      <td>J. Kimmich</td>\n",
              "      <td>86</td>\n",
              "      <td>Germany</td>\n",
              "    </tr>\n",
              "    <tr>\n",
              "      <th>7</th>\n",
              "      <td>T. Müller</td>\n",
              "      <td>86</td>\n",
              "      <td>Germany</td>\n",
              "    </tr>\n",
              "    <tr>\n",
              "      <th>8</th>\n",
              "      <td>N. Süle</td>\n",
              "      <td>85</td>\n",
              "      <td>Germany</td>\n",
              "    </tr>\n",
              "    <tr>\n",
              "      <th>9</th>\n",
              "      <td>K. Havertz</td>\n",
              "      <td>84</td>\n",
              "      <td>Germany</td>\n",
              "    </tr>\n",
              "  </tbody>\n",
              "</table>\n",
              "</div>"
            ],
            "text/plain": [
              "      short_name  overall nationality\n",
              "0  M. ter Stegen       90     Germany\n",
              "1       M. Neuer       88     Germany\n",
              "2       T. Kroos       88     Germany\n",
              "3        M. Reus       88     Germany\n",
              "4     M. Hummels       87     Germany\n",
              "5        L. Sané       86     Germany\n",
              "6     J. Kimmich       86     Germany\n",
              "7      T. Müller       86     Germany\n",
              "8        N. Süle       85     Germany\n",
              "9     K. Havertz       84     Germany"
            ]
          },
          "execution_count": 51,
          "metadata": {},
          "output_type": "execute_result"
        }
      ],
      "source": [
        "#10.Show top 10 records of Germany. #overall\n",
        "germany(\"overall\",[\"overall\", \"nationality\"])"
      ]
    },
    {
      "cell_type": "code",
      "execution_count": 52,
      "metadata": {
        "colab": {
          "base_uri": "https://localhost:8080/",
          "height": 363
        },
        "id": "j7tqh3VdI7FA",
        "outputId": "6b6064d6-ede4-452e-9634-a8193725145f"
      },
      "outputs": [
        {
          "data": {
            "text/html": [
              "<div>\n",
              "<style scoped>\n",
              "    .dataframe tbody tr th:only-of-type {\n",
              "        vertical-align: middle;\n",
              "    }\n",
              "\n",
              "    .dataframe tbody tr th {\n",
              "        vertical-align: top;\n",
              "    }\n",
              "\n",
              "    .dataframe thead th {\n",
              "        text-align: right;\n",
              "    }\n",
              "</style>\n",
              "<table border=\"1\" class=\"dataframe\">\n",
              "  <thead>\n",
              "    <tr style=\"text-align: right;\">\n",
              "      <th></th>\n",
              "      <th>short_name</th>\n",
              "      <th>height_cm</th>\n",
              "      <th>nationality</th>\n",
              "    </tr>\n",
              "  </thead>\n",
              "  <tbody>\n",
              "    <tr>\n",
              "      <th>0</th>\n",
              "      <td>A. Seydel</td>\n",
              "      <td>199</td>\n",
              "      <td>Germany</td>\n",
              "    </tr>\n",
              "    <tr>\n",
              "      <th>1</th>\n",
              "      <td>M. Esser</td>\n",
              "      <td>198</td>\n",
              "      <td>Germany</td>\n",
              "    </tr>\n",
              "    <tr>\n",
              "      <th>2</th>\n",
              "      <td>L. Unnerstall</td>\n",
              "      <td>198</td>\n",
              "      <td>Germany</td>\n",
              "    </tr>\n",
              "    <tr>\n",
              "      <th>3</th>\n",
              "      <td>R. Fährmann</td>\n",
              "      <td>197</td>\n",
              "      <td>Germany</td>\n",
              "    </tr>\n",
              "    <tr>\n",
              "      <th>4</th>\n",
              "      <td>T. Kessler</td>\n",
              "      <td>197</td>\n",
              "      <td>Germany</td>\n",
              "    </tr>\n",
              "    <tr>\n",
              "      <th>5</th>\n",
              "      <td>B. Röcker</td>\n",
              "      <td>197</td>\n",
              "      <td>Germany</td>\n",
              "    </tr>\n",
              "    <tr>\n",
              "      <th>6</th>\n",
              "      <td>M. Nicolas</td>\n",
              "      <td>197</td>\n",
              "      <td>Germany</td>\n",
              "    </tr>\n",
              "    <tr>\n",
              "      <th>7</th>\n",
              "      <td>D. Stroh-Engel</td>\n",
              "      <td>197</td>\n",
              "      <td>Germany</td>\n",
              "    </tr>\n",
              "    <tr>\n",
              "      <th>8</th>\n",
              "      <td>L. Watkowiak</td>\n",
              "      <td>197</td>\n",
              "      <td>Germany</td>\n",
              "    </tr>\n",
              "    <tr>\n",
              "      <th>9</th>\n",
              "      <td>F. Stritzel</td>\n",
              "      <td>197</td>\n",
              "      <td>Germany</td>\n",
              "    </tr>\n",
              "  </tbody>\n",
              "</table>\n",
              "</div>"
            ],
            "text/plain": [
              "       short_name  height_cm nationality\n",
              "0       A. Seydel        199     Germany\n",
              "1        M. Esser        198     Germany\n",
              "2   L. Unnerstall        198     Germany\n",
              "3     R. Fährmann        197     Germany\n",
              "4      T. Kessler        197     Germany\n",
              "5       B. Röcker        197     Germany\n",
              "6      M. Nicolas        197     Germany\n",
              "7  D. Stroh-Engel        197     Germany\n",
              "8    L. Watkowiak        197     Germany\n",
              "9     F. Stritzel        197     Germany"
            ]
          },
          "execution_count": 52,
          "metadata": {},
          "output_type": "execute_result"
        }
      ],
      "source": [
        "germany(\"height_cm\",[\"height_cm\", \"nationality\"])"
      ]
    },
    {
      "cell_type": "code",
      "execution_count": 53,
      "metadata": {
        "colab": {
          "base_uri": "https://localhost:8080/",
          "height": 363
        },
        "id": "72kf-cgA-2vG",
        "outputId": "096c1990-7783-4763-f9da-4da02e7e0af6"
      },
      "outputs": [
        {
          "data": {
            "text/html": [
              "<div>\n",
              "<style scoped>\n",
              "    .dataframe tbody tr th:only-of-type {\n",
              "        vertical-align: middle;\n",
              "    }\n",
              "\n",
              "    .dataframe tbody tr th {\n",
              "        vertical-align: top;\n",
              "    }\n",
              "\n",
              "    .dataframe thead th {\n",
              "        text-align: right;\n",
              "    }\n",
              "</style>\n",
              "<table border=\"1\" class=\"dataframe\">\n",
              "  <thead>\n",
              "    <tr style=\"text-align: right;\">\n",
              "      <th></th>\n",
              "      <th>short_name</th>\n",
              "      <th>wage_eur</th>\n",
              "    </tr>\n",
              "  </thead>\n",
              "  <tbody>\n",
              "    <tr>\n",
              "      <th>0</th>\n",
              "      <td>T. Kroos</td>\n",
              "      <td>330000</td>\n",
              "    </tr>\n",
              "    <tr>\n",
              "      <th>1</th>\n",
              "      <td>M. ter Stegen</td>\n",
              "      <td>250000</td>\n",
              "    </tr>\n",
              "    <tr>\n",
              "      <th>2</th>\n",
              "      <td>L. Sané</td>\n",
              "      <td>195000</td>\n",
              "    </tr>\n",
              "    <tr>\n",
              "      <th>3</th>\n",
              "      <td>I. Gündoğan</td>\n",
              "      <td>180000</td>\n",
              "    </tr>\n",
              "    <tr>\n",
              "      <th>4</th>\n",
              "      <td>M. Reus</td>\n",
              "      <td>170000</td>\n",
              "    </tr>\n",
              "    <tr>\n",
              "      <th>5</th>\n",
              "      <td>T. Müller</td>\n",
              "      <td>170000</td>\n",
              "    </tr>\n",
              "    <tr>\n",
              "      <th>6</th>\n",
              "      <td>M. Neuer</td>\n",
              "      <td>155000</td>\n",
              "    </tr>\n",
              "    <tr>\n",
              "      <th>7</th>\n",
              "      <td>S. Khedira</td>\n",
              "      <td>135000</td>\n",
              "    </tr>\n",
              "    <tr>\n",
              "      <th>8</th>\n",
              "      <td>M. Hummels</td>\n",
              "      <td>130000</td>\n",
              "    </tr>\n",
              "    <tr>\n",
              "      <th>9</th>\n",
              "      <td>J. Kimmich</td>\n",
              "      <td>125000</td>\n",
              "    </tr>\n",
              "  </tbody>\n",
              "</table>\n",
              "</div>"
            ],
            "text/plain": [
              "      short_name  wage_eur\n",
              "0       T. Kroos    330000\n",
              "1  M. ter Stegen    250000\n",
              "2        L. Sané    195000\n",
              "3    I. Gündoğan    180000\n",
              "4        M. Reus    170000\n",
              "5      T. Müller    170000\n",
              "6       M. Neuer    155000\n",
              "7     S. Khedira    135000\n",
              "8     M. Hummels    130000\n",
              "9     J. Kimmich    125000"
            ]
          },
          "execution_count": 53,
          "metadata": {},
          "output_type": "execute_result"
        }
      ],
      "source": [
        "#11.Now show top 5 records of Germany players who have maximum height, weight and wages.\n",
        "# germany(\"height_cm\",[\"height_cm\"])\n",
        "# germany(\"weight_kg\",[\"weight_kg\"])\n",
        "germany(\"wage_eur\",[\"wage_eur\"])"
      ]
    },
    {
      "cell_type": "code",
      "execution_count": 54,
      "metadata": {
        "colab": {
          "base_uri": "https://localhost:8080/",
          "height": 206
        },
        "id": "vheF4puusRoM",
        "outputId": "862d9337-248b-40b3-8749-087bd1943a43"
      },
      "outputs": [
        {
          "data": {
            "text/html": [
              "<div>\n",
              "<style scoped>\n",
              "    .dataframe tbody tr th:only-of-type {\n",
              "        vertical-align: middle;\n",
              "    }\n",
              "\n",
              "    .dataframe tbody tr th {\n",
              "        vertical-align: top;\n",
              "    }\n",
              "\n",
              "    .dataframe thead th {\n",
              "        text-align: right;\n",
              "    }\n",
              "</style>\n",
              "<table border=\"1\" class=\"dataframe\">\n",
              "  <thead>\n",
              "    <tr style=\"text-align: right;\">\n",
              "      <th></th>\n",
              "      <th>short_name</th>\n",
              "      <th>wage_eur</th>\n",
              "    </tr>\n",
              "  </thead>\n",
              "  <tbody>\n",
              "    <tr>\n",
              "      <th>0</th>\n",
              "      <td>T. Kroos</td>\n",
              "      <td>330000</td>\n",
              "    </tr>\n",
              "    <tr>\n",
              "      <th>1</th>\n",
              "      <td>M. ter Stegen</td>\n",
              "      <td>250000</td>\n",
              "    </tr>\n",
              "    <tr>\n",
              "      <th>2</th>\n",
              "      <td>L. Sané</td>\n",
              "      <td>195000</td>\n",
              "    </tr>\n",
              "    <tr>\n",
              "      <th>3</th>\n",
              "      <td>I. Gündoğan</td>\n",
              "      <td>180000</td>\n",
              "    </tr>\n",
              "    <tr>\n",
              "      <th>4</th>\n",
              "      <td>M. Reus</td>\n",
              "      <td>170000</td>\n",
              "    </tr>\n",
              "  </tbody>\n",
              "</table>\n",
              "</div>"
            ],
            "text/plain": [
              "      short_name  wage_eur\n",
              "0       T. Kroos    330000\n",
              "1  M. ter Stegen    250000\n",
              "2        L. Sané    195000\n",
              "3    I. Gündoğan    180000\n",
              "4        M. Reus    170000"
            ]
          },
          "execution_count": 54,
          "metadata": {},
          "output_type": "execute_result"
        }
      ],
      "source": [
        "#12.Show short name and wages of top 5 Germany players.\n",
        "germany(\"wage_eur\",[\"wage_eur\"]).head()"
      ]
    },
    {
      "cell_type": "code",
      "execution_count": 55,
      "metadata": {
        "colab": {
          "base_uri": "https://localhost:8080/",
          "height": 206
        },
        "id": "q_EKnhyWsRfR",
        "outputId": "d1b5a3a1-ef69-45e7-dea9-c0677ab41492"
      },
      "outputs": [
        {
          "data": {
            "text/html": [
              "<div>\n",
              "<style scoped>\n",
              "    .dataframe tbody tr th:only-of-type {\n",
              "        vertical-align: middle;\n",
              "    }\n",
              "\n",
              "    .dataframe tbody tr th {\n",
              "        vertical-align: top;\n",
              "    }\n",
              "\n",
              "    .dataframe thead th {\n",
              "        text-align: right;\n",
              "    }\n",
              "</style>\n",
              "<table border=\"1\" class=\"dataframe\">\n",
              "  <thead>\n",
              "    <tr style=\"text-align: right;\">\n",
              "      <th></th>\n",
              "      <th>short_name</th>\n",
              "      <th>shooting</th>\n",
              "    </tr>\n",
              "  </thead>\n",
              "  <tbody>\n",
              "    <tr>\n",
              "      <th>0</th>\n",
              "      <td>Cristiano Ronaldo</td>\n",
              "      <td>93.0</td>\n",
              "    </tr>\n",
              "    <tr>\n",
              "      <th>1</th>\n",
              "      <td>L. Messi</td>\n",
              "      <td>92.0</td>\n",
              "    </tr>\n",
              "    <tr>\n",
              "      <th>2</th>\n",
              "      <td>H. Kane</td>\n",
              "      <td>91.0</td>\n",
              "    </tr>\n",
              "    <tr>\n",
              "      <th>3</th>\n",
              "      <td>S. Agüero</td>\n",
              "      <td>90.0</td>\n",
              "    </tr>\n",
              "    <tr>\n",
              "      <th>4</th>\n",
              "      <td>L. Suárez</td>\n",
              "      <td>89.0</td>\n",
              "    </tr>\n",
              "  </tbody>\n",
              "</table>\n",
              "</div>"
            ],
            "text/plain": [
              "          short_name  shooting\n",
              "0  Cristiano Ronaldo      93.0\n",
              "1           L. Messi      92.0\n",
              "2            H. Kane      91.0\n",
              "3          S. Agüero      90.0\n",
              "4          L. Suárez      89.0"
            ]
          },
          "execution_count": 55,
          "metadata": {},
          "output_type": "execute_result"
        }
      ],
      "source": [
        "#13.Show top 5 players who have great shooting skills among all with short name.\n",
        "top5_shooter = df.nlargest(5, 'shooting')\n",
        "top5_shooter = top5_shooter[[\"short_name\",\"shooting\"]].reset_index(drop=True)\n",
        "\n",
        "top5_shooter"
      ]
    },
    {
      "cell_type": "code",
      "execution_count": 56,
      "metadata": {
        "colab": {
          "base_uri": "https://localhost:8080/",
          "height": 206
        },
        "id": "nmGT_Zru0QR1",
        "outputId": "4af9c9f8-3bc0-4a4a-99f7-0714e8f6eafe"
      },
      "outputs": [
        {
          "data": {
            "text/html": [
              "<div>\n",
              "<style scoped>\n",
              "    .dataframe tbody tr th:only-of-type {\n",
              "        vertical-align: middle;\n",
              "    }\n",
              "\n",
              "    .dataframe tbody tr th {\n",
              "        vertical-align: top;\n",
              "    }\n",
              "\n",
              "    .dataframe thead th {\n",
              "        text-align: right;\n",
              "    }\n",
              "</style>\n",
              "<table border=\"1\" class=\"dataframe\">\n",
              "  <thead>\n",
              "    <tr style=\"text-align: right;\">\n",
              "      <th></th>\n",
              "      <th>short_name</th>\n",
              "      <th>defending</th>\n",
              "      <th>nationality</th>\n",
              "      <th>club</th>\n",
              "    </tr>\n",
              "  </thead>\n",
              "  <tbody>\n",
              "    <tr>\n",
              "      <th>7</th>\n",
              "      <td>V. van Dijk</td>\n",
              "      <td>90.0</td>\n",
              "      <td>Netherlands</td>\n",
              "      <td>Liverpool</td>\n",
              "    </tr>\n",
              "    <tr>\n",
              "      <th>16</th>\n",
              "      <td>G. Chiellini</td>\n",
              "      <td>90.0</td>\n",
              "      <td>Italy</td>\n",
              "      <td>Juventus</td>\n",
              "    </tr>\n",
              "    <tr>\n",
              "      <th>11</th>\n",
              "      <td>K. Koulibaly</td>\n",
              "      <td>89.0</td>\n",
              "      <td>Senegal</td>\n",
              "      <td>Napoli</td>\n",
              "    </tr>\n",
              "    <tr>\n",
              "      <th>35</th>\n",
              "      <td>D. Godín</td>\n",
              "      <td>89.0</td>\n",
              "      <td>Uruguay</td>\n",
              "      <td>Inter</td>\n",
              "    </tr>\n",
              "    <tr>\n",
              "      <th>49</th>\n",
              "      <td>M. Hummels</td>\n",
              "      <td>89.0</td>\n",
              "      <td>Germany</td>\n",
              "      <td>Borussia Dortmund</td>\n",
              "    </tr>\n",
              "  </tbody>\n",
              "</table>\n",
              "</div>"
            ],
            "text/plain": [
              "      short_name  defending  nationality               club\n",
              "7    V. van Dijk       90.0  Netherlands          Liverpool\n",
              "16  G. Chiellini       90.0        Italy           Juventus\n",
              "11  K. Koulibaly       89.0      Senegal             Napoli\n",
              "35      D. Godín       89.0      Uruguay              Inter\n",
              "49    M. Hummels       89.0      Germany  Borussia Dortmund"
            ]
          },
          "execution_count": 56,
          "metadata": {},
          "output_type": "execute_result"
        }
      ],
      "source": [
        "# 14.Show top 5 players records (short name, defending, nationality, and club) that have awesome defending skills\n",
        "\n",
        "defending_top5 = df.nlargest(5,[\"defending\"])\n",
        "defending_top5[['short_name',\"defending\",\"nationality\", \"club\"]]\n",
        "\n"
      ]
    },
    {
      "cell_type": "markdown",
      "metadata": {
        "id": "VKy14A__s1bT"
      },
      "source": [
        "#Real Madrid(15-18)"
      ]
    },
    {
      "cell_type": "code",
      "execution_count": 57,
      "metadata": {
        "id": "T_fyEnCMs-u6"
      },
      "outputs": [],
      "source": [
        "#function for Real Madrid\n",
        "def real_Madrid(col,*args):\n",
        "  realMadrid = df[df.club == \"Real Madrid\"]\n",
        "  realMadrid_top5 = realMadrid.nlargest(5,[f\"{col}\"])\n",
        "  realMadrid_top5.reset_index(drop=True, inplace=True)\n",
        "  return realMadrid_top5[['short_name',*args]]"
      ]
    },
    {
      "cell_type": "code",
      "execution_count": 58,
      "metadata": {
        "colab": {
          "base_uri": "https://localhost:8080/",
          "height": 206
        },
        "id": "8PAFu6yVtgHL",
        "outputId": "fa62ae24-cd25-4efd-8bad-b299e9dac344"
      },
      "outputs": [
        {
          "data": {
            "text/html": [
              "<div>\n",
              "<style scoped>\n",
              "    .dataframe tbody tr th:only-of-type {\n",
              "        vertical-align: middle;\n",
              "    }\n",
              "\n",
              "    .dataframe tbody tr th {\n",
              "        vertical-align: top;\n",
              "    }\n",
              "\n",
              "    .dataframe thead th {\n",
              "        text-align: right;\n",
              "    }\n",
              "</style>\n",
              "<table border=\"1\" class=\"dataframe\">\n",
              "  <thead>\n",
              "    <tr style=\"text-align: right;\">\n",
              "      <th></th>\n",
              "      <th>short_name</th>\n",
              "      <th>wage_eur</th>\n",
              "      <th>club</th>\n",
              "    </tr>\n",
              "  </thead>\n",
              "  <tbody>\n",
              "    <tr>\n",
              "      <th>0</th>\n",
              "      <td>E. Hazard</td>\n",
              "      <td>470000</td>\n",
              "      <td>Real Madrid</td>\n",
              "    </tr>\n",
              "    <tr>\n",
              "      <th>1</th>\n",
              "      <td>L. Modrić</td>\n",
              "      <td>340000</td>\n",
              "      <td>Real Madrid</td>\n",
              "    </tr>\n",
              "    <tr>\n",
              "      <th>2</th>\n",
              "      <td>T. Kroos</td>\n",
              "      <td>330000</td>\n",
              "      <td>Real Madrid</td>\n",
              "    </tr>\n",
              "    <tr>\n",
              "      <th>3</th>\n",
              "      <td>Sergio Ramos</td>\n",
              "      <td>300000</td>\n",
              "      <td>Real Madrid</td>\n",
              "    </tr>\n",
              "    <tr>\n",
              "      <th>4</th>\n",
              "      <td>K. Benzema</td>\n",
              "      <td>285000</td>\n",
              "      <td>Real Madrid</td>\n",
              "    </tr>\n",
              "  </tbody>\n",
              "</table>\n",
              "</div>"
            ],
            "text/plain": [
              "     short_name  wage_eur         club\n",
              "0     E. Hazard    470000  Real Madrid\n",
              "1     L. Modrić    340000  Real Madrid\n",
              "2      T. Kroos    330000  Real Madrid\n",
              "3  Sergio Ramos    300000  Real Madrid\n",
              "4    K. Benzema    285000  Real Madrid"
            ]
          },
          "execution_count": 58,
          "metadata": {},
          "output_type": "execute_result"
        }
      ],
      "source": [
        "# 15.Show wages records of top 5 players of 'Real Madrid' team.\n",
        "real_Madrid(\"wage_eur\",\"wage_eur\", \"club\")"
      ]
    },
    {
      "cell_type": "code",
      "execution_count": 59,
      "metadata": {
        "colab": {
          "base_uri": "https://localhost:8080/",
          "height": 206
        },
        "id": "G9vguNHmuRhq",
        "outputId": "69b2abd4-1e23-4e90-a163-f6c88786308e"
      },
      "outputs": [
        {
          "data": {
            "text/html": [
              "<div>\n",
              "<style scoped>\n",
              "    .dataframe tbody tr th:only-of-type {\n",
              "        vertical-align: middle;\n",
              "    }\n",
              "\n",
              "    .dataframe tbody tr th {\n",
              "        vertical-align: top;\n",
              "    }\n",
              "\n",
              "    .dataframe thead th {\n",
              "        text-align: right;\n",
              "    }\n",
              "</style>\n",
              "<table border=\"1\" class=\"dataframe\">\n",
              "  <thead>\n",
              "    <tr style=\"text-align: right;\">\n",
              "      <th></th>\n",
              "      <th>short_name</th>\n",
              "    </tr>\n",
              "  </thead>\n",
              "  <tbody>\n",
              "    <tr>\n",
              "      <th>0</th>\n",
              "      <td>G. Bale</td>\n",
              "    </tr>\n",
              "    <tr>\n",
              "      <th>1</th>\n",
              "      <td>J. Rodríguez</td>\n",
              "    </tr>\n",
              "    <tr>\n",
              "      <th>2</th>\n",
              "      <td>E. Hazard</td>\n",
              "    </tr>\n",
              "    <tr>\n",
              "      <th>3</th>\n",
              "      <td>K. Benzema</td>\n",
              "    </tr>\n",
              "    <tr>\n",
              "      <th>4</th>\n",
              "      <td>L. Jović</td>\n",
              "    </tr>\n",
              "  </tbody>\n",
              "</table>\n",
              "</div>"
            ],
            "text/plain": [
              "     short_name\n",
              "0       G. Bale\n",
              "1  J. Rodríguez\n",
              "2     E. Hazard\n",
              "3    K. Benzema\n",
              "4      L. Jović"
            ]
          },
          "execution_count": 59,
          "metadata": {},
          "output_type": "execute_result"
        }
      ],
      "source": [
        "\n",
        "# 16.Show shooting records of top 5 players of 'Real Madrid' team.\n",
        "real_Madrid(\"shooting\")"
      ]
    },
    {
      "cell_type": "code",
      "execution_count": 60,
      "metadata": {
        "colab": {
          "base_uri": "https://localhost:8080/",
          "height": 206
        },
        "id": "ssD9V5AEvAZN",
        "outputId": "27b74d62-140b-43f5-cd50-9c39fddf50b3"
      },
      "outputs": [
        {
          "data": {
            "text/html": [
              "<div>\n",
              "<style scoped>\n",
              "    .dataframe tbody tr th:only-of-type {\n",
              "        vertical-align: middle;\n",
              "    }\n",
              "\n",
              "    .dataframe tbody tr th {\n",
              "        vertical-align: top;\n",
              "    }\n",
              "\n",
              "    .dataframe thead th {\n",
              "        text-align: right;\n",
              "    }\n",
              "</style>\n",
              "<table border=\"1\" class=\"dataframe\">\n",
              "  <thead>\n",
              "    <tr style=\"text-align: right;\">\n",
              "      <th></th>\n",
              "      <th>short_name</th>\n",
              "    </tr>\n",
              "  </thead>\n",
              "  <tbody>\n",
              "    <tr>\n",
              "      <th>0</th>\n",
              "      <td>Sergio Ramos</td>\n",
              "    </tr>\n",
              "    <tr>\n",
              "      <th>1</th>\n",
              "      <td>Casemiro</td>\n",
              "    </tr>\n",
              "    <tr>\n",
              "      <th>2</th>\n",
              "      <td>R. Varane</td>\n",
              "    </tr>\n",
              "    <tr>\n",
              "      <th>3</th>\n",
              "      <td>Carvajal</td>\n",
              "    </tr>\n",
              "    <tr>\n",
              "      <th>4</th>\n",
              "      <td>Nacho Fernández</td>\n",
              "    </tr>\n",
              "  </tbody>\n",
              "</table>\n",
              "</div>"
            ],
            "text/plain": [
              "        short_name\n",
              "0     Sergio Ramos\n",
              "1         Casemiro\n",
              "2        R. Varane\n",
              "3         Carvajal\n",
              "4  Nacho Fernández"
            ]
          },
          "execution_count": 60,
          "metadata": {},
          "output_type": "execute_result"
        }
      ],
      "source": [
        "# 17.Show defending records of top 5 players of 'Real Madrid' team.\n",
        "real_Madrid(\"defending\")"
      ]
    },
    {
      "cell_type": "code",
      "execution_count": 61,
      "metadata": {
        "colab": {
          "base_uri": "https://localhost:8080/",
          "height": 206
        },
        "id": "BxWzCoksw-fX",
        "outputId": "9e1dc2fd-f1c5-40c2-b57e-b1a4086ca7d5"
      },
      "outputs": [
        {
          "data": {
            "text/html": [
              "<div>\n",
              "<style scoped>\n",
              "    .dataframe tbody tr th:only-of-type {\n",
              "        vertical-align: middle;\n",
              "    }\n",
              "\n",
              "    .dataframe tbody tr th {\n",
              "        vertical-align: top;\n",
              "    }\n",
              "\n",
              "    .dataframe thead th {\n",
              "        text-align: right;\n",
              "    }\n",
              "</style>\n",
              "<table border=\"1\" class=\"dataframe\">\n",
              "  <thead>\n",
              "    <tr style=\"text-align: right;\">\n",
              "      <th></th>\n",
              "      <th>short_name</th>\n",
              "      <th>overall</th>\n",
              "      <th>nationality</th>\n",
              "    </tr>\n",
              "  </thead>\n",
              "  <tbody>\n",
              "    <tr>\n",
              "      <th>0</th>\n",
              "      <td>E. Hazard</td>\n",
              "      <td>91</td>\n",
              "      <td>Belgium</td>\n",
              "    </tr>\n",
              "    <tr>\n",
              "      <th>1</th>\n",
              "      <td>L. Modrić</td>\n",
              "      <td>90</td>\n",
              "      <td>Croatia</td>\n",
              "    </tr>\n",
              "    <tr>\n",
              "      <th>2</th>\n",
              "      <td>Sergio Ramos</td>\n",
              "      <td>89</td>\n",
              "      <td>Spain</td>\n",
              "    </tr>\n",
              "    <tr>\n",
              "      <th>3</th>\n",
              "      <td>T. Courtois</td>\n",
              "      <td>88</td>\n",
              "      <td>Belgium</td>\n",
              "    </tr>\n",
              "    <tr>\n",
              "      <th>4</th>\n",
              "      <td>T. Kroos</td>\n",
              "      <td>88</td>\n",
              "      <td>Germany</td>\n",
              "    </tr>\n",
              "  </tbody>\n",
              "</table>\n",
              "</div>"
            ],
            "text/plain": [
              "     short_name  overall nationality\n",
              "0     E. Hazard       91     Belgium\n",
              "1     L. Modrić       90     Croatia\n",
              "2  Sergio Ramos       89       Spain\n",
              "3   T. Courtois       88     Belgium\n",
              "4      T. Kroos       88     Germany"
            ]
          },
          "execution_count": 61,
          "metadata": {},
          "output_type": "execute_result"
        }
      ],
      "source": [
        "# 18.Show nationality records of top 5 players of 'Real Madrid' team.\n",
        "real_Madrid(\"overall\",\"overall\", \"nationality\")"
      ]
    },
    {
      "cell_type": "markdown",
      "metadata": {
        "id": "98eBBIRGsRGd"
      },
      "source": [
        "##Extension"
      ]
    },
    {
      "cell_type": "code",
      "execution_count": 62,
      "metadata": {
        "colab": {
          "base_uri": "https://localhost:8080/",
          "height": 206
        },
        "id": "Oz2kvy5Z50BL",
        "outputId": "855d716b-6700-4aa0-b602-d5023ea1a743"
      },
      "outputs": [
        {
          "data": {
            "text/html": [
              "<div>\n",
              "<style scoped>\n",
              "    .dataframe tbody tr th:only-of-type {\n",
              "        vertical-align: middle;\n",
              "    }\n",
              "\n",
              "    .dataframe tbody tr th {\n",
              "        vertical-align: top;\n",
              "    }\n",
              "\n",
              "    .dataframe thead th {\n",
              "        text-align: right;\n",
              "    }\n",
              "</style>\n",
              "<table border=\"1\" class=\"dataframe\">\n",
              "  <thead>\n",
              "    <tr style=\"text-align: right;\">\n",
              "      <th></th>\n",
              "      <th>short_name</th>\n",
              "      <th>value_usd</th>\n",
              "    </tr>\n",
              "  </thead>\n",
              "  <tbody>\n",
              "    <tr>\n",
              "      <th>583</th>\n",
              "      <td>C. Pulisic</td>\n",
              "      <td>19620000.0</td>\n",
              "    </tr>\n",
              "    <tr>\n",
              "      <th>629</th>\n",
              "      <td>J. Brooks</td>\n",
              "      <td>15260000.0</td>\n",
              "    </tr>\n",
              "    <tr>\n",
              "      <th>1267</th>\n",
              "      <td>W. McKennie</td>\n",
              "      <td>13625000.0</td>\n",
              "    </tr>\n",
              "    <tr>\n",
              "      <th>1264</th>\n",
              "      <td>T. Adams</td>\n",
              "      <td>12535000.0</td>\n",
              "    </tr>\n",
              "    <tr>\n",
              "      <th>1686</th>\n",
              "      <td>T. Boyd</td>\n",
              "      <td>9810000.0</td>\n",
              "    </tr>\n",
              "  </tbody>\n",
              "</table>\n",
              "</div>"
            ],
            "text/plain": [
              "       short_name   value_usd\n",
              "583    C. Pulisic  19620000.0\n",
              "629     J. Brooks  15260000.0\n",
              "1267  W. McKennie  13625000.0\n",
              "1264     T. Adams  12535000.0\n",
              "1686      T. Boyd   9810000.0"
            ]
          },
          "execution_count": 62,
          "metadata": {},
          "output_type": "execute_result"
        }
      ],
      "source": [
        "#Top 5 USA players and Wages. \n",
        "df[\"value_usd\"] = df[\"value_eur\"]*1.09\n",
        "df[[\"value_usd\", \"value_eur\"]].head(3)\n",
        "usa_top5 = df[df.nationality == \"United States\"].nlargest(5,[\"value_usd\"])\n",
        "usa_top5[['short_name',\"value_usd\"]]"
      ]
    },
    {
      "cell_type": "code",
      "execution_count": 63,
      "metadata": {
        "colab": {
          "base_uri": "https://localhost:8080/",
          "height": 351
        },
        "id": "GWCe_evS77LX",
        "outputId": "668d476c-386a-4ef1-f502-9a48eeda3300"
      },
      "outputs": [
        {
          "data": {
            "text/plain": [
              "<AxesSubplot:xlabel='overall', ylabel='wage_eur'>"
            ]
          },
          "execution_count": 63,
          "metadata": {},
          "output_type": "execute_result"
        },
        {
          "data": {
            "image/png": "[encoded data removed]",
            "text/plain": [
              "<Figure size 640x480 with 1 Axes>"
            ]
          },
          "metadata": {},
          "output_type": "display_data"
        }
      ],
      "source": [
        "df.plot(kind = 'scatter', x = 'overall', y = 'wage_eur')\n"
      ]
    },
    {
      "cell_type": "code",
      "execution_count": 64,
      "metadata": {
        "colab": {
          "base_uri": "https://localhost:8080/",
          "height": 515
        },
        "id": "5o4ECSEbK1Os",
        "outputId": "c5ab764a-a32b-4e0a-fecb-2e7c215e6845"
      },
      "outputs": [
        {
          "data": {
            "image/png": "[encoded data removed]",
            "text/plain": [
              "<Figure size 1000x800 with 1 Axes>"
            ]
          },
          "metadata": {},
          "output_type": "display_data"
        }
      ],
      "source": [
        "plt.figure(figsize= (10,8))\n",
        "temp_df = df.groupby(\"age\")[\"value_usd\"].mean().reset_index()\n",
        "sns.barplot(\n",
        "    data = temp_df,\n",
        "    x = \"age\",\n",
        "    y = \"value_usd\"\n",
        "    \n",
        ");\n",
        "plt.title(\"Age vs Value USD\", fontsize = 15, weight = \"bold\");\n",
        "plt.ticklabel_format(style='plain', axis='y');"
      ]
    },
    {
      "cell_type": "code",
      "execution_count": 65,
      "metadata": {
        "colab": {
          "base_uri": "https://localhost:8080/",
          "height": 175
        },
        "id": "8gUaNdSgOyJO",
        "outputId": "3f452270-e309-4015-b09f-9d3c840ec2d0"
      },
      "outputs": [
        {
          "data": {
            "text/html": [
              "<div>\n",
              "<style scoped>\n",
              "    .dataframe tbody tr th:only-of-type {\n",
              "        vertical-align: middle;\n",
              "    }\n",
              "\n",
              "    .dataframe tbody tr th {\n",
              "        vertical-align: top;\n",
              "    }\n",
              "\n",
              "    .dataframe thead th {\n",
              "        text-align: right;\n",
              "    }\n",
              "</style>\n",
              "<table border=\"1\" class=\"dataframe\">\n",
              "  <thead>\n",
              "    <tr style=\"text-align: right;\">\n",
              "      <th></th>\n",
              "      <th>short_name</th>\n",
              "      <th>age</th>\n",
              "      <th>wage_eur</th>\n",
              "      <th>nationality</th>\n",
              "    </tr>\n",
              "  </thead>\n",
              "  <tbody>\n",
              "    <tr>\n",
              "      <th>200</th>\n",
              "      <td>G. Buffon</td>\n",
              "      <td>41</td>\n",
              "      <td>58000</td>\n",
              "      <td>Italy</td>\n",
              "    </tr>\n",
              "    <tr>\n",
              "      <th>868</th>\n",
              "      <td>Hilton</td>\n",
              "      <td>41</td>\n",
              "      <td>21000</td>\n",
              "      <td>Brazil</td>\n",
              "    </tr>\n",
              "    <tr>\n",
              "      <th>3706</th>\n",
              "      <td>C. Lucchetti</td>\n",
              "      <td>41</td>\n",
              "      <td>5000</td>\n",
              "      <td>Argentina</td>\n",
              "    </tr>\n",
              "    <tr>\n",
              "      <th>10665</th>\n",
              "      <td>F. Kippe</td>\n",
              "      <td>41</td>\n",
              "      <td>1000</td>\n",
              "      <td>Norway</td>\n",
              "    </tr>\n",
              "  </tbody>\n",
              "</table>\n",
              "</div>"
            ],
            "text/plain": [
              "         short_name  age  wage_eur nationality\n",
              "200       G. Buffon   41     58000       Italy\n",
              "868          Hilton   41     21000      Brazil\n",
              "3706   C. Lucchetti   41      5000   Argentina\n",
              "10665      F. Kippe   41      1000      Norway"
            ]
          },
          "execution_count": 65,
          "metadata": {},
          "output_type": "execute_result"
        }
      ],
      "source": [
        "df[[\"short_name\", \"age\",\"wage_eur\", \"nationality\"]][df[\"age\"]==41]"
      ]
    },
    {
      "cell_type": "code",
      "execution_count": 66,
      "metadata": {
        "colab": {
          "base_uri": "https://localhost:8080/",
          "height": 529
        },
        "id": "klChAaTfPKC7",
        "outputId": "7ce7d484-3935-494c-e4ed-c1323fe8fb24"
      },
      "outputs": [
        {
          "data": {
            "image/png": "[encoded data removed]",
            "text/plain": [
              "<Figure size 1000x800 with 1 Axes>"
            ]
          },
          "metadata": {},
          "output_type": "display_data"
        }
      ],
      "source": [
        "plt.figure(figsize= (10,8))\n",
        "temp_df = df.groupby(\"team_position\")[\"wage_eur\"].mean().reset_index()\n",
        "sns.barplot(\n",
        "    data = temp_df,\n",
        "    x = \"team_position\",\n",
        "    y = \"wage_eur\"    \n",
        ")\n",
        "plt.xticks(rotation= 90);\n",
        "plt.title(\"Team Position vs Wage EUR\", fontsize = 15, weight = \"bold\");"
      ]
    },
    {
      "cell_type": "code",
      "execution_count": 67,
      "metadata": {
        "colab": {
          "base_uri": "https://localhost:8080/"
        },
        "id": "FOsHfRWgviKr",
        "outputId": "a904ef87-4ee0-4761-822b-cd2c04e01da0"
      },
      "outputs": [
        {
          "data": {
            "text/plain": [
              "team_position\n",
              "CAM     311\n",
              "CB      100\n",
              "CDM     181\n",
              "CF       14\n",
              "CM       76\n",
              "GK      662\n",
              "LAM      23\n",
              "LB      560\n",
              "LCB     660\n",
              "LCM     411\n",
              "LDM     242\n",
              "LF       19\n",
              "LM      398\n",
              "LS      195\n",
              "LW      162\n",
              "LWB      58\n",
              "RAM      23\n",
              "RB      560\n",
              "RCB     660\n",
              "RCM     411\n",
              "RDM     244\n",
              "RES    2958\n",
              "RF       19\n",
              "RM      399\n",
              "RS      195\n",
              "RW      161\n",
              "RWB      58\n",
              "ST      458\n",
              "SUB    7820\n",
              "Name: wage_eur, dtype: int64"
            ]
          },
          "execution_count": 67,
          "metadata": {},
          "output_type": "execute_result"
        }
      ],
      "source": [
        "temp_df = df.groupby(\"team_position\")[\"wage_eur\"].count()\n",
        "temp_df"
      ]
    },
    {
      "cell_type": "code",
      "execution_count": 68,
      "metadata": {
        "colab": {
          "base_uri": "https://localhost:8080/",
          "height": 488
        },
        "id": "ARB_uXq0QR0S",
        "outputId": "2f0dcf05-1f88-41f0-be25-b777b50e7afa"
      },
      "outputs": [
        {
          "data": {
            "text/html": [
              "<div>\n",
              "<style scoped>\n",
              "    .dataframe tbody tr th:only-of-type {\n",
              "        vertical-align: middle;\n",
              "    }\n",
              "\n",
              "    .dataframe tbody tr th {\n",
              "        vertical-align: top;\n",
              "    }\n",
              "\n",
              "    .dataframe thead th {\n",
              "        text-align: right;\n",
              "    }\n",
              "</style>\n",
              "<table border=\"1\" class=\"dataframe\">\n",
              "  <thead>\n",
              "    <tr style=\"text-align: right;\">\n",
              "      <th></th>\n",
              "      <th>short_name</th>\n",
              "      <th>team_position</th>\n",
              "      <th>wage_eur</th>\n",
              "      <th>value_usd</th>\n",
              "    </tr>\n",
              "  </thead>\n",
              "  <tbody>\n",
              "    <tr>\n",
              "      <th>46</th>\n",
              "      <td>K. Benzema</td>\n",
              "      <td>CF</td>\n",
              "      <td>285000</td>\n",
              "      <td>49050000.0</td>\n",
              "    </tr>\n",
              "    <tr>\n",
              "      <th>63</th>\n",
              "      <td>Roberto Firmino</td>\n",
              "      <td>CF</td>\n",
              "      <td>170000</td>\n",
              "      <td>56680000.0</td>\n",
              "    </tr>\n",
              "    <tr>\n",
              "      <th>434</th>\n",
              "      <td>J. Correa</td>\n",
              "      <td>CF</td>\n",
              "      <td>53000</td>\n",
              "      <td>21800000.0</td>\n",
              "    </tr>\n",
              "    <tr>\n",
              "      <th>651</th>\n",
              "      <td>J. King</td>\n",
              "      <td>CF</td>\n",
              "      <td>77000</td>\n",
              "      <td>15805000.0</td>\n",
              "    </tr>\n",
              "    <tr>\n",
              "      <th>741</th>\n",
              "      <td>Dyego Sousa</td>\n",
              "      <td>CF</td>\n",
              "      <td>23000</td>\n",
              "      <td>13625000.0</td>\n",
              "    </tr>\n",
              "    <tr>\n",
              "      <th>862</th>\n",
              "      <td>C. Tévez</td>\n",
              "      <td>CF</td>\n",
              "      <td>19000</td>\n",
              "      <td>4905000.0</td>\n",
              "    </tr>\n",
              "    <tr>\n",
              "      <th>1410</th>\n",
              "      <td>J. Campbell</td>\n",
              "      <td>CF</td>\n",
              "      <td>32000</td>\n",
              "      <td>9810000.0</td>\n",
              "    </tr>\n",
              "    <tr>\n",
              "      <th>1531</th>\n",
              "      <td>Y. Ōsako</td>\n",
              "      <td>CF</td>\n",
              "      <td>30000</td>\n",
              "      <td>8175000.0</td>\n",
              "    </tr>\n",
              "    <tr>\n",
              "      <th>2950</th>\n",
              "      <td>Lee Jae Sung</td>\n",
              "      <td>CF</td>\n",
              "      <td>13000</td>\n",
              "      <td>5123000.0</td>\n",
              "    </tr>\n",
              "    <tr>\n",
              "      <th>5484</th>\n",
              "      <td>M. Vilhjálmsson</td>\n",
              "      <td>CF</td>\n",
              "      <td>4000</td>\n",
              "      <td>1526000.0</td>\n",
              "    </tr>\n",
              "    <tr>\n",
              "      <th>6676</th>\n",
              "      <td>M. Damsgaard</td>\n",
              "      <td>CF</td>\n",
              "      <td>2000</td>\n",
              "      <td>1635000.0</td>\n",
              "    </tr>\n",
              "    <tr>\n",
              "      <th>7072</th>\n",
              "      <td>S. Bguir</td>\n",
              "      <td>CF</td>\n",
              "      <td>8000</td>\n",
              "      <td>1199000.0</td>\n",
              "    </tr>\n",
              "    <tr>\n",
              "      <th>7646</th>\n",
              "      <td>H. Okuno</td>\n",
              "      <td>CF</td>\n",
              "      <td>4000</td>\n",
              "      <td>926500.0</td>\n",
              "    </tr>\n",
              "    <tr>\n",
              "      <th>10459</th>\n",
              "      <td>P. Schmidt</td>\n",
              "      <td>CF</td>\n",
              "      <td>4000</td>\n",
              "      <td>763000.0</td>\n",
              "    </tr>\n",
              "  </tbody>\n",
              "</table>\n",
              "</div>"
            ],
            "text/plain": [
              "            short_name team_position  wage_eur   value_usd\n",
              "46          K. Benzema            CF    285000  49050000.0\n",
              "63     Roberto Firmino            CF    170000  56680000.0\n",
              "434          J. Correa            CF     53000  21800000.0\n",
              "651            J. King            CF     77000  15805000.0\n",
              "741        Dyego Sousa            CF     23000  13625000.0\n",
              "862           C. Tévez            CF     19000   4905000.0\n",
              "1410       J. Campbell            CF     32000   9810000.0\n",
              "1531          Y. Ōsako            CF     30000   8175000.0\n",
              "2950      Lee Jae Sung            CF     13000   5123000.0\n",
              "5484   M. Vilhjálmsson            CF      4000   1526000.0\n",
              "6676      M. Damsgaard            CF      2000   1635000.0\n",
              "7072          S. Bguir            CF      8000   1199000.0\n",
              "7646          H. Okuno            CF      4000    926500.0\n",
              "10459       P. Schmidt            CF      4000    763000.0"
            ]
          },
          "execution_count": 68,
          "metadata": {},
          "output_type": "execute_result"
        }
      ],
      "source": [
        "df[[\"short_name\", \"team_position\", \"wage_eur\", \"value_usd\"]][df[\"team_position\"]==\"CF\"]"
      ]
    },
    {
      "cell_type": "code",
      "execution_count": 69,
      "metadata": {
        "colab": {
          "base_uri": "https://localhost:8080/",
          "height": 484
        },
        "id": "JHs4jiZbPZYa",
        "outputId": "7b01210e-3c80-4327-a586-82b77cb04d64"
      },
      "outputs": [
        {
          "data": {
            "image/png": "[encoded data removed]",
            "text/plain": [
              "<Figure size 1000x800 with 1 Axes>"
            ]
          },
          "metadata": {},
          "output_type": "display_data"
        }
      ],
      "source": [
        "plt.figure(figsize= (10,8))\n",
        "temp_df = df.groupby(\"club\")[\"value_usd\"].sum().sort_values(ascending = False)[:10].reset_index()\n",
        "\n",
        "colors = sns.color_palette('pastel')\n",
        "\n",
        "plt.pie(temp_df[\"value_usd\"], labels = temp_df[\"club\"], colors = colors, autopct='%.2f%%')\n",
        "plt.title(\"Top 10 Clubs Spent\", fontsize = 15, weight = \"bold\");"
      ]
    },
    {
      "cell_type": "code",
      "execution_count": 70,
      "metadata": {
        "id": "YbZ0AZMQT50n"
      },
      "outputs": [],
      "source": [
        "players20_updated = df.to_csv(\"players20_updated\")"
      ]
    }
  ],
  "metadata": {
    "colab": {
      "collapsed_sections": [
        "98eBBIRGsRGd"
      ],
      "provenance": []
    },
    "kernelspec": {
      "display_name": "Python 3",
      "name": "python3"
    },
    "language_info": {
      "codemirror_mode": {
        "name": "ipython",
        "version": 3
      },
      "file_extension": ".py",
      "mimetype": "text/x-python",
      "name": "python",
      "nbconvert_exporter": "python",
      "pygments_lexer": "ipython3",
      "version": "3.9.13"
    }
  },
  "nbformat": 4,
  "nbformat_minor": 0
}
